{
  "nbformat": 4,
  "nbformat_minor": 0,
  "metadata": {
    "colab": {
      "name": "rakhimkulova_aliia_fastfood_analysis_.ipynb",
      "provenance": [],
      "collapsed_sections": []
    },
    "kernelspec": {
      "name": "python3",
      "display_name": "Python 3"
    },
    "language_info": {
      "name": "python"
    }
  },
  "cells": [
    {
      "cell_type": "markdown",
      "source": [
        "***Fast food reviews analysis***"
      ],
      "metadata": {
        "id": "v-tpL3CPHXll"
      }
    },
    {
      "cell_type": "markdown",
      "source": [
        "For my analysis I used different datasets of fastfood and parsed them from Appstore"
      ],
      "metadata": {
        "id": "EhLD1_hOHiNb"
      }
    },
    {
      "cell_type": "markdown",
      "source": [
        "Parsing of datasets"
      ],
      "metadata": {
        "id": "ZURSbGs-AXdd"
      }
    },
    {
      "cell_type": "code",
      "source": [
        "!pip install app_store_scraper"
      ],
      "metadata": {
        "colab": {
          "base_uri": "https://localhost:8080/"
        },
        "id": "b2fQ3ebstIlH",
        "outputId": "b58fde69-d167-4ea0-fd9e-bb50ef2a7ead"
      },
      "execution_count": 1,
      "outputs": [
        {
          "output_type": "stream",
          "name": "stdout",
          "text": [
            "Collecting app_store_scraper\n",
            "  Downloading app_store_scraper-0.3.5-py3-none-any.whl (8.3 kB)\n",
            "Requirement already satisfied: requests==2.23.0 in /usr/local/lib/python3.7/dist-packages (from app_store_scraper) (2.23.0)\n",
            "Requirement already satisfied: chardet<4,>=3.0.2 in /usr/local/lib/python3.7/dist-packages (from requests==2.23.0->app_store_scraper) (3.0.4)\n",
            "Requirement already satisfied: idna<3,>=2.5 in /usr/local/lib/python3.7/dist-packages (from requests==2.23.0->app_store_scraper) (2.10)\n",
            "Requirement already satisfied: certifi>=2017.4.17 in /usr/local/lib/python3.7/dist-packages (from requests==2.23.0->app_store_scraper) (2021.10.8)\n",
            "Requirement already satisfied: urllib3!=1.25.0,!=1.25.1,<1.26,>=1.21.1 in /usr/local/lib/python3.7/dist-packages (from requests==2.23.0->app_store_scraper) (1.24.3)\n",
            "Installing collected packages: app-store-scraper\n",
            "Successfully installed app-store-scraper-0.3.5\n"
          ]
        }
      ]
    },
    {
      "cell_type": "code",
      "source": [
        "from app_store_scraper import AppStore \n",
        "import pandas as pd \n",
        "import numpy as np\n",
        "import json\n",
        "mcd = AppStore(country=\"us\", app_name=\"McDonald's\") \n",
        "mcd.review(how_many=200)"
      ],
      "metadata": {
        "colab": {
          "base_uri": "https://localhost:8080/"
        },
        "id": "IMSeAomZtgm6",
        "outputId": "4f73b022-a415-4fec-aa4f-24a46c77cafd"
      },
      "execution_count": 2,
      "outputs": [
        {
          "output_type": "stream",
          "name": "stderr",
          "text": [
            "2022-03-26 11:16:23,181 [INFO] Base - Searching for app id\n",
            "2022-03-26 11:16:25,779 [INFO] Base - Initialised: AppStore('us', 'mcdonald-s', 922103212)\n",
            "2022-03-26 11:16:25,780 [INFO] Base - Ready to fetch reviews from: https://apps.apple.com/us/app/mcdonald-s/id922103212\n",
            "2022-03-26 11:16:27,591 [INFO] Base - [id:922103212] Fetched 200 reviews (200 fetched in total)\n"
          ]
        }
      ]
    },
    {
      "cell_type": "code",
      "source": [
        "df = pd.DataFrame(np.array(mcd.reviews),columns=['review']) \n",
        "df2 = df.join(pd.DataFrame(df.pop('review').tolist())) \n",
        "df2['Company_name'] = ['McDonalds']*200\n",
        "df2.head()"
      ],
      "metadata": {
        "colab": {
          "base_uri": "https://localhost:8080/",
          "height": 337
        },
        "id": "jU2hBr0WtoM-",
        "outputId": "800d192e-7e21-400f-f893-4a09c6a8e370"
      },
      "execution_count": 3,
      "outputs": [
        {
          "output_type": "execute_result",
          "data": {
            "text/plain": [
              "                 date  isEdited  \\\n",
              "0 2020-04-18 15:23:05     False   \n",
              "1 2021-12-10 20:01:08     False   \n",
              "2 2020-07-02 13:47:03     False   \n",
              "3 2021-08-11 15:33:01     False   \n",
              "4 2021-04-16 17:23:43     False   \n",
              "\n",
              "                                              review         userName  \\\n",
              "0  This app is better than most fast food apps wh...  FamilyMoji Idea   \n",
              "1  I’m a mega coupon fanatic. Every time I go out...    yelpcertified   \n",
              "2  I work at a large hospital and walk by McDonal...      Christa@TGH   \n",
              "3  I recently had to place an order three times b...         Jennysub   \n",
              "4  I don’t even know what more to do about this a...      Ashhart1020   \n",
              "\n",
              "                                   developerResponse  rating  \\\n",
              "0  {'id': 14762247, 'body': 'We're sorry about yo...       5   \n",
              "1                                                NaN       5   \n",
              "2                                                NaN       5   \n",
              "3                                                NaN       2   \n",
              "4                                                NaN       1   \n",
              "\n",
              "                            title Company_name  \n",
              "0            Glitches to be Fixed    McDonalds  \n",
              "1  This app has lost it’s purpose    McDonalds  \n",
              "2                Terrible service    McDonalds  \n",
              "3      Don’t turn your screen off    McDonalds  \n",
              "4      Unable to Even Use the App    McDonalds  "
            ],
            "text/html": [
              "\n",
              "  <div id=\"df-dd9f710d-6b77-412f-aff3-ffe38e418aaf\">\n",
              "    <div class=\"colab-df-container\">\n",
              "      <div>\n",
              "<style scoped>\n",
              "    .dataframe tbody tr th:only-of-type {\n",
              "        vertical-align: middle;\n",
              "    }\n",
              "\n",
              "    .dataframe tbody tr th {\n",
              "        vertical-align: top;\n",
              "    }\n",
              "\n",
              "    .dataframe thead th {\n",
              "        text-align: right;\n",
              "    }\n",
              "</style>\n",
              "<table border=\"1\" class=\"dataframe\">\n",
              "  <thead>\n",
              "    <tr style=\"text-align: right;\">\n",
              "      <th></th>\n",
              "      <th>date</th>\n",
              "      <th>isEdited</th>\n",
              "      <th>review</th>\n",
              "      <th>userName</th>\n",
              "      <th>developerResponse</th>\n",
              "      <th>rating</th>\n",
              "      <th>title</th>\n",
              "      <th>Company_name</th>\n",
              "    </tr>\n",
              "  </thead>\n",
              "  <tbody>\n",
              "    <tr>\n",
              "      <th>0</th>\n",
              "      <td>2020-04-18 15:23:05</td>\n",
              "      <td>False</td>\n",
              "      <td>This app is better than most fast food apps wh...</td>\n",
              "      <td>FamilyMoji Idea</td>\n",
              "      <td>{'id': 14762247, 'body': 'We're sorry about yo...</td>\n",
              "      <td>5</td>\n",
              "      <td>Glitches to be Fixed</td>\n",
              "      <td>McDonalds</td>\n",
              "    </tr>\n",
              "    <tr>\n",
              "      <th>1</th>\n",
              "      <td>2021-12-10 20:01:08</td>\n",
              "      <td>False</td>\n",
              "      <td>I’m a mega coupon fanatic. Every time I go out...</td>\n",
              "      <td>yelpcertified</td>\n",
              "      <td>NaN</td>\n",
              "      <td>5</td>\n",
              "      <td>This app has lost it’s purpose</td>\n",
              "      <td>McDonalds</td>\n",
              "    </tr>\n",
              "    <tr>\n",
              "      <th>2</th>\n",
              "      <td>2020-07-02 13:47:03</td>\n",
              "      <td>False</td>\n",
              "      <td>I work at a large hospital and walk by McDonal...</td>\n",
              "      <td>Christa@TGH</td>\n",
              "      <td>NaN</td>\n",
              "      <td>5</td>\n",
              "      <td>Terrible service</td>\n",
              "      <td>McDonalds</td>\n",
              "    </tr>\n",
              "    <tr>\n",
              "      <th>3</th>\n",
              "      <td>2021-08-11 15:33:01</td>\n",
              "      <td>False</td>\n",
              "      <td>I recently had to place an order three times b...</td>\n",
              "      <td>Jennysub</td>\n",
              "      <td>NaN</td>\n",
              "      <td>2</td>\n",
              "      <td>Don’t turn your screen off</td>\n",
              "      <td>McDonalds</td>\n",
              "    </tr>\n",
              "    <tr>\n",
              "      <th>4</th>\n",
              "      <td>2021-04-16 17:23:43</td>\n",
              "      <td>False</td>\n",
              "      <td>I don’t even know what more to do about this a...</td>\n",
              "      <td>Ashhart1020</td>\n",
              "      <td>NaN</td>\n",
              "      <td>1</td>\n",
              "      <td>Unable to Even Use the App</td>\n",
              "      <td>McDonalds</td>\n",
              "    </tr>\n",
              "  </tbody>\n",
              "</table>\n",
              "</div>\n",
              "      <button class=\"colab-df-convert\" onclick=\"convertToInteractive('df-dd9f710d-6b77-412f-aff3-ffe38e418aaf')\"\n",
              "              title=\"Convert this dataframe to an interactive table.\"\n",
              "              style=\"display:none;\">\n",
              "        \n",
              "  <svg xmlns=\"http://www.w3.org/2000/svg\" height=\"24px\"viewBox=\"0 0 24 24\"\n",
              "       width=\"24px\">\n",
              "    <path d=\"M0 0h24v24H0V0z\" fill=\"none\"/>\n",
              "    <path d=\"M18.56 5.44l.94 2.06.94-2.06 2.06-.94-2.06-.94-.94-2.06-.94 2.06-2.06.94zm-11 1L8.5 8.5l.94-2.06 2.06-.94-2.06-.94L8.5 2.5l-.94 2.06-2.06.94zm10 10l.94 2.06.94-2.06 2.06-.94-2.06-.94-.94-2.06-.94 2.06-2.06.94z\"/><path d=\"M17.41 7.96l-1.37-1.37c-.4-.4-.92-.59-1.43-.59-.52 0-1.04.2-1.43.59L10.3 9.45l-7.72 7.72c-.78.78-.78 2.05 0 2.83L4 21.41c.39.39.9.59 1.41.59.51 0 1.02-.2 1.41-.59l7.78-7.78 2.81-2.81c.8-.78.8-2.07 0-2.86zM5.41 20L4 18.59l7.72-7.72 1.47 1.35L5.41 20z\"/>\n",
              "  </svg>\n",
              "      </button>\n",
              "      \n",
              "  <style>\n",
              "    .colab-df-container {\n",
              "      display:flex;\n",
              "      flex-wrap:wrap;\n",
              "      gap: 12px;\n",
              "    }\n",
              "\n",
              "    .colab-df-convert {\n",
              "      background-color: #E8F0FE;\n",
              "      border: none;\n",
              "      border-radius: 50%;\n",
              "      cursor: pointer;\n",
              "      display: none;\n",
              "      fill: #1967D2;\n",
              "      height: 32px;\n",
              "      padding: 0 0 0 0;\n",
              "      width: 32px;\n",
              "    }\n",
              "\n",
              "    .colab-df-convert:hover {\n",
              "      background-color: #E2EBFA;\n",
              "      box-shadow: 0px 1px 2px rgba(60, 64, 67, 0.3), 0px 1px 3px 1px rgba(60, 64, 67, 0.15);\n",
              "      fill: #174EA6;\n",
              "    }\n",
              "\n",
              "    [theme=dark] .colab-df-convert {\n",
              "      background-color: #3B4455;\n",
              "      fill: #D2E3FC;\n",
              "    }\n",
              "\n",
              "    [theme=dark] .colab-df-convert:hover {\n",
              "      background-color: #434B5C;\n",
              "      box-shadow: 0px 1px 3px 1px rgba(0, 0, 0, 0.15);\n",
              "      filter: drop-shadow(0px 1px 2px rgba(0, 0, 0, 0.3));\n",
              "      fill: #FFFFFF;\n",
              "    }\n",
              "  </style>\n",
              "\n",
              "      <script>\n",
              "        const buttonEl =\n",
              "          document.querySelector('#df-dd9f710d-6b77-412f-aff3-ffe38e418aaf button.colab-df-convert');\n",
              "        buttonEl.style.display =\n",
              "          google.colab.kernel.accessAllowed ? 'block' : 'none';\n",
              "\n",
              "        async function convertToInteractive(key) {\n",
              "          const element = document.querySelector('#df-dd9f710d-6b77-412f-aff3-ffe38e418aaf');\n",
              "          const dataTable =\n",
              "            await google.colab.kernel.invokeFunction('convertToInteractive',\n",
              "                                                     [key], {});\n",
              "          if (!dataTable) return;\n",
              "\n",
              "          const docLinkHtml = 'Like what you see? Visit the ' +\n",
              "            '<a target=\"_blank\" href=https://colab.research.google.com/notebooks/data_table.ipynb>data table notebook</a>'\n",
              "            + ' to learn more about interactive tables.';\n",
              "          element.innerHTML = '';\n",
              "          dataTable['output_type'] = 'display_data';\n",
              "          await google.colab.output.renderOutput(dataTable, element);\n",
              "          const docLink = document.createElement('div');\n",
              "          docLink.innerHTML = docLinkHtml;\n",
              "          element.appendChild(docLink);\n",
              "        }\n",
              "      </script>\n",
              "    </div>\n",
              "  </div>\n",
              "  "
            ]
          },
          "metadata": {},
          "execution_count": 3
        }
      ]
    },
    {
      "cell_type": "code",
      "source": [
        "df2.to_csv('/content/data/App Store Review McDonalds.csv')"
      ],
      "metadata": {
        "id": "mCXm1uOf0PMK"
      },
      "execution_count": 4,
      "outputs": []
    },
    {
      "cell_type": "code",
      "source": [
        "pizza = AppStore(country=\"us\", app_name=\"Wendy's\") \n",
        "pizza.review(how_many= 200)"
      ],
      "metadata": {
        "colab": {
          "base_uri": "https://localhost:8080/"
        },
        "id": "HNR9AgMNt2NZ",
        "outputId": "606934dc-76ce-4655-d5aa-1a54728f3d3e"
      },
      "execution_count": 5,
      "outputs": [
        {
          "output_type": "stream",
          "name": "stderr",
          "text": [
            "2022-03-26 11:16:27,773 [INFO] Base - Searching for app id\n",
            "2022-03-26 11:16:30,113 [INFO] Base - Initialised: AppStore('us', 'wendy-s', 540518599)\n",
            "2022-03-26 11:16:30,119 [INFO] Base - Ready to fetch reviews from: https://apps.apple.com/us/app/wendy-s/id540518599\n",
            "2022-03-26 11:16:31,302 [INFO] Base - [id:540518599] Fetched 200 reviews (200 fetched in total)\n"
          ]
        }
      ]
    },
    {
      "cell_type": "code",
      "source": [
        "df = pd.DataFrame(np.array(pizza.reviews),columns=['review']) \n",
        "df2 = df.join(pd.DataFrame(df.pop('review').tolist())) \n",
        "df2['Company_name'] = ['Wendys']*200\n",
        "df2.head()"
      ],
      "metadata": {
        "colab": {
          "base_uri": "https://localhost:8080/",
          "height": 206
        },
        "id": "HHqdkx_wuWSv",
        "outputId": "c124f4f9-dae8-41a2-8626-711e258008c7"
      },
      "execution_count": 6,
      "outputs": [
        {
          "output_type": "execute_result",
          "data": {
            "text/plain": [
              "                                 title  \\\n",
              "0        Don’t usually leave reviews..   \n",
              "1   Good when works  but needs support   \n",
              "2    A bad app looks worst than no app   \n",
              "3  Horrible App! Bad Customer Service!   \n",
              "4                             Location   \n",
              "\n",
              "                                              review  rating       userName  \\\n",
              "0  I’ve used a lot of these apps and while I coul...       5  neilhatestech   \n",
              "1  I been using this app for about a year and for...       2   Sick-Of-Citi   \n",
              "2  For the love of god, if another food company c...       1      afitz 200   \n",
              "3  I ordered through their app and when I got to ...       1          Viozu   \n",
              "4  So far the app works really well, it’s does wh...       3  BurnedPheonix   \n",
              "\n",
              "                 date  isEdited developerResponse Company_name  \n",
              "0 2021-11-04 03:23:34     False               NaN       Wendys  \n",
              "1 2021-12-14 19:15:48     False               NaN       Wendys  \n",
              "2 2022-02-23 23:53:58     False               NaN       Wendys  \n",
              "3 2021-05-12 17:00:01     False               NaN       Wendys  \n",
              "4 2021-11-23 16:12:33     False               NaN       Wendys  "
            ],
            "text/html": [
              "\n",
              "  <div id=\"df-7604ba16-75bd-47d5-aefe-3fae2ad6c5c4\">\n",
              "    <div class=\"colab-df-container\">\n",
              "      <div>\n",
              "<style scoped>\n",
              "    .dataframe tbody tr th:only-of-type {\n",
              "        vertical-align: middle;\n",
              "    }\n",
              "\n",
              "    .dataframe tbody tr th {\n",
              "        vertical-align: top;\n",
              "    }\n",
              "\n",
              "    .dataframe thead th {\n",
              "        text-align: right;\n",
              "    }\n",
              "</style>\n",
              "<table border=\"1\" class=\"dataframe\">\n",
              "  <thead>\n",
              "    <tr style=\"text-align: right;\">\n",
              "      <th></th>\n",
              "      <th>title</th>\n",
              "      <th>review</th>\n",
              "      <th>rating</th>\n",
              "      <th>userName</th>\n",
              "      <th>date</th>\n",
              "      <th>isEdited</th>\n",
              "      <th>developerResponse</th>\n",
              "      <th>Company_name</th>\n",
              "    </tr>\n",
              "  </thead>\n",
              "  <tbody>\n",
              "    <tr>\n",
              "      <th>0</th>\n",
              "      <td>Don’t usually leave reviews..</td>\n",
              "      <td>I’ve used a lot of these apps and while I coul...</td>\n",
              "      <td>5</td>\n",
              "      <td>neilhatestech</td>\n",
              "      <td>2021-11-04 03:23:34</td>\n",
              "      <td>False</td>\n",
              "      <td>NaN</td>\n",
              "      <td>Wendys</td>\n",
              "    </tr>\n",
              "    <tr>\n",
              "      <th>1</th>\n",
              "      <td>Good when works  but needs support</td>\n",
              "      <td>I been using this app for about a year and for...</td>\n",
              "      <td>2</td>\n",
              "      <td>Sick-Of-Citi</td>\n",
              "      <td>2021-12-14 19:15:48</td>\n",
              "      <td>False</td>\n",
              "      <td>NaN</td>\n",
              "      <td>Wendys</td>\n",
              "    </tr>\n",
              "    <tr>\n",
              "      <th>2</th>\n",
              "      <td>A bad app looks worst than no app</td>\n",
              "      <td>For the love of god, if another food company c...</td>\n",
              "      <td>1</td>\n",
              "      <td>afitz 200</td>\n",
              "      <td>2022-02-23 23:53:58</td>\n",
              "      <td>False</td>\n",
              "      <td>NaN</td>\n",
              "      <td>Wendys</td>\n",
              "    </tr>\n",
              "    <tr>\n",
              "      <th>3</th>\n",
              "      <td>Horrible App! Bad Customer Service!</td>\n",
              "      <td>I ordered through their app and when I got to ...</td>\n",
              "      <td>1</td>\n",
              "      <td>Viozu</td>\n",
              "      <td>2021-05-12 17:00:01</td>\n",
              "      <td>False</td>\n",
              "      <td>NaN</td>\n",
              "      <td>Wendys</td>\n",
              "    </tr>\n",
              "    <tr>\n",
              "      <th>4</th>\n",
              "      <td>Location</td>\n",
              "      <td>So far the app works really well, it’s does wh...</td>\n",
              "      <td>3</td>\n",
              "      <td>BurnedPheonix</td>\n",
              "      <td>2021-11-23 16:12:33</td>\n",
              "      <td>False</td>\n",
              "      <td>NaN</td>\n",
              "      <td>Wendys</td>\n",
              "    </tr>\n",
              "  </tbody>\n",
              "</table>\n",
              "</div>\n",
              "      <button class=\"colab-df-convert\" onclick=\"convertToInteractive('df-7604ba16-75bd-47d5-aefe-3fae2ad6c5c4')\"\n",
              "              title=\"Convert this dataframe to an interactive table.\"\n",
              "              style=\"display:none;\">\n",
              "        \n",
              "  <svg xmlns=\"http://www.w3.org/2000/svg\" height=\"24px\"viewBox=\"0 0 24 24\"\n",
              "       width=\"24px\">\n",
              "    <path d=\"M0 0h24v24H0V0z\" fill=\"none\"/>\n",
              "    <path d=\"M18.56 5.44l.94 2.06.94-2.06 2.06-.94-2.06-.94-.94-2.06-.94 2.06-2.06.94zm-11 1L8.5 8.5l.94-2.06 2.06-.94-2.06-.94L8.5 2.5l-.94 2.06-2.06.94zm10 10l.94 2.06.94-2.06 2.06-.94-2.06-.94-.94-2.06-.94 2.06-2.06.94z\"/><path d=\"M17.41 7.96l-1.37-1.37c-.4-.4-.92-.59-1.43-.59-.52 0-1.04.2-1.43.59L10.3 9.45l-7.72 7.72c-.78.78-.78 2.05 0 2.83L4 21.41c.39.39.9.59 1.41.59.51 0 1.02-.2 1.41-.59l7.78-7.78 2.81-2.81c.8-.78.8-2.07 0-2.86zM5.41 20L4 18.59l7.72-7.72 1.47 1.35L5.41 20z\"/>\n",
              "  </svg>\n",
              "      </button>\n",
              "      \n",
              "  <style>\n",
              "    .colab-df-container {\n",
              "      display:flex;\n",
              "      flex-wrap:wrap;\n",
              "      gap: 12px;\n",
              "    }\n",
              "\n",
              "    .colab-df-convert {\n",
              "      background-color: #E8F0FE;\n",
              "      border: none;\n",
              "      border-radius: 50%;\n",
              "      cursor: pointer;\n",
              "      display: none;\n",
              "      fill: #1967D2;\n",
              "      height: 32px;\n",
              "      padding: 0 0 0 0;\n",
              "      width: 32px;\n",
              "    }\n",
              "\n",
              "    .colab-df-convert:hover {\n",
              "      background-color: #E2EBFA;\n",
              "      box-shadow: 0px 1px 2px rgba(60, 64, 67, 0.3), 0px 1px 3px 1px rgba(60, 64, 67, 0.15);\n",
              "      fill: #174EA6;\n",
              "    }\n",
              "\n",
              "    [theme=dark] .colab-df-convert {\n",
              "      background-color: #3B4455;\n",
              "      fill: #D2E3FC;\n",
              "    }\n",
              "\n",
              "    [theme=dark] .colab-df-convert:hover {\n",
              "      background-color: #434B5C;\n",
              "      box-shadow: 0px 1px 3px 1px rgba(0, 0, 0, 0.15);\n",
              "      filter: drop-shadow(0px 1px 2px rgba(0, 0, 0, 0.3));\n",
              "      fill: #FFFFFF;\n",
              "    }\n",
              "  </style>\n",
              "\n",
              "      <script>\n",
              "        const buttonEl =\n",
              "          document.querySelector('#df-7604ba16-75bd-47d5-aefe-3fae2ad6c5c4 button.colab-df-convert');\n",
              "        buttonEl.style.display =\n",
              "          google.colab.kernel.accessAllowed ? 'block' : 'none';\n",
              "\n",
              "        async function convertToInteractive(key) {\n",
              "          const element = document.querySelector('#df-7604ba16-75bd-47d5-aefe-3fae2ad6c5c4');\n",
              "          const dataTable =\n",
              "            await google.colab.kernel.invokeFunction('convertToInteractive',\n",
              "                                                     [key], {});\n",
              "          if (!dataTable) return;\n",
              "\n",
              "          const docLinkHtml = 'Like what you see? Visit the ' +\n",
              "            '<a target=\"_blank\" href=https://colab.research.google.com/notebooks/data_table.ipynb>data table notebook</a>'\n",
              "            + ' to learn more about interactive tables.';\n",
              "          element.innerHTML = '';\n",
              "          dataTable['output_type'] = 'display_data';\n",
              "          await google.colab.output.renderOutput(dataTable, element);\n",
              "          const docLink = document.createElement('div');\n",
              "          docLink.innerHTML = docLinkHtml;\n",
              "          element.appendChild(docLink);\n",
              "        }\n",
              "      </script>\n",
              "    </div>\n",
              "  </div>\n",
              "  "
            ]
          },
          "metadata": {},
          "execution_count": 6
        }
      ]
    },
    {
      "cell_type": "code",
      "source": [
        "df2.to_csv('/content/data/App Store Review Wendys.csv')"
      ],
      "metadata": {
        "id": "GfGmGzRUwqOP"
      },
      "execution_count": 7,
      "outputs": []
    },
    {
      "cell_type": "code",
      "source": [
        "taco = AppStore(country=\"us\", app_name=\"Taco Bell\") \n",
        "taco.review(how_many=200)\n"
      ],
      "metadata": {
        "colab": {
          "base_uri": "https://localhost:8080/"
        },
        "id": "4MVdiaZ7xGPv",
        "outputId": "7190a000-b6c8-48ed-8185-9efa7298ecb6"
      },
      "execution_count": 8,
      "outputs": [
        {
          "output_type": "stream",
          "name": "stderr",
          "text": [
            "2022-03-26 11:16:31,375 [INFO] Base - Searching for app id\n",
            "2022-03-26 11:16:35,704 [INFO] Base - Initialised: AppStore('us', 'taco-bell', 497387361)\n",
            "2022-03-26 11:16:35,706 [INFO] Base - Ready to fetch reviews from: https://apps.apple.com/us/app/taco-bell/id497387361\n",
            "2022-03-26 11:16:37,684 [INFO] Base - [id:497387361] Fetched 200 reviews (200 fetched in total)\n"
          ]
        }
      ]
    },
    {
      "cell_type": "code",
      "source": [
        "df = pd.DataFrame(np.array(taco.reviews),columns=['review']) \n",
        "df2 = df.join(pd.DataFrame(df.pop('review').tolist())) \n",
        "df2['Company_name'] = ['Taco Bell']*200\n",
        "df2.head()"
      ],
      "metadata": {
        "colab": {
          "base_uri": "https://localhost:8080/",
          "height": 337
        },
        "id": "oO_peIhr3TxZ",
        "outputId": "e17b7a5f-b9cf-41c9-f46e-6c3c6eb208cf"
      },
      "execution_count": 9,
      "outputs": [
        {
          "output_type": "execute_result",
          "data": {
            "text/plain": [
              "                                              title  \\\n",
              "0                         Great Update, but beware!   \n",
              "1  Horrible app! Horrible, embarrassing experience!   \n",
              "2                   Way, way better now. Solid app.   \n",
              "3        Charged my card but didn’t place my order?   \n",
              "4                App doesn’t work - unable to login   \n",
              "\n",
              "                                   developerResponse  rating     userName  \\\n",
              "0  {'id': 19703202, 'body': 'Thanks for the 5-sta...       5     cojack03   \n",
              "1  {'id': 3657125, 'body': 'That sounds like a te...       5    Dmarkusss   \n",
              "2                                                NaN       4  Argembarger   \n",
              "3  {'id': 20839769, 'body': 'Please accept our si...       1     User5438   \n",
              "4  {'id': 27264051, 'body': 'We'll look into this...       1    brucato12   \n",
              "\n",
              "   isEdited                                             review  \\\n",
              "0     False  Great Update: Being able to select Easy on the...   \n",
              "1     False  I have never had so many problems with an onli...   \n",
              "2     False  I wrote a snarky review about how much the app...   \n",
              "3     False  This app is by far one of the worst apps for a...   \n",
              "4     False  This is the worst app I have ever used. Multip...   \n",
              "\n",
              "                 date Company_name  \n",
              "0 2020-12-09 22:27:09    Taco Bell  \n",
              "1 2018-05-29 19:37:02    Taco Bell  \n",
              "2 2019-05-27 19:09:22    Taco Bell  \n",
              "3 2021-02-02 03:02:57    Taco Bell  \n",
              "4 2022-01-04 02:39:38    Taco Bell  "
            ],
            "text/html": [
              "\n",
              "  <div id=\"df-15f48ec4-c7b8-423d-ae34-d0fcb8931279\">\n",
              "    <div class=\"colab-df-container\">\n",
              "      <div>\n",
              "<style scoped>\n",
              "    .dataframe tbody tr th:only-of-type {\n",
              "        vertical-align: middle;\n",
              "    }\n",
              "\n",
              "    .dataframe tbody tr th {\n",
              "        vertical-align: top;\n",
              "    }\n",
              "\n",
              "    .dataframe thead th {\n",
              "        text-align: right;\n",
              "    }\n",
              "</style>\n",
              "<table border=\"1\" class=\"dataframe\">\n",
              "  <thead>\n",
              "    <tr style=\"text-align: right;\">\n",
              "      <th></th>\n",
              "      <th>title</th>\n",
              "      <th>developerResponse</th>\n",
              "      <th>rating</th>\n",
              "      <th>userName</th>\n",
              "      <th>isEdited</th>\n",
              "      <th>review</th>\n",
              "      <th>date</th>\n",
              "      <th>Company_name</th>\n",
              "    </tr>\n",
              "  </thead>\n",
              "  <tbody>\n",
              "    <tr>\n",
              "      <th>0</th>\n",
              "      <td>Great Update, but beware!</td>\n",
              "      <td>{'id': 19703202, 'body': 'Thanks for the 5-sta...</td>\n",
              "      <td>5</td>\n",
              "      <td>cojack03</td>\n",
              "      <td>False</td>\n",
              "      <td>Great Update: Being able to select Easy on the...</td>\n",
              "      <td>2020-12-09 22:27:09</td>\n",
              "      <td>Taco Bell</td>\n",
              "    </tr>\n",
              "    <tr>\n",
              "      <th>1</th>\n",
              "      <td>Horrible app! Horrible, embarrassing experience!</td>\n",
              "      <td>{'id': 3657125, 'body': 'That sounds like a te...</td>\n",
              "      <td>5</td>\n",
              "      <td>Dmarkusss</td>\n",
              "      <td>False</td>\n",
              "      <td>I have never had so many problems with an onli...</td>\n",
              "      <td>2018-05-29 19:37:02</td>\n",
              "      <td>Taco Bell</td>\n",
              "    </tr>\n",
              "    <tr>\n",
              "      <th>2</th>\n",
              "      <td>Way, way better now. Solid app.</td>\n",
              "      <td>NaN</td>\n",
              "      <td>4</td>\n",
              "      <td>Argembarger</td>\n",
              "      <td>False</td>\n",
              "      <td>I wrote a snarky review about how much the app...</td>\n",
              "      <td>2019-05-27 19:09:22</td>\n",
              "      <td>Taco Bell</td>\n",
              "    </tr>\n",
              "    <tr>\n",
              "      <th>3</th>\n",
              "      <td>Charged my card but didn’t place my order?</td>\n",
              "      <td>{'id': 20839769, 'body': 'Please accept our si...</td>\n",
              "      <td>1</td>\n",
              "      <td>User5438</td>\n",
              "      <td>False</td>\n",
              "      <td>This app is by far one of the worst apps for a...</td>\n",
              "      <td>2021-02-02 03:02:57</td>\n",
              "      <td>Taco Bell</td>\n",
              "    </tr>\n",
              "    <tr>\n",
              "      <th>4</th>\n",
              "      <td>App doesn’t work - unable to login</td>\n",
              "      <td>{'id': 27264051, 'body': 'We'll look into this...</td>\n",
              "      <td>1</td>\n",
              "      <td>brucato12</td>\n",
              "      <td>False</td>\n",
              "      <td>This is the worst app I have ever used. Multip...</td>\n",
              "      <td>2022-01-04 02:39:38</td>\n",
              "      <td>Taco Bell</td>\n",
              "    </tr>\n",
              "  </tbody>\n",
              "</table>\n",
              "</div>\n",
              "      <button class=\"colab-df-convert\" onclick=\"convertToInteractive('df-15f48ec4-c7b8-423d-ae34-d0fcb8931279')\"\n",
              "              title=\"Convert this dataframe to an interactive table.\"\n",
              "              style=\"display:none;\">\n",
              "        \n",
              "  <svg xmlns=\"http://www.w3.org/2000/svg\" height=\"24px\"viewBox=\"0 0 24 24\"\n",
              "       width=\"24px\">\n",
              "    <path d=\"M0 0h24v24H0V0z\" fill=\"none\"/>\n",
              "    <path d=\"M18.56 5.44l.94 2.06.94-2.06 2.06-.94-2.06-.94-.94-2.06-.94 2.06-2.06.94zm-11 1L8.5 8.5l.94-2.06 2.06-.94-2.06-.94L8.5 2.5l-.94 2.06-2.06.94zm10 10l.94 2.06.94-2.06 2.06-.94-2.06-.94-.94-2.06-.94 2.06-2.06.94z\"/><path d=\"M17.41 7.96l-1.37-1.37c-.4-.4-.92-.59-1.43-.59-.52 0-1.04.2-1.43.59L10.3 9.45l-7.72 7.72c-.78.78-.78 2.05 0 2.83L4 21.41c.39.39.9.59 1.41.59.51 0 1.02-.2 1.41-.59l7.78-7.78 2.81-2.81c.8-.78.8-2.07 0-2.86zM5.41 20L4 18.59l7.72-7.72 1.47 1.35L5.41 20z\"/>\n",
              "  </svg>\n",
              "      </button>\n",
              "      \n",
              "  <style>\n",
              "    .colab-df-container {\n",
              "      display:flex;\n",
              "      flex-wrap:wrap;\n",
              "      gap: 12px;\n",
              "    }\n",
              "\n",
              "    .colab-df-convert {\n",
              "      background-color: #E8F0FE;\n",
              "      border: none;\n",
              "      border-radius: 50%;\n",
              "      cursor: pointer;\n",
              "      display: none;\n",
              "      fill: #1967D2;\n",
              "      height: 32px;\n",
              "      padding: 0 0 0 0;\n",
              "      width: 32px;\n",
              "    }\n",
              "\n",
              "    .colab-df-convert:hover {\n",
              "      background-color: #E2EBFA;\n",
              "      box-shadow: 0px 1px 2px rgba(60, 64, 67, 0.3), 0px 1px 3px 1px rgba(60, 64, 67, 0.15);\n",
              "      fill: #174EA6;\n",
              "    }\n",
              "\n",
              "    [theme=dark] .colab-df-convert {\n",
              "      background-color: #3B4455;\n",
              "      fill: #D2E3FC;\n",
              "    }\n",
              "\n",
              "    [theme=dark] .colab-df-convert:hover {\n",
              "      background-color: #434B5C;\n",
              "      box-shadow: 0px 1px 3px 1px rgba(0, 0, 0, 0.15);\n",
              "      filter: drop-shadow(0px 1px 2px rgba(0, 0, 0, 0.3));\n",
              "      fill: #FFFFFF;\n",
              "    }\n",
              "  </style>\n",
              "\n",
              "      <script>\n",
              "        const buttonEl =\n",
              "          document.querySelector('#df-15f48ec4-c7b8-423d-ae34-d0fcb8931279 button.colab-df-convert');\n",
              "        buttonEl.style.display =\n",
              "          google.colab.kernel.accessAllowed ? 'block' : 'none';\n",
              "\n",
              "        async function convertToInteractive(key) {\n",
              "          const element = document.querySelector('#df-15f48ec4-c7b8-423d-ae34-d0fcb8931279');\n",
              "          const dataTable =\n",
              "            await google.colab.kernel.invokeFunction('convertToInteractive',\n",
              "                                                     [key], {});\n",
              "          if (!dataTable) return;\n",
              "\n",
              "          const docLinkHtml = 'Like what you see? Visit the ' +\n",
              "            '<a target=\"_blank\" href=https://colab.research.google.com/notebooks/data_table.ipynb>data table notebook</a>'\n",
              "            + ' to learn more about interactive tables.';\n",
              "          element.innerHTML = '';\n",
              "          dataTable['output_type'] = 'display_data';\n",
              "          await google.colab.output.renderOutput(dataTable, element);\n",
              "          const docLink = document.createElement('div');\n",
              "          docLink.innerHTML = docLinkHtml;\n",
              "          element.appendChild(docLink);\n",
              "        }\n",
              "      </script>\n",
              "    </div>\n",
              "  </div>\n",
              "  "
            ]
          },
          "metadata": {},
          "execution_count": 9
        }
      ]
    },
    {
      "cell_type": "code",
      "source": [
        "df2.to_csv('/content/data/App Store Review Taco Bell.csv')"
      ],
      "metadata": {
        "id": "rBlLTkgq3YV2"
      },
      "execution_count": 10,
      "outputs": []
    },
    {
      "cell_type": "code",
      "source": [
        "bk = AppStore(country=\"us\", app_name=\"KFC\") \n",
        "bk.review(how_many=200)\n"
      ],
      "metadata": {
        "colab": {
          "base_uri": "https://localhost:8080/"
        },
        "id": "TZ2pQPfp3ZUY",
        "outputId": "794bf2c2-c02d-4bf0-ce91-02b359951f1a"
      },
      "execution_count": 11,
      "outputs": [
        {
          "output_type": "stream",
          "name": "stderr",
          "text": [
            "2022-03-26 11:16:37,856 [INFO] Base - Searching for app id\n",
            "2022-03-26 11:16:39,012 [INFO] Base - Initialised: AppStore('us', 'kfc', 1538999662)\n",
            "2022-03-26 11:16:39,015 [INFO] Base - Ready to fetch reviews from: https://apps.apple.com/us/app/kfc/id1538999662\n",
            "2022-03-26 11:16:40,864 [INFO] Base - [id:1538999662] Fetched 200 reviews (200 fetched in total)\n"
          ]
        }
      ]
    },
    {
      "cell_type": "code",
      "source": [
        "df = pd.DataFrame(np.array(bk.reviews),columns=['review']) \n",
        "df2 = df.join(pd.DataFrame(df.pop('review').tolist())) \n",
        "df2['Company_name'] = ['KFC']*200\n",
        "df2.head()\n",
        "df2.to_csv('/content/data/App Store Review KFC.csv')"
      ],
      "metadata": {
        "id": "BI_qMQf-5rIe"
      },
      "execution_count": 12,
      "outputs": []
    },
    {
      "cell_type": "code",
      "source": [
        "pap = AppStore(country=\"us\", app_name=\"Domino's\") \n",
        "pap.review(how_many=200)"
      ],
      "metadata": {
        "colab": {
          "base_uri": "https://localhost:8080/"
        },
        "id": "xNr3A4rh56Cg",
        "outputId": "6f2c4cd5-ab56-48ad-d19b-5a37a1e03887"
      },
      "execution_count": 13,
      "outputs": [
        {
          "output_type": "stream",
          "name": "stderr",
          "text": [
            "2022-03-26 11:16:40,954 [INFO] Base - Searching for app id\n",
            "2022-03-26 11:16:42,433 [INFO] Base - Initialised: AppStore('us', 'domino-s', 436491861)\n",
            "2022-03-26 11:16:42,438 [INFO] Base - Ready to fetch reviews from: https://apps.apple.com/us/app/domino-s/id436491861\n",
            "2022-03-26 11:16:44,154 [INFO] Base - [id:436491861] Fetched 200 reviews (200 fetched in total)\n"
          ]
        }
      ]
    },
    {
      "cell_type": "code",
      "source": [
        "df = pd.DataFrame(np.array(pap.reviews),columns=['review']) \n",
        "df2 = df.join(pd.DataFrame(df.pop('review').tolist())) \n",
        "df2['Company_name'] = ['Dominos']*200\n",
        "df2.head()\n",
        "df2.to_csv('/content/data/App Store Review Dominos.csv')"
      ],
      "metadata": {
        "id": "hmeNnxZL6DSA"
      },
      "execution_count": 14,
      "outputs": []
    },
    {
      "cell_type": "code",
      "source": [
        "sub = AppStore(country=\"us\", app_name=\"Subway\") \n",
        "sub.review(how_many=200)\n"
      ],
      "metadata": {
        "colab": {
          "base_uri": "https://localhost:8080/"
        },
        "id": "3mndPlo56WnW",
        "outputId": "b105903c-6d62-4f83-abdc-9d24b83e3108"
      },
      "execution_count": 15,
      "outputs": [
        {
          "output_type": "stream",
          "name": "stderr",
          "text": [
            "2022-03-26 11:16:44,223 [INFO] Base - Searching for app id\n",
            "2022-03-26 11:16:46,529 [INFO] Base - Initialised: AppStore('us', 'subway', 901941015)\n",
            "2022-03-26 11:16:46,532 [INFO] Base - Ready to fetch reviews from: https://apps.apple.com/us/app/subway/id901941015\n",
            "2022-03-26 11:16:47,855 [INFO] Base - [id:901941015] Fetched 200 reviews (200 fetched in total)\n"
          ]
        }
      ]
    },
    {
      "cell_type": "code",
      "source": [
        "df = pd.DataFrame(np.array(sub.reviews),columns=['review']) \n",
        "df2 = df.join(pd.DataFrame(df.pop('review').tolist())) \n",
        "df2['Company_name'] = ['Subway']*200\n",
        "df2.head()\n",
        "df2.to_csv('/content/data/App Store Review Subway.csv')"
      ],
      "metadata": {
        "id": "UI72llFk6kHY"
      },
      "execution_count": 16,
      "outputs": []
    },
    {
      "cell_type": "code",
      "source": [
        "krispy = AppStore(country=\"us\", app_name=\"Krispy Kreme\") \n",
        "krispy.review(how_many=200)"
      ],
      "metadata": {
        "colab": {
          "base_uri": "https://localhost:8080/"
        },
        "id": "PQg-1maK6smQ",
        "outputId": "8ce72bfc-24c3-4a1f-e259-6abbd1f21d2e"
      },
      "execution_count": 17,
      "outputs": [
        {
          "output_type": "stream",
          "name": "stderr",
          "text": [
            "2022-03-26 11:16:47,913 [INFO] Base - Searching for app id\n",
            "2022-03-26 11:16:49,731 [INFO] Base - Initialised: AppStore('us', 'krispy-kreme', 482752836)\n",
            "2022-03-26 11:16:49,740 [INFO] Base - Ready to fetch reviews from: https://apps.apple.com/us/app/krispy-kreme/id482752836\n",
            "2022-03-26 11:16:51,557 [INFO] Base - [id:482752836] Fetched 200 reviews (200 fetched in total)\n"
          ]
        }
      ]
    },
    {
      "cell_type": "code",
      "source": [
        "df = pd.DataFrame(np.array(krispy.reviews),columns=['review']) \n",
        "df2 = df.join(pd.DataFrame(df.pop('review').tolist())) \n",
        "df2['Company_name'] = ['Krispy Kreme']*200\n",
        "df2.head()\n",
        "df2.to_csv('/content/data/App Store Review Krispy Kreame.csv')"
      ],
      "metadata": {
        "id": "Wo7pEC7C653M"
      },
      "execution_count": 18,
      "outputs": []
    },
    {
      "cell_type": "code",
      "source": [
        "baskin = AppStore(country=\"us\", app_name=\"Baskin-Robbins\") \n",
        "baskin.review(how_many=200)"
      ],
      "metadata": {
        "colab": {
          "base_uri": "https://localhost:8080/"
        },
        "id": "bDnq-oH27V-p",
        "outputId": "e6944629-2132-48c2-b1a2-9a40f7283452"
      },
      "execution_count": 19,
      "outputs": [
        {
          "output_type": "stream",
          "name": "stderr",
          "text": [
            "2022-03-26 11:16:51,660 [INFO] Base - Searching for app id\n",
            "2022-03-26 11:16:53,255 [INFO] Base - Initialised: AppStore('us', 'baskin-robbins', 1133765058)\n",
            "2022-03-26 11:16:53,257 [INFO] Base - Ready to fetch reviews from: https://apps.apple.com/us/app/baskin-robbins/id1133765058\n",
            "2022-03-26 11:16:54,417 [INFO] Base - [id:1133765058] Fetched 200 reviews (200 fetched in total)\n"
          ]
        }
      ]
    },
    {
      "cell_type": "code",
      "source": [
        "df = pd.DataFrame(np.array(baskin.reviews),columns=['review']) \n",
        "df2 = df.join(pd.DataFrame(df.pop('review').tolist())) \n",
        "df2['Company_name'] = ['Baskin Robbins']*200\n",
        "df2.head()\n",
        "df2.to_csv('/content/data/App Store Review Baskin Robbins.csv')"
      ],
      "metadata": {
        "id": "o8thx51o7eaT"
      },
      "execution_count": 20,
      "outputs": []
    },
    {
      "cell_type": "code",
      "source": [
        "fri = AppStore(country=\"us\", app_name=\"Panda Express\") \n",
        "fri.review(how_many=200)"
      ],
      "metadata": {
        "colab": {
          "base_uri": "https://localhost:8080/"
        },
        "id": "UTm2WVve7mCD",
        "outputId": "e121b1cd-e50b-4491-b956-e1025fb8596d"
      },
      "execution_count": 21,
      "outputs": [
        {
          "output_type": "stream",
          "name": "stderr",
          "text": [
            "2022-03-26 11:16:54,462 [INFO] Base - Searching for app id\n",
            "2022-03-26 11:16:56,475 [INFO] Base - Initialised: AppStore('us', 'panda-express', 903990394)\n",
            "2022-03-26 11:16:56,477 [INFO] Base - Ready to fetch reviews from: https://apps.apple.com/us/app/panda-express/id903990394\n",
            "2022-03-26 11:16:57,676 [INFO] Base - [id:903990394] Fetched 200 reviews (200 fetched in total)\n"
          ]
        }
      ]
    },
    {
      "cell_type": "code",
      "source": [
        "df = pd.DataFrame(np.array(fri.reviews),columns=['review']) \n",
        "df2 = df.join(pd.DataFrame(df.pop('review').tolist())) \n",
        "df2['Company_name'] = ['Panda Express']*200\n",
        "df2.head()\n"
      ],
      "metadata": {
        "colab": {
          "base_uri": "https://localhost:8080/",
          "height": 206
        },
        "id": "DjoYRR-I7_OB",
        "outputId": "79557df3-5b11-4ac8-808c-95b7178b41d8"
      },
      "execution_count": 22,
      "outputs": [
        {
          "output_type": "execute_result",
          "data": {
            "text/plain": [
              "             userName                date  rating  \\\n",
              "0       stinky wasabi 2022-03-02 23:54:36       5   \n",
              "1   adam_army_veteran 2020-05-03 21:01:36       1   \n",
              "2  pissd off customer 2019-07-09 16:03:35       1   \n",
              "3           Dolly7384 2020-05-24 22:23:03       1   \n",
              "4       Paola Velasco 2020-04-07 21:44:02       1   \n",
              "\n",
              "                                              review  \\\n",
              "0  I am a person with cash only who is trying to ...   \n",
              "1  Let me start off by saying how much I do appre...   \n",
              "2  This app has way more stars than it deserves. ...   \n",
              "3  Wow. To start off, my order was messed up by t...   \n",
              "4  I drove to the restaurant, but there was a sig...   \n",
              "\n",
              "                                   title  isEdited   Company_name  \n",
              "0                    Please do cash !!!!     False  Panda Express  \n",
              "1                         Lack of caring     False  Panda Express  \n",
              "2      Poorly designed and nonfunctional     False  Panda Express  \n",
              "3  DO NOT USE THE APP, ORDER WITHOUT IT!     False  Panda Express  \n",
              "4              Family Deal Not Available     False  Panda Express  "
            ],
            "text/html": [
              "\n",
              "  <div id=\"df-856bb269-1251-4cce-a3f7-a407673a66e4\">\n",
              "    <div class=\"colab-df-container\">\n",
              "      <div>\n",
              "<style scoped>\n",
              "    .dataframe tbody tr th:only-of-type {\n",
              "        vertical-align: middle;\n",
              "    }\n",
              "\n",
              "    .dataframe tbody tr th {\n",
              "        vertical-align: top;\n",
              "    }\n",
              "\n",
              "    .dataframe thead th {\n",
              "        text-align: right;\n",
              "    }\n",
              "</style>\n",
              "<table border=\"1\" class=\"dataframe\">\n",
              "  <thead>\n",
              "    <tr style=\"text-align: right;\">\n",
              "      <th></th>\n",
              "      <th>userName</th>\n",
              "      <th>date</th>\n",
              "      <th>rating</th>\n",
              "      <th>review</th>\n",
              "      <th>title</th>\n",
              "      <th>isEdited</th>\n",
              "      <th>Company_name</th>\n",
              "    </tr>\n",
              "  </thead>\n",
              "  <tbody>\n",
              "    <tr>\n",
              "      <th>0</th>\n",
              "      <td>stinky wasabi</td>\n",
              "      <td>2022-03-02 23:54:36</td>\n",
              "      <td>5</td>\n",
              "      <td>I am a person with cash only who is trying to ...</td>\n",
              "      <td>Please do cash !!!!</td>\n",
              "      <td>False</td>\n",
              "      <td>Panda Express</td>\n",
              "    </tr>\n",
              "    <tr>\n",
              "      <th>1</th>\n",
              "      <td>adam_army_veteran</td>\n",
              "      <td>2020-05-03 21:01:36</td>\n",
              "      <td>1</td>\n",
              "      <td>Let me start off by saying how much I do appre...</td>\n",
              "      <td>Lack of caring</td>\n",
              "      <td>False</td>\n",
              "      <td>Panda Express</td>\n",
              "    </tr>\n",
              "    <tr>\n",
              "      <th>2</th>\n",
              "      <td>pissd off customer</td>\n",
              "      <td>2019-07-09 16:03:35</td>\n",
              "      <td>1</td>\n",
              "      <td>This app has way more stars than it deserves. ...</td>\n",
              "      <td>Poorly designed and nonfunctional</td>\n",
              "      <td>False</td>\n",
              "      <td>Panda Express</td>\n",
              "    </tr>\n",
              "    <tr>\n",
              "      <th>3</th>\n",
              "      <td>Dolly7384</td>\n",
              "      <td>2020-05-24 22:23:03</td>\n",
              "      <td>1</td>\n",
              "      <td>Wow. To start off, my order was messed up by t...</td>\n",
              "      <td>DO NOT USE THE APP, ORDER WITHOUT IT!</td>\n",
              "      <td>False</td>\n",
              "      <td>Panda Express</td>\n",
              "    </tr>\n",
              "    <tr>\n",
              "      <th>4</th>\n",
              "      <td>Paola Velasco</td>\n",
              "      <td>2020-04-07 21:44:02</td>\n",
              "      <td>1</td>\n",
              "      <td>I drove to the restaurant, but there was a sig...</td>\n",
              "      <td>Family Deal Not Available</td>\n",
              "      <td>False</td>\n",
              "      <td>Panda Express</td>\n",
              "    </tr>\n",
              "  </tbody>\n",
              "</table>\n",
              "</div>\n",
              "      <button class=\"colab-df-convert\" onclick=\"convertToInteractive('df-856bb269-1251-4cce-a3f7-a407673a66e4')\"\n",
              "              title=\"Convert this dataframe to an interactive table.\"\n",
              "              style=\"display:none;\">\n",
              "        \n",
              "  <svg xmlns=\"http://www.w3.org/2000/svg\" height=\"24px\"viewBox=\"0 0 24 24\"\n",
              "       width=\"24px\">\n",
              "    <path d=\"M0 0h24v24H0V0z\" fill=\"none\"/>\n",
              "    <path d=\"M18.56 5.44l.94 2.06.94-2.06 2.06-.94-2.06-.94-.94-2.06-.94 2.06-2.06.94zm-11 1L8.5 8.5l.94-2.06 2.06-.94-2.06-.94L8.5 2.5l-.94 2.06-2.06.94zm10 10l.94 2.06.94-2.06 2.06-.94-2.06-.94-.94-2.06-.94 2.06-2.06.94z\"/><path d=\"M17.41 7.96l-1.37-1.37c-.4-.4-.92-.59-1.43-.59-.52 0-1.04.2-1.43.59L10.3 9.45l-7.72 7.72c-.78.78-.78 2.05 0 2.83L4 21.41c.39.39.9.59 1.41.59.51 0 1.02-.2 1.41-.59l7.78-7.78 2.81-2.81c.8-.78.8-2.07 0-2.86zM5.41 20L4 18.59l7.72-7.72 1.47 1.35L5.41 20z\"/>\n",
              "  </svg>\n",
              "      </button>\n",
              "      \n",
              "  <style>\n",
              "    .colab-df-container {\n",
              "      display:flex;\n",
              "      flex-wrap:wrap;\n",
              "      gap: 12px;\n",
              "    }\n",
              "\n",
              "    .colab-df-convert {\n",
              "      background-color: #E8F0FE;\n",
              "      border: none;\n",
              "      border-radius: 50%;\n",
              "      cursor: pointer;\n",
              "      display: none;\n",
              "      fill: #1967D2;\n",
              "      height: 32px;\n",
              "      padding: 0 0 0 0;\n",
              "      width: 32px;\n",
              "    }\n",
              "\n",
              "    .colab-df-convert:hover {\n",
              "      background-color: #E2EBFA;\n",
              "      box-shadow: 0px 1px 2px rgba(60, 64, 67, 0.3), 0px 1px 3px 1px rgba(60, 64, 67, 0.15);\n",
              "      fill: #174EA6;\n",
              "    }\n",
              "\n",
              "    [theme=dark] .colab-df-convert {\n",
              "      background-color: #3B4455;\n",
              "      fill: #D2E3FC;\n",
              "    }\n",
              "\n",
              "    [theme=dark] .colab-df-convert:hover {\n",
              "      background-color: #434B5C;\n",
              "      box-shadow: 0px 1px 3px 1px rgba(0, 0, 0, 0.15);\n",
              "      filter: drop-shadow(0px 1px 2px rgba(0, 0, 0, 0.3));\n",
              "      fill: #FFFFFF;\n",
              "    }\n",
              "  </style>\n",
              "\n",
              "      <script>\n",
              "        const buttonEl =\n",
              "          document.querySelector('#df-856bb269-1251-4cce-a3f7-a407673a66e4 button.colab-df-convert');\n",
              "        buttonEl.style.display =\n",
              "          google.colab.kernel.accessAllowed ? 'block' : 'none';\n",
              "\n",
              "        async function convertToInteractive(key) {\n",
              "          const element = document.querySelector('#df-856bb269-1251-4cce-a3f7-a407673a66e4');\n",
              "          const dataTable =\n",
              "            await google.colab.kernel.invokeFunction('convertToInteractive',\n",
              "                                                     [key], {});\n",
              "          if (!dataTable) return;\n",
              "\n",
              "          const docLinkHtml = 'Like what you see? Visit the ' +\n",
              "            '<a target=\"_blank\" href=https://colab.research.google.com/notebooks/data_table.ipynb>data table notebook</a>'\n",
              "            + ' to learn more about interactive tables.';\n",
              "          element.innerHTML = '';\n",
              "          dataTable['output_type'] = 'display_data';\n",
              "          await google.colab.output.renderOutput(dataTable, element);\n",
              "          const docLink = document.createElement('div');\n",
              "          docLink.innerHTML = docLinkHtml;\n",
              "          element.appendChild(docLink);\n",
              "        }\n",
              "      </script>\n",
              "    </div>\n",
              "  </div>\n",
              "  "
            ]
          },
          "metadata": {},
          "execution_count": 22
        }
      ]
    },
    {
      "cell_type": "code",
      "source": [
        "df2.to_csv('/content/data/App Store Review Panda Express.csv')"
      ],
      "metadata": {
        "id": "QUnCuwLVJKj0"
      },
      "execution_count": 23,
      "outputs": []
    },
    {
      "cell_type": "code",
      "source": [
        "fri = AppStore(country=\"us\", app_name=\"Boston Market\") \n",
        "fri.review(how_many=200)"
      ],
      "metadata": {
        "colab": {
          "base_uri": "https://localhost:8080/"
        },
        "id": "N3OuwU_Y9Vl5",
        "outputId": "c9cc6f56-346f-49b0-865a-1d5411ad30e2"
      },
      "execution_count": 24,
      "outputs": [
        {
          "output_type": "stream",
          "name": "stderr",
          "text": [
            "2022-03-26 11:16:57,797 [INFO] Base - Searching for app id\n",
            "2022-03-26 11:16:58,770 [INFO] Base - Initialised: AppStore('us', 'boston-market', 373559901)\n",
            "2022-03-26 11:16:58,772 [INFO] Base - Ready to fetch reviews from: https://apps.apple.com/us/app/boston-market/id373559901\n",
            "2022-03-26 11:16:59,953 [INFO] Base - [id:373559901] Fetched 200 reviews (200 fetched in total)\n"
          ]
        }
      ]
    },
    {
      "cell_type": "code",
      "source": [
        "df = pd.DataFrame(np.array(fri.reviews),columns=['review']) \n",
        "df2 = df.join(pd.DataFrame(df.pop('review').tolist())) \n",
        "df2['Company_name'] = ['Boston Market']*200\n",
        "df2.head()\n",
        "df2.to_csv('/content/data/App Store Review Boston Market.csv')"
      ],
      "metadata": {
        "id": "mWDPfLvt90XE"
      },
      "execution_count": 25,
      "outputs": []
    },
    {
      "cell_type": "code",
      "source": [
        "import pandas as pd    #  pip install pandas\n",
        "from pathlib import Path\n",
        "\n",
        "data_dir = Path(\"/content/data\")\n",
        "\n",
        "df = pd.concat([pd.read_csv(f) for f in data_dir.glob(\"*.csv\")], ignore_index=True)\n",
        "df.to_csv(\"/content/data/result.csv\", index=False)"
      ],
      "metadata": {
        "id": "a6AkTVQY-GQU"
      },
      "execution_count": 26,
      "outputs": []
    },
    {
      "cell_type": "code",
      "source": [
        "df = pd.read_csv('/content/data/result.csv')\n",
        "df.head()\n",
        "df.shape"
      ],
      "metadata": {
        "colab": {
          "base_uri": "https://localhost:8080/"
        },
        "id": "rL6znQtv44Wa",
        "outputId": "f2f9e114-0652-43fd-8e57-b0b1aa79c2d2"
      },
      "execution_count": 27,
      "outputs": [
        {
          "output_type": "execute_result",
          "data": {
            "text/plain": [
              "(2000, 9)"
            ]
          },
          "metadata": {},
          "execution_count": 27
        }
      ]
    },
    {
      "cell_type": "code",
      "source": [
        "df = df.drop('Unnamed: 0', axis=1)"
      ],
      "metadata": {
        "id": "yj853mSxOjrV"
      },
      "execution_count": 28,
      "outputs": []
    },
    {
      "cell_type": "code",
      "source": [
        "df"
      ],
      "metadata": {
        "colab": {
          "base_uri": "https://localhost:8080/",
          "height": 641
        },
        "id": "J9PMWvYmOZ4f",
        "outputId": "2c39115e-ff0e-458a-8255-f3a936eb19f4"
      },
      "execution_count": 29,
      "outputs": [
        {
          "output_type": "execute_result",
          "data": {
            "text/plain": [
              "                     date  isEdited  \\\n",
              "0     2020-04-18 15:23:05     False   \n",
              "1     2021-12-10 20:01:08     False   \n",
              "2     2020-07-02 13:47:03     False   \n",
              "3     2021-08-11 15:33:01     False   \n",
              "4     2021-04-16 17:23:43     False   \n",
              "...                   ...       ...   \n",
              "1995  2019-03-06 19:28:21     False   \n",
              "1996  2018-04-24 22:24:59     False   \n",
              "1997  2020-05-08 19:26:06     False   \n",
              "1998  2019-11-01 23:42:51     False   \n",
              "1999  2019-09-16 13:53:14     False   \n",
              "\n",
              "                                                 review           userName  \\\n",
              "0     This app is better than most fast food apps wh...    FamilyMoji Idea   \n",
              "1     I’m a mega coupon fanatic. Every time I go out...      yelpcertified   \n",
              "2     I work at a large hospital and walk by McDonal...        Christa@TGH   \n",
              "3     I recently had to place an order three times b...           Jennysub   \n",
              "4     I don’t even know what more to do about this a...        Ashhart1020   \n",
              "...                                                 ...                ...   \n",
              "1995  Can’t log in, reset and it works in a browser,...         SodaPop678   \n",
              "1996  Need to put merge card available in the app. I...  Win of Crosswords   \n",
              "1997  Tried to redeem my birthday ice cream but ever...             R8NDOM   \n",
              "1998  Kind of useless.. no way to place order. Same ...           Rpmstock   \n",
              "1999          Same issues no ability to merge balance .    Technology 2122   \n",
              "\n",
              "                                      developerResponse  rating  \\\n",
              "0     {'id': 14762247, 'body': \"We're sorry about yo...       5   \n",
              "1                                                   NaN       5   \n",
              "2                                                   NaN       5   \n",
              "3                                                   NaN       2   \n",
              "4                                                   NaN       1   \n",
              "...                                                 ...     ...   \n",
              "1995                                                NaN       1   \n",
              "1996                                                NaN       1   \n",
              "1997                                                NaN       1   \n",
              "1998                                                NaN       1   \n",
              "1999                                                NaN       1   \n",
              "\n",
              "                               title    Company_name  \n",
              "0               Glitches to be Fixed       McDonalds  \n",
              "1     This app has lost it’s purpose       McDonalds  \n",
              "2                   Terrible service       McDonalds  \n",
              "3         Don’t turn your screen off       McDonalds  \n",
              "4         Unable to Even Use the App       McDonalds  \n",
              "...                              ...             ...  \n",
              "1995          Horrible waste of time  Baskin Robbins  \n",
              "1996                 Need to fix app  Baskin Robbins  \n",
              "1997                   App is broken  Baskin Robbins  \n",
              "1998      Doesn’t let order from app  Baskin Robbins  \n",
              "1999   Updated but nothing changed .  Baskin Robbins  \n",
              "\n",
              "[2000 rows x 8 columns]"
            ],
            "text/html": [
              "\n",
              "  <div id=\"df-a82ffb1c-c56e-4054-9a28-43db92107e73\">\n",
              "    <div class=\"colab-df-container\">\n",
              "      <div>\n",
              "<style scoped>\n",
              "    .dataframe tbody tr th:only-of-type {\n",
              "        vertical-align: middle;\n",
              "    }\n",
              "\n",
              "    .dataframe tbody tr th {\n",
              "        vertical-align: top;\n",
              "    }\n",
              "\n",
              "    .dataframe thead th {\n",
              "        text-align: right;\n",
              "    }\n",
              "</style>\n",
              "<table border=\"1\" class=\"dataframe\">\n",
              "  <thead>\n",
              "    <tr style=\"text-align: right;\">\n",
              "      <th></th>\n",
              "      <th>date</th>\n",
              "      <th>isEdited</th>\n",
              "      <th>review</th>\n",
              "      <th>userName</th>\n",
              "      <th>developerResponse</th>\n",
              "      <th>rating</th>\n",
              "      <th>title</th>\n",
              "      <th>Company_name</th>\n",
              "    </tr>\n",
              "  </thead>\n",
              "  <tbody>\n",
              "    <tr>\n",
              "      <th>0</th>\n",
              "      <td>2020-04-18 15:23:05</td>\n",
              "      <td>False</td>\n",
              "      <td>This app is better than most fast food apps wh...</td>\n",
              "      <td>FamilyMoji Idea</td>\n",
              "      <td>{'id': 14762247, 'body': \"We're sorry about yo...</td>\n",
              "      <td>5</td>\n",
              "      <td>Glitches to be Fixed</td>\n",
              "      <td>McDonalds</td>\n",
              "    </tr>\n",
              "    <tr>\n",
              "      <th>1</th>\n",
              "      <td>2021-12-10 20:01:08</td>\n",
              "      <td>False</td>\n",
              "      <td>I’m a mega coupon fanatic. Every time I go out...</td>\n",
              "      <td>yelpcertified</td>\n",
              "      <td>NaN</td>\n",
              "      <td>5</td>\n",
              "      <td>This app has lost it’s purpose</td>\n",
              "      <td>McDonalds</td>\n",
              "    </tr>\n",
              "    <tr>\n",
              "      <th>2</th>\n",
              "      <td>2020-07-02 13:47:03</td>\n",
              "      <td>False</td>\n",
              "      <td>I work at a large hospital and walk by McDonal...</td>\n",
              "      <td>Christa@TGH</td>\n",
              "      <td>NaN</td>\n",
              "      <td>5</td>\n",
              "      <td>Terrible service</td>\n",
              "      <td>McDonalds</td>\n",
              "    </tr>\n",
              "    <tr>\n",
              "      <th>3</th>\n",
              "      <td>2021-08-11 15:33:01</td>\n",
              "      <td>False</td>\n",
              "      <td>I recently had to place an order three times b...</td>\n",
              "      <td>Jennysub</td>\n",
              "      <td>NaN</td>\n",
              "      <td>2</td>\n",
              "      <td>Don’t turn your screen off</td>\n",
              "      <td>McDonalds</td>\n",
              "    </tr>\n",
              "    <tr>\n",
              "      <th>4</th>\n",
              "      <td>2021-04-16 17:23:43</td>\n",
              "      <td>False</td>\n",
              "      <td>I don’t even know what more to do about this a...</td>\n",
              "      <td>Ashhart1020</td>\n",
              "      <td>NaN</td>\n",
              "      <td>1</td>\n",
              "      <td>Unable to Even Use the App</td>\n",
              "      <td>McDonalds</td>\n",
              "    </tr>\n",
              "    <tr>\n",
              "      <th>...</th>\n",
              "      <td>...</td>\n",
              "      <td>...</td>\n",
              "      <td>...</td>\n",
              "      <td>...</td>\n",
              "      <td>...</td>\n",
              "      <td>...</td>\n",
              "      <td>...</td>\n",
              "      <td>...</td>\n",
              "    </tr>\n",
              "    <tr>\n",
              "      <th>1995</th>\n",
              "      <td>2019-03-06 19:28:21</td>\n",
              "      <td>False</td>\n",
              "      <td>Can’t log in, reset and it works in a browser,...</td>\n",
              "      <td>SodaPop678</td>\n",
              "      <td>NaN</td>\n",
              "      <td>1</td>\n",
              "      <td>Horrible waste of time</td>\n",
              "      <td>Baskin Robbins</td>\n",
              "    </tr>\n",
              "    <tr>\n",
              "      <th>1996</th>\n",
              "      <td>2018-04-24 22:24:59</td>\n",
              "      <td>False</td>\n",
              "      <td>Need to put merge card available in the app. I...</td>\n",
              "      <td>Win of Crosswords</td>\n",
              "      <td>NaN</td>\n",
              "      <td>1</td>\n",
              "      <td>Need to fix app</td>\n",
              "      <td>Baskin Robbins</td>\n",
              "    </tr>\n",
              "    <tr>\n",
              "      <th>1997</th>\n",
              "      <td>2020-05-08 19:26:06</td>\n",
              "      <td>False</td>\n",
              "      <td>Tried to redeem my birthday ice cream but ever...</td>\n",
              "      <td>R8NDOM</td>\n",
              "      <td>NaN</td>\n",
              "      <td>1</td>\n",
              "      <td>App is broken</td>\n",
              "      <td>Baskin Robbins</td>\n",
              "    </tr>\n",
              "    <tr>\n",
              "      <th>1998</th>\n",
              "      <td>2019-11-01 23:42:51</td>\n",
              "      <td>False</td>\n",
              "      <td>Kind of useless.. no way to place order. Same ...</td>\n",
              "      <td>Rpmstock</td>\n",
              "      <td>NaN</td>\n",
              "      <td>1</td>\n",
              "      <td>Doesn’t let order from app</td>\n",
              "      <td>Baskin Robbins</td>\n",
              "    </tr>\n",
              "    <tr>\n",
              "      <th>1999</th>\n",
              "      <td>2019-09-16 13:53:14</td>\n",
              "      <td>False</td>\n",
              "      <td>Same issues no ability to merge balance .</td>\n",
              "      <td>Technology 2122</td>\n",
              "      <td>NaN</td>\n",
              "      <td>1</td>\n",
              "      <td>Updated but nothing changed .</td>\n",
              "      <td>Baskin Robbins</td>\n",
              "    </tr>\n",
              "  </tbody>\n",
              "</table>\n",
              "<p>2000 rows × 8 columns</p>\n",
              "</div>\n",
              "      <button class=\"colab-df-convert\" onclick=\"convertToInteractive('df-a82ffb1c-c56e-4054-9a28-43db92107e73')\"\n",
              "              title=\"Convert this dataframe to an interactive table.\"\n",
              "              style=\"display:none;\">\n",
              "        \n",
              "  <svg xmlns=\"http://www.w3.org/2000/svg\" height=\"24px\"viewBox=\"0 0 24 24\"\n",
              "       width=\"24px\">\n",
              "    <path d=\"M0 0h24v24H0V0z\" fill=\"none\"/>\n",
              "    <path d=\"M18.56 5.44l.94 2.06.94-2.06 2.06-.94-2.06-.94-.94-2.06-.94 2.06-2.06.94zm-11 1L8.5 8.5l.94-2.06 2.06-.94-2.06-.94L8.5 2.5l-.94 2.06-2.06.94zm10 10l.94 2.06.94-2.06 2.06-.94-2.06-.94-.94-2.06-.94 2.06-2.06.94z\"/><path d=\"M17.41 7.96l-1.37-1.37c-.4-.4-.92-.59-1.43-.59-.52 0-1.04.2-1.43.59L10.3 9.45l-7.72 7.72c-.78.78-.78 2.05 0 2.83L4 21.41c.39.39.9.59 1.41.59.51 0 1.02-.2 1.41-.59l7.78-7.78 2.81-2.81c.8-.78.8-2.07 0-2.86zM5.41 20L4 18.59l7.72-7.72 1.47 1.35L5.41 20z\"/>\n",
              "  </svg>\n",
              "      </button>\n",
              "      \n",
              "  <style>\n",
              "    .colab-df-container {\n",
              "      display:flex;\n",
              "      flex-wrap:wrap;\n",
              "      gap: 12px;\n",
              "    }\n",
              "\n",
              "    .colab-df-convert {\n",
              "      background-color: #E8F0FE;\n",
              "      border: none;\n",
              "      border-radius: 50%;\n",
              "      cursor: pointer;\n",
              "      display: none;\n",
              "      fill: #1967D2;\n",
              "      height: 32px;\n",
              "      padding: 0 0 0 0;\n",
              "      width: 32px;\n",
              "    }\n",
              "\n",
              "    .colab-df-convert:hover {\n",
              "      background-color: #E2EBFA;\n",
              "      box-shadow: 0px 1px 2px rgba(60, 64, 67, 0.3), 0px 1px 3px 1px rgba(60, 64, 67, 0.15);\n",
              "      fill: #174EA6;\n",
              "    }\n",
              "\n",
              "    [theme=dark] .colab-df-convert {\n",
              "      background-color: #3B4455;\n",
              "      fill: #D2E3FC;\n",
              "    }\n",
              "\n",
              "    [theme=dark] .colab-df-convert:hover {\n",
              "      background-color: #434B5C;\n",
              "      box-shadow: 0px 1px 3px 1px rgba(0, 0, 0, 0.15);\n",
              "      filter: drop-shadow(0px 1px 2px rgba(0, 0, 0, 0.3));\n",
              "      fill: #FFFFFF;\n",
              "    }\n",
              "  </style>\n",
              "\n",
              "      <script>\n",
              "        const buttonEl =\n",
              "          document.querySelector('#df-a82ffb1c-c56e-4054-9a28-43db92107e73 button.colab-df-convert');\n",
              "        buttonEl.style.display =\n",
              "          google.colab.kernel.accessAllowed ? 'block' : 'none';\n",
              "\n",
              "        async function convertToInteractive(key) {\n",
              "          const element = document.querySelector('#df-a82ffb1c-c56e-4054-9a28-43db92107e73');\n",
              "          const dataTable =\n",
              "            await google.colab.kernel.invokeFunction('convertToInteractive',\n",
              "                                                     [key], {});\n",
              "          if (!dataTable) return;\n",
              "\n",
              "          const docLinkHtml = 'Like what you see? Visit the ' +\n",
              "            '<a target=\"_blank\" href=https://colab.research.google.com/notebooks/data_table.ipynb>data table notebook</a>'\n",
              "            + ' to learn more about interactive tables.';\n",
              "          element.innerHTML = '';\n",
              "          dataTable['output_type'] = 'display_data';\n",
              "          await google.colab.output.renderOutput(dataTable, element);\n",
              "          const docLink = document.createElement('div');\n",
              "          docLink.innerHTML = docLinkHtml;\n",
              "          element.appendChild(docLink);\n",
              "        }\n",
              "      </script>\n",
              "    </div>\n",
              "  </div>\n",
              "  "
            ]
          },
          "metadata": {},
          "execution_count": 29
        }
      ]
    },
    {
      "cell_type": "markdown",
      "source": [
        "Wordcount\n",
        "with Spark"
      ],
      "metadata": {
        "id": "vm9xzCcpvT9H"
      }
    },
    {
      "cell_type": "code",
      "source": [
        "!pip install pyspark py4j"
      ],
      "metadata": {
        "colab": {
          "base_uri": "https://localhost:8080/"
        },
        "id": "eIB6jHBjI2ih",
        "outputId": "eeb4e93e-0321-47ba-c9ac-68416950217f"
      },
      "execution_count": 30,
      "outputs": [
        {
          "output_type": "stream",
          "name": "stdout",
          "text": [
            "Collecting pyspark\n",
            "  Downloading pyspark-3.2.1.tar.gz (281.4 MB)\n",
            "\u001b[K     |████████████████████████████████| 281.4 MB 30 kB/s \n",
            "\u001b[?25hCollecting py4j\n",
            "  Downloading py4j-0.10.9.5-py2.py3-none-any.whl (199 kB)\n",
            "\u001b[K     |████████████████████████████████| 199 kB 43.3 MB/s \n",
            "\u001b[?25h  Downloading py4j-0.10.9.3-py2.py3-none-any.whl (198 kB)\n",
            "\u001b[K     |████████████████████████████████| 198 kB 50.4 MB/s \n",
            "\u001b[?25hBuilding wheels for collected packages: pyspark\n",
            "  Building wheel for pyspark (setup.py) ... \u001b[?25l\u001b[?25hdone\n",
            "  Created wheel for pyspark: filename=pyspark-3.2.1-py2.py3-none-any.whl size=281853642 sha256=845f69b303bd9b453458e4384b044c4b6c77d069f4ffb988fc5c6f54b3446fdb\n",
            "  Stored in directory: /root/.cache/pip/wheels/9f/f5/07/7cd8017084dce4e93e84e92efd1e1d5334db05f2e83bcef74f\n",
            "Successfully built pyspark\n",
            "Installing collected packages: py4j, pyspark\n",
            "Successfully installed py4j-0.10.9.3 pyspark-3.2.1\n"
          ]
        }
      ]
    },
    {
      "cell_type": "code",
      "source": [
        "import sys\n",
        " \n",
        "from operator import add\n",
        "from pyspark.sql import SparkSession\n",
        "from pyspark.ml.feature import Tokenizer\n",
        "from pyspark.ml.feature import StopWordsRemover\n",
        "import pyspark.sql.functions as f\n",
        "from pyspark.sql import SparkSession"
      ],
      "metadata": {
        "id": "o3Ke3oeXv6A4"
      },
      "execution_count": 31,
      "outputs": []
    },
    {
      "cell_type": "code",
      "source": [
        "spark = SparkSession.builder.getOrCreate() \n",
        "spark\n",
        "spark = SparkSession\\\n",
        "  .builder \\\n",
        "  .appName(\"WordCounter\") \\\n",
        "  .getOrCreate()"
      ],
      "metadata": {
        "id": "qnyrpGnGwHd9"
      },
      "execution_count": 127,
      "outputs": []
    },
    {
      "cell_type": "code",
      "source": [
        "data = spark.read.format('csv').options(header='true', inferSchema='true') \\\n",
        "  .load('/content/data/result.csv') \\\n",
        " \n",
        "print('############ CSV extract:')\n",
        "data.show()"
      ],
      "metadata": {
        "colab": {
          "base_uri": "https://localhost:8080/"
        },
        "id": "6G7Gc30owbi2",
        "outputId": "43759256-59f7-4b54-c9eb-66f28721762b"
      },
      "execution_count": 128,
      "outputs": [
        {
          "output_type": "stream",
          "name": "stdout",
          "text": [
            "############ CSV extract:\n",
            "+--------------------+--------------------+--------------------+--------------------+--------------------+--------------------+--------------------+--------------------+--------------------+\n",
            "|          Unnamed: 0|                date|            isEdited|              review|            userName|   developerResponse|              rating|               title|        Company_name|\n",
            "+--------------------+--------------------+--------------------+--------------------+--------------------+--------------------+--------------------+--------------------+--------------------+\n",
            "|                   0| 2020-04-18 15:23:05|               False|This app is bette...|                null|                null|                null|                null|                null|\n",
            "|The deals being o...| I created an ord...| picking another ...| my new order wou...|                null|                null|                null|                null|                null|\n",
            "|Reoccurring glitc...| one of the two t...|     FamilyMoji Idea|\"{'id': 14762247,...| so we can look i...| 'modified': '202...|                   5|Glitches to be Fixed|           McDonalds|\n",
            "|                   1| 2021-12-10 20:01:08|               False|I’m a mega coupon...|       yelpcertified|                null|                   5|This app has lost...|           McDonalds|\n",
            "|                   2| 2020-07-02 13:47:03|               False|I work at a large...|         Christa@TGH|                null|                   5|    Terrible service|           McDonalds|\n",
            "|                   3| 2021-08-11 15:33:01|               False|I recently had to...|                null|                null|                null|                null|                null|\n",
            "|I placed the init...| but the entire a...| I went back out ...| I placed the ord...| the order was no...|                null|                null|                null|                null|\n",
            "|I doubt I will us...|    like chick fil a| have figured out...|            Jennysub|                null|                   2|Don’t turn your s...|           McDonalds|                null|\n",
            "|                   4| 2021-04-16 17:23:43|               False|I don’t even know...|         Ashhart1020|                null|                   1|Unable to Even Us...|           McDonalds|\n",
            "|                   5| 2021-09-28 00:13:38|               False|For starters, I’m...|       $aver of cash|{'id': 25556930, ...|                   2|Terribly designed...|           McDonalds|\n",
            "|                   6| 2021-11-09 23:02:37|               False|I’ve been using t...|      Mrs Thunder 21|                null|                   3|Great in theory, ...|           McDonalds|\n",
            "|                   7| 2021-03-07 17:53:47|               False|The McDonald’s ap...|             ajfred3|                null|                   5|   Beware of changes|           McDonalds|\n",
            "|                   8| 2021-11-19 19:57:33|                True|It’s mind-bogglin...|                null|                null|                null|                null|                null|\n",
            "|Update (2) - now ...| the food is stil...| the folks on the...|                null|                null|                null|                null|                null|                null|\n",
            "|Another main comp...|            B1G82307|\"{'id': 10574860,...| 'modified': '202...|                   2|“Upgraded” but st...|           McDonalds|                null|                null|\n",
            "|                   9| 2018-07-02 03:21:26|               False|Regular updates a...|                null|                null|                null|                null|                null|\n",
            "|The sheer scale o...| but this one wor...| it’s fantastic -...| and the Deals ar...| rather than wait...|                null|                null|                null|                null|\n",
            "|The problem is th...| which appears to...| and other times ...| like Sweet Chili...|  or the Oreo Frappe| which is in ther...| just make me a M...|          Britain W.|\"{'id': 4110001, ...|\n",
            "|                  10| 2020-09-03 20:26:14|               False|This started out ...|        ScalTrojan96|                null|                   2|Used to be great,...|           McDonalds|\n",
            "|                  11| 2020-05-20 16:16:36|               False|Overall I enjoyed...|       stupidity CIV|\"{'id': 15473664,...| so we can furthe...| 'modified': '202...|                   1|\n",
            "+--------------------+--------------------+--------------------+--------------------+--------------------+--------------------+--------------------+--------------------+--------------------+\n",
            "only showing top 20 rows\n",
            "\n"
          ]
        }
      ]
    },
    {
      "cell_type": "code",
      "source": [
        "df = data.drop('Unnamed: 0','date','isEdited','userName','developerResponse','rating','Company_name','title')\n",
        "df.show()"
      ],
      "metadata": {
        "colab": {
          "base_uri": "https://localhost:8080/"
        },
        "id": "1nelURsoKWSs",
        "outputId": "37defd8e-65c0-4e9b-802c-1c40eb5424e5"
      },
      "execution_count": 129,
      "outputs": [
        {
          "output_type": "stream",
          "name": "stdout",
          "text": [
            "+--------------------+\n",
            "|              review|\n",
            "+--------------------+\n",
            "|This app is bette...|\n",
            "| my new order wou...|\n",
            "|\"{'id': 14762247,...|\n",
            "|I’m a mega coupon...|\n",
            "|I work at a large...|\n",
            "|I recently had to...|\n",
            "| I placed the ord...|\n",
            "|            Jennysub|\n",
            "|I don’t even know...|\n",
            "|For starters, I’m...|\n",
            "|I’ve been using t...|\n",
            "|The McDonald’s ap...|\n",
            "|It’s mind-bogglin...|\n",
            "|                null|\n",
            "| 'modified': '202...|\n",
            "|Regular updates a...|\n",
            "| and the Deals ar...|\n",
            "| like Sweet Chili...|\n",
            "|This started out ...|\n",
            "|Overall I enjoyed...|\n",
            "+--------------------+\n",
            "only showing top 20 rows\n",
            "\n"
          ]
        }
      ]
    },
    {
      "cell_type": "code",
      "source": [
        "df = pd.read_csv('/content/data/result.csv')"
      ],
      "metadata": {
        "id": "mjTG7YyqF-SK"
      },
      "execution_count": 147,
      "outputs": []
    },
    {
      "cell_type": "code",
      "source": [
        "df = df['review']\n",
        "df"
      ],
      "metadata": {
        "colab": {
          "base_uri": "https://localhost:8080/"
        },
        "id": "tTvpUumaG_5Q",
        "outputId": "ffc4971b-94fa-4f71-a78a-c182cf05f101"
      },
      "execution_count": 148,
      "outputs": [
        {
          "output_type": "execute_result",
          "data": {
            "text/plain": [
              "0       This app is better than most fast food apps wh...\n",
              "1       I’m a mega coupon fanatic. Every time I go out...\n",
              "2       I work at a large hospital and walk by McDonal...\n",
              "3       I recently had to place an order three times b...\n",
              "4       I don’t even know what more to do about this a...\n",
              "                              ...                        \n",
              "1995    Can’t log in, reset and it works in a browser,...\n",
              "1996    Need to put merge card available in the app. I...\n",
              "1997    Tried to redeem my birthday ice cream but ever...\n",
              "1998    Kind of useless.. no way to place order. Same ...\n",
              "1999            Same issues no ability to merge balance .\n",
              "Name: review, Length: 2000, dtype: object"
            ]
          },
          "metadata": {},
          "execution_count": 148
        }
      ]
    },
    {
      "cell_type": "code",
      "source": [
        "df.to_csv(\"test.txt\", header=None, index=None, sep=',', mode='w')"
      ],
      "metadata": {
        "id": "sXIyVnK1HHPj"
      },
      "execution_count": 149,
      "outputs": []
    },
    {
      "cell_type": "code",
      "source": [
        "spark=SparkSession.builder\\\n",
        "    .master(\"local[*]\")\\\n",
        "    .appName(\"WordCount\")\\\n",
        "    .getOrCreate()"
      ],
      "metadata": {
        "id": "bNBLPQY0Hn6Z"
      },
      "execution_count": 150,
      "outputs": []
    },
    {
      "cell_type": "code",
      "source": [
        "sc=spark.sparkContext"
      ],
      "metadata": {
        "id": "hc6npq30GsgR"
      },
      "execution_count": 151,
      "outputs": []
    },
    {
      "cell_type": "code",
      "source": [
        "fastfood=\"/content/test.txt\""
      ],
      "metadata": {
        "id": "6RxR93ukMd7L"
      },
      "execution_count": 152,
      "outputs": []
    },
    {
      "cell_type": "code",
      "source": [
        "fastfoodrdd=sc.textFile(fastfood)"
      ],
      "metadata": {
        "id": "jcHBwWnDMNhA"
      },
      "execution_count": 153,
      "outputs": []
    },
    {
      "cell_type": "code",
      "source": [
        "fastfoodrdd.take(50)"
      ],
      "metadata": {
        "colab": {
          "base_uri": "https://localhost:8080/"
        },
        "id": "aGrhEHpKMn6x",
        "outputId": "e13793d6-4cba-4274-9d6d-af8de8beb8b7"
      },
      "execution_count": 154,
      "outputs": [
        {
          "output_type": "execute_result",
          "data": {
            "text/plain": [
              "['\"This app is better than most fast food apps when it comes to ease of use, customizing and managing orders.  If I had written this review a year ago, it would have gotten more stars; however, there are some growing issues related to limitations on orders that need to be fixed.',\n",
              " '',\n",
              " 'The deals being offered are becoming more complicated and causing more and more problems.  For example, I created an order that declined to process because a deal I was able to apply to my order was no longer being honored at a particular location at a particular time.  This caused me to start over completely, picking another deal that is appropriate to a different order combination.  Then, my new order wouldn’t process because the unhonored deal from my first order stopped me from picking a new deal for 24 hours.  It would be my recommendation to reprogram the app to not record the use of a deal until a purchase has been completed and change the 24 hour policy to 20 hours so that customers that pick up a daily breakfast at a slightly earlier time than the previous day can use another deal.',\n",
              " '',\n",
              " 'Reoccurring glitches in payment processing has also been on a rise of late.  Several customers pay with the app and are asked to pay again when going to the drive-up window.  My online banking shows I am billed twice and at the end of the day, one of the two transactions are being credited back.\"',\n",
              " '\"I’m a mega coupon fanatic. Every time I go out I’m always paying for more than one. So coupons have saved my wallet a substantial amount. This app started with a bang. The coupons constantly changed and were always very valuable deals. But with the years passing, I’ve only saw the deals get more and more limited and you’ll only save 50 cent on a 10 dollar order. And when I say limited, I mean it. I’ve had the same coupons for over a year. With very minor changes. But those changes happen every 2-4 months and are gone within a week. The only deal that makes the app worth having anymore is the bogo for 25 cent on the quarter pounders. This one still saves the hole in my pocket. But then I’m limited to eating a quarter pounder anytime I’m at McDonald’s. Which I wouldn’t complain about normally but after a year, it’ll burnout, trust me.  It’s just very disappointing  to see something that was so good turn into something so bad. I very much hope the developers will look into the main aspect of the app a bit more. Till then, if anyone feels the way I do, you can check out the Wendys app. They have incredible deals that change almost weekly. I’m actually on my way to get a burger,fry,drink,chicken nuggets and chili cheese fries. All for the price of one McDonald’s quarter pounder. I hope I can say something similar about the McDonald’s app in the near future.\"',\n",
              " '\"I work at a large hospital and walk by McDonalds which is by the entrance to the hospital on my way in.  While in the parking garage I will place an order for two hot mocha McCafes for pick up on my app. I then walk to an area where I get a face mask and have my temperature taken then eneter the building.  This is around 8:00 am.  If I’m lucky someone will be behind the counter to help me.  My order is never ready and I always have to wait for my coffees to be made.  Meanwhile people are coming in behind me placing orders, getting their food and drinks and leaving.  There are also times when I walk into the restaurant and not only is no one behind the counter, no one is anywhere to be found, not even in the food prep area.  I have to call out or shout so someone will come out from a closed door to wait on me.  Then again I have to wait for my coffees to be made.  I got the McDonald\\'s app hoping my order while placed in advance would be ready for me upon arrival.  Not once has it been.  I skip paying since the app has no problem taking my payment.  I wish your service was that efficient!  But it isn’t!  I have found my experiences dissapointing and frustrating!  A waste of time which has caused me on several occasions to be late for work!\"',\n",
              " '\"I recently had to place an order three times because the app timed out when my screen went to sleep. Thankfully it only charged me once. ',\n",
              " 'I placed the initial order on our way to the restaurant. My screen turned off on the way there after placing the order. When we arrived at the restaurant there was no record of my order in the app. My debit card was recently destroyed so Apple Pay was the only option until my new card came in. So I tried to place the order at the restaurant, but the entire app had timed out meaning I had to log in again. For some reason it wouldn’t log me in. I kept getting error messages. We were in a hurry so I had to leave the restaurant. The app started working again when we got home and since my husband had promised our toddler nuggets, I went back out to get the meal (I really didn’t mind). Since I was having issues ordering at the restaurant, I placed the order at home and then drove over. Again, the order was not on record. Thankfully the entire app didn’t time out and I was able to place the order at the restaurant. Took them 25 minutes to get my food out to the car.',\n",
              " 'I doubt I will use the app again. It was such a hassle and took so much longer than the drive through or even ordering through door dash. Other stores, like chick fil a, have figured out how to let people place an order before getting to the restaurant. It doesn’t seem like it’d be a difficult thing to do.\"',\n",
              " '\"I don’t even know what more to do about this app... I guess I just won’t ever get to use the daily deals or use a mobile order since it has NEVER worked on my phone. I have an IPhone 12 Pro that has the newest software update and have tried over and over again to delete the app and re download without any success. Even before I got the 12 Pro I had the X and for over a year now I’ve always gotten a message when I tried logging in that said “Critical Error has Occurred, App needs to restart.” I tried logging into an existing account that I had created a few years back and got this message every single time so I tried signing up for a new account and still received this message. I contacted McDonald’s via phone and someone in their IT department said they would “pass along the information to their developers and hopefully with the next update it would be fixed.” Today I tried to re download the app again since it’s $1 fries for mobile users and I thought just maybe today it will work for me... nope! So now when I download the app it just completely crashed and doesn’t even load. I have missed out on so many deals and feel beyond frustrated that I can’t even do a mobile order for pickup. I researched online and other people have had this same issue without getting it resolved. You would think that with McDonald’s being one of the largest corporations in the world that they would have figured out all these bugs and issues by now. So disappointed 😡\"',\n",
              " '\"For starters, I’m generally against fast food apps because it’s typically faster to just order it in the drive through but I thought I would give the McDonald’s app a shot since they have some pretty good deals. I just wish this app were designed a little better and the stores were a little better trained for mobile orders. One big problem I have is the unnecessary requirement to share your location. This just feels like a huge violation of privacy and for no gain. They want you to share your location and it actively uses it anytime you even open the app. I can kind of understand it so they can estimate when they need to prepare your order and I believe that is their reason, but; 1) if it already tracks your location why should you have to click in the app that you arrived at the restaurant? 2) since it is a fast food restaurant, most of the time your order should already be ready. I guess the app just guarantees it? The app actively tracks your location, and not request a location like it should if it wants that. The deals are kind of annoying because they cannot be combined and can only be used once per hour. Overall, the app just feels like a way for McDonald’s to steal your information and takes a lot of work to save $1. The app doesn’t even improve the ordering process because some stores will have problems finding your order\"',\n",
              " '\"I’ve been using this app for a couple months now, and it has become increasingly frustrating. Yeah, you gain points quick and there are good deals on there, so overall I would say it’s worth having, but the glitches are too much. For starters, every single time I open my app (unless it’s multiple times in one day) it says I’ve been logged out due to an error, and have to log back in again. It is just a few clicks, but it’s beyond annoying, especially when you’re trying to get food from a fast food restaurant, well, fast. Secondly, there have been countless times I’ve had to completely redo an order because a promo/deal was not longer available at my location…even though it takes me literal minutes to order because most of my stuff is saved. If it was no longer available, why show it as an option? Finally, the stress with workers not wanting to honor deals when I don’t do mobile ordering is terrible. 90% of the time they scan a reward they say it’s not valid, just to have a manager have to come and tell them how to enter it manually because it’s an app issue not a promo issue. I’ve come to use it less and less because saving a couple bucks really isn’t always worth the frustration and work I have to put into something that supposed to streamline and make a process more efficient.\"',\n",
              " '\"The McDonald’s app has been great generally over the years. But when they change it you lose earned rewards. I’ve done so many times, the worst recentlyWhen they changed from my café rewards to the regular McDonald’s rewards. In the past for every five coffee drinks you bought you would get one free. I had bought coffee almost daily on my way to work and hardly ever redeemed them. At one time I had over 28 or 29 mccafé coffee’s to redeem. Even though the expiration date had passed one day I noticed seven or eight of them had disappeared. So I started using them. I built them up again and again and use them here and there. Maybe a month ago I had 22 Mccafé drinks and they change the app again to rewards instead of the café drinks. I checked the app and I were seven showing four or five of which had to be redeemed within a few days or they would disappear/expire. I didn’t have time to use the mall and ended up losing four or five of those. If you figure those drinks run an average of 4 to 5 dollars each and lost a couple hundred dollars and drinks over the years. And I bought a couple hundred coffees  a year from McDonald’s. For many years... this has made me much less trusting of the McDonald’s app.\"',\n",
              " '\"It’s mind-boggling how an app is promoted for a fast food joint but yet not have everything on the App Menu as the “restaurant” would. I searched through the app, through the “deals” and it was simply not there. I go to the “restaurant” and it’s available as an option. The two need to be synced for optimal experience for the user. Update (1) - now when you Checkout and state you are at the location for pickup, it wouldn’t allow for me to select an option of how I want to pick up (curbside, drive-thru, etc.). Small item as such needs to be fixed.',\n",
              " 'Update (2) - now it seems the Meals are “synced” along with the option of how to pick up BUT one outstanding issue still remains - When the location is to make the food. It won’t allow you to do it while on route or close by. Nope. You have to select it while you are in the parking lot of the location. Why is that bad? Because when you select to pick up in store, the food is still not ready. At times, the folks on the line get their food first still. Pickup for Drive-thru…well you would have to wait if there is a long line (still!). “Curbside” - similar issue as pick-up in-store option. Food is not yet ready.',\n",
              " '',\n",
              " 'Another main competitor allows for the food to be made ahead of time - when the user selects it. Make that happen and you may just get a 5-star rating. Until then. There are still better apps out there.\"',\n",
              " '\"Regular updates actually do make improvements to ordering (really glad to see drinks ordered by type in the latest update instead of a ten page long menu of every drink in every size), and the CS team was responsive the one time I contacted them.',\n",
              " '',\n",
              " 'The sheer scale of McDonald’s locations almost makes a single app a foolhardy idea, but this one works a lot of the time. When it does, it’s fantastic - I like being able to see what’s on a sandwich and specify no (or extra) of a topping, and the Deals are often really good. I also love being able to park in a curbside spot and wait with my radio and AC, rather than wait in the store or at the drive thru lane.',\n",
              " '',\n",
              " 'The problem is the menu in the app, which appears to cover all markets and includes items my local stores don\\'t offer. Sometimes it stops you before you place the order, and other times the order just errors out with no explanation. So be wary of ordering any items you wouldn\\'t see on the store\\'s displayed menu, like Sweet Chili or Szechuan dipping sauces, or the Oreo Frappe, which is in there even though my local stores act like it doesn\\'t exist. (And come on, just make me a Mocha Frappe and sprinkle some Oreo crumbs from the Flurry station in it. It\\'s not like the ice cream machine is working today anyway.)\"',\n",
              " '\"This started out as a great app, but now,  no longer deserves 4-5 stars. They’ve done way too much to make it all fancy, that it makes the app work so slowly, when navigating between the different functions, especially when it first starts up. Also, annoying that certain deals are scan only, mobile only, deliver only...a deal is a deal. Why should it matter if we use it on the app, at the restaurant, or delivery? And stop the restrictions on using one deal for a certain amount of time!!! If I wanna use a deal, and get back to the end of the line to use another deal, I should be able to do so like the app allowed you to do originally! The new updates have not made anything better, but instead made it more buggy. I’ve never had to keep logging back into my account before, but now it seems like the app can’t remember my login, even if I had already logged in 10 minutes prior, which is very annoying when you’re already in line and waiting for the now slow app to load up and then show the deals, with people waiting behind you. There should be a face/finger ID or stay logged in option. And I agree with another user, if I make an order from my phone and want a friend/family member pick it up, there should be a way to do that. If a super basic Little Caesar’s App can do that, then why can’t this one?!!!\"',\n",
              " '\"Overall I enjoyed the app where I could customized my order specifically how I wanted it and could clearly see the price increase for each option - who wouldn’t more pickles for free or a extra slice of cheese for 30 cents.  Also there are daily app exclusive deals and coupons like buy one get one that are great and makes ordering tempting.  However; the issue and an app killer for me is the payment system.   Last 3 trips I ordered and set up for curbside delivery.  A few minutes latter the app shows there’s been an error and I need to “go inside to see the cashier”, so in these social distancing days that means going through the drive through.  When you pull up they can see your order but they say the Payment is still pending.  Each time I check the app and it gives me no option to retry payment or other options.  So i tell them at the window to cancel the order and end up leaving with no food.   I have now discovered that the charge later went through and still showed up on my credit card statement.  So now I have wasted time on trips to the restaurant, no food, and yet still get charged.  Now I have to spend more time on phone with credit card disputing the charges.  I will no longer use this faulty app.  My advise is to save your time and money and shop elsewhere, unless you wanna go through the drive through and pay double the app price.\"',\n",
              " '\"I have had the McDonald’s app since the beginning and always been an advocate and even encouraged my friends to get it. The thing is I don’t eat anything at McDonald’s besides fries and salads items, occasionally I may get a dessert or chicken item. In the beginning I was really able to take advantage of the $1 fry deals and the $3 off $10 or $1 off $7. As of recently, about 2 months, those deals are no longer there so I really no longer have anything to gain which is quite disappointing because I do love the app and have been such a fan. I just purchased some items that would have been $4 less had I still had my regular deals. If these new changes to the app will be permanent I only wish McDonald’s would consider deals that are frequented by consumers so that they can be tailored and continue to be taken advantage of. Also consider dietary needs and restrictions I used to have 10-20 deal to select from now I have 3-7 that I know I will not use. For example, I have a free any size soft beverage deal in my app right now, I can’t drink soda so I have no use for such a coupon. I have a $1 off a quarter pounder or Big Mac, also something I can’t have so it will go to waste. Then I have 2 others for a total of 4 deals that I cannot even take advantage of. Disappointing, especially because I know how great it used to be.\"',\n",
              " '\"I wasted time setting up an accout. I wasted time trying to set up an order. It goes as far as letting you fill out all your info, but won’t let you enter a card to pay for it. I tried 2 different cards, but the ‘save’ button stays grayed out. I tried placing an order which it allowed me to do. But again, I couldn’t pay, as it wouldn’t allow me to save the card info. I hit ‘place order’ figuring I’d just pay cash when I got there. The app said the order was placed. Gave me an order # and all, so I figured everything was good to go. It (the app) said they would start the order when I got there and hit ‘Check In’. The only thing that came close to ‘check In’ was a button that said ‘I’m Already Here’. I pulled in to the parking lot and hit that button cuz nothing changed and it was the only option. Well... Of course the app is now saying It doesn’t have my order or maybe I’m not close enough OR talk to a crew member. I ended up having to go inside and place a whole new order which I was trying to avoid! Then it STILL took forever for these people to understand what I’m trying to explain what happened! It was so aggravating, the whole thing! Then I have to put up with their condescending attitudes... Unbelievable...',\n",
              " 'And of course there’s no one around to help figure out the problem. So that’s the last time I’ll be going to McDonald’s any more. Who needs the aggravation?\"',\n",
              " '\"This review is long overdue and after not being able to use the only good coupon I have got on this app in months because my McDonald’s that I always go to is no longer a “participating location,” I finally feel the need to write this review. This app used to be SPECTACULAR and there were always plenty of coupons I could use daily and they were very good deals too! I was able to purchase food for myself and my family without breaking the bank too much. Then randomly one day they changed the entire app and removed all of the good coupons. Now there is one coupon daily (If I’m lucky two) and it can hardly be considered a “deal” as I’m saving like 30¢ rather than the $3-4 I used to save from a coupon. You can also get a coupon from this Plinko style game that you sometimes have to play a few times to even land something in the bag. From my experience you can play until you win however the $1 off coupon you receive after is normally never for anything I want so it’s hardly worth it. Not to mention it seems you have to use this coupon while ordering through the app and sitting in the parking lot, which is not my preferred way to eat at McDonald’s. They should bring this app back to its former glory so that it may have a purpose again because it’s current state is trash and I don’t even feel the need to open it as I wait in line at McDonald’s since I already know there will be no coupons worthwhile.\"',\n",
              " '\"At about 10:15am I was thinking to go to McDonald\\'s for breakfast.  There is always the question of when breakfast is no longer served - app said 11am for my McDonald\\'s.  Great!  I have more than enough time.  So I get there at about 10:25 and try to place my order via the app.  I get an error that certain items are no longer available and those are removed.  Darn, I\\'ll need to select something else.  I go back to the menu and it\\'s the same menu with all the items available.  Try to order again, unavailable.  I kill the app and reopen it to try to \"\"refresh\"\" the available items.  Same menu, and trying to order many of these items still gave me the same \"\"unavailable\"\" message.  At this point I am very frustrated and go to the nearby Starbucks instead.',\n",
              " '',\n",
              " 'I assume what happened is that perhaps there is a more limited breakfast menu from 10:30-11:00 even though 1) it said breakfast until 11, and 2) the app was giving me the same full breakfast menu even at 10:35.  What\\'s frustrating is that the app has the ability to understand the item availability since it errored during checkout, but apparently this information is not incorporated when \"\"building\"\" the menu that is shown.  So it\\'s basically trial-and-error to find something available.  Perhaps the app should lock down from 10-11am daily if it\\'s not possible to serve an accurate menu during that time.\"',\n",
              " '\"Soooo...it sometimes works like it should, but it’s still buggy. And...I’ve experienced that the employees at various locations aren’t well trained with mobile ordering. On more than one occasion I’ve tried to pick up my order in the drive-thru, but the employee couldn’t close it out on their end. My card ends up getting charged several times, and I don’t get my food if I don’t have a way to pay for it on me. Therefore, I usually opt for curbside, which I don’t like doing either. I hate having the employees have to bring my food out to the mobile pickup if the weather is bad. Plus, if the order is wrong, then they have to go inside and come back out. ',\n",
              " '',\n",
              " 'One feature that is problematic with mobile ordering is that whatever phone you place the order from has to be the one arriving at the location because the app is tracking the phone. Almost all other mobile ordering apps don’t do that. For instance, if another family member is out and about and I’m sitting at home, I can’t order from the app and they pick it up. It tells me I’m not at the location. That’s annoying.',\n",
              " '',\n",
              " 'Lastly, the coupon deals are clunky. The coupon codes differ for each location. Therefore, you have to make sure you have the right location selected to get the correct coupon. It’s cumbersome the way that works.\"',\n",
              " '\"So the last couple times I’ve ordered, it makes it seemed glitchy not start with while ordering. Tonight I went through making sure I had my $30 order for my family with everything they wanted right before checking out, read it aloud, showed my hubby and all. Think nothing of it bc it said they had my order and we waited. Get my order and it’s barely anything.. so look at my order and what’s in the bag is right, but that order is what I ordered the last time I came through and the order that I actually went through making sure I had, never went through. So I ended up with more McDoubles than I needed and about 90% of the stuff I had to put on a second order to make sure my family ate. By then I was not in the mood and no longer wanted my food bc I’d have to spend more money than I planned if I got my meal plus the extra stuff, not to mention I carefully had put things bundled in meals on the order that should have went through and I had to do things separately now. By then it seemed like the workers were frustrated bc we seemed confused at our order and they just left our Icecream and everything in the pickup inside area even though I ordered curbside both times, even had to type in the 3. So much for trying to save money with McDonald’s. I hope you can fix the glitches bc this is a good app when it works.\"',\n",
              " '\"I’ve now attempted to use this 4 times. The order goes through fine, so maybe it’s actually just the employees in my town, managers included. The first time I used it, they said they didn’t have my order, and then charged my card 2 hours later for the mobile order, after I had already placed and paid for a new order at the store. I tried a different location, the first time the manager told me I had failed to pay for my order so I needed to drive back around to the first window and pay. There is NO OPTION but to make payment in app. The third time, not quite as bad, I had to drive up to the window and tell them my order so they could find it. Third time? I was told repeatedly they didn’t have any mobile orders, I had to go inside to straighten it out. Understand, THERE IS NO WAY TO CHECK IN UNTIL YOU ARE AT THE STORE. It uses GPS to track your location and it won’t check you in until you are almost in the parking lot. I know, I’ve tried. You literally cannot order from the wrong location, so THEY HAVE TO HAVE YOUR ORDER IF YOU CHECK IN. Even now as I type this, they don’t show my order as complete. I picked up my order 22 mins ago, according to my receipt, yet the blue bar at the top of my screen tells me they are still tracking my location! Seriously, if you are going to put the time and effort into making an app, take the time and effort to train the employees how to operate the system.\"',\n",
              " 'Over engineered and poorly executed.  Downloaded the app and placed my first order.  We were good up to this point.  After placing the order and paying with Apple Pay the app went to a page that told me I had to  tell the app when I was close so that the order would be prepared.  No option to simply say be ready in 30 minutes.  My plan was to place the order and have someone else pick it up.  Not happening if I have to tell it I am close using my phone.  Drive to McDonald’s where the app tracked my location.  It did not automatically submit the order for preparation when I was near so I am not sure why they needed to track my location.  When I arrived I pressed the I am already here link in the app.  It then popped over to a screen telling me I had to select my pickup option.  Unfortunately the screen which I assume was supposed to have options was blank.  The  employees at McDonald’s had no idea what to do and didn’t really care either way.  Restarted the app several time but always ended up on the same blank pickup options screen.  I was able to cancel the order and reorder from the kiosk inside the store until that failed when I tried to pay at the kiosk.  Took me twice as long to get lunch as it would have to just walk in and place my order at the counter.  The reason I rated this app so poorly is not only that it failed to perform but that McDonald’s is capable of so much better than this.',\n",
              " '\"This is clearly the best app I’ve used for any fast food restaurant. It works. And I don’t mean just the app on your device, but the back office operations that are required to fulfill your order.  ',\n",
              " 'The worst bug I experience is after one picks up their food. A day or two may go by, and then when I open to use the app again it hasn’t cleared out my past fulfilled order, and it automatically reloads the past order into the cart.  Then I have to go manually delete every item that I ordered before, so I can make a new order. Not a giant problem, more like just annoying. ',\n",
              " 'Not a formal bug, but a design error IMO, As I wish they made it easier to add condiments to an order. I think it should be the last thing selected before a person confirms their order. It’s easy to forget to add the condiments, then when I pick up my food I ask the personnel on duty for it, and although I get it, I can tell it’s a tiny annoyance for them - a break in their flow.  ',\n",
              " 'Regardless, I’m impressed and happy with it. The formalized “menu hacks” feature to be released soon sounds awesome.\"',\n",
              " 'I placed an order selected curbside waited like 20 mins no one comes out or says anything I started calling the drive thru person who finally looks across the lot and I tell him ive been here like 20 mins and no one has brought my food. He has like this shocked little on his face and another lady comes to the window and says can u get in the drive thru line (which by the way has at least 12 card in it). I said do you know how long that line is and I’ve already been waiting almost 20 mins then she said ok as soon as this car finishes I will bring you your food. So I wait and wait and wait. After the 6th car passes no one comes to the window or anything. I was so mad I drove around and got in the drive thru line which is wrapped around the building now. This is the worst customer service ever. You guys should be ashamed of yourself. If I could have gotten my money back from the app I would have left and went somewhere else. No one even apologized they just acted like nothing was wrong. It’s called fast food for a reason. I can’t believe I placed an order at 915 and still haven’t gotten my order as of 956. The building is locked so I can’t even go in and just ask for my money back. You guys have been in business long enough and should know how better to offer better customer service.',\n",
              " '\"Kind of funny how this app lets you store payment info and do transactions, but when something goes wrong, there is no support. Good way to steal your money. Their solution is to just contact your bank and dispute it with them. They’ll do the transactions and take your money, but they want no part in giving you customer service for refunds lol. Such a good joke from such a large company. I’ve done the order from app and skip the line and wait at the stall for them to bring out your order. At two different McDonald’s I had the same experience. No one wants to bring out the food because they are lazy or short staffed so you wait 30 mins to an hour for your food. But your food is made, it is just sitting there getting cold. You can call the number on the sign, but sometimes they won’t answer or they will say they are short staffed because no one wants to work at McDonald’s for such low pay and they will try to get it out. 30 mins later you get your order and it is hard cold almost inedible fries, and a completely old sandwich. That’s where the non existent app support comes in. What do you do if your food is cold and inedible? You get no help on the app for a refund. They just take your money and the McDonald’s that gave you the cold inedible food will say the app is separate and they don’t deal with it. So this is a good way to have your money stolen from McDonald’s.\"',\n",
              " '\"There were many times using the app, that provided very good results. However, I’ve also had problems many times when I tried making use of the deals. I would get to the part that I choose the deal that I want. Then the app tells me that I already used a deal so I need to wait for so many minutes, close to an hour, in order to use the deal again. NOTE: I DIDN’T EVEN USE THE APP THAT DAY???????? So, I’d end up just not using the app for my order. I would mention it to the manager but was told that they couldn’t do anything for me. I’ve complained and even had contact with people from McDonald’s, but, nothing came out of it. I even received an email which said that the problem was solved. Well, it wasn’t solved for me. I got so frustrated that I stopped using the McDonalds app and started using the apps from Wendy’s and Jack-in-the-Box. Sometimes, the Wendy\\'s app doesn’t work. So, I just go into Wendy’s and ask if I can still make use of the offer in the app even if it wasn’t working. To my surprise, they manually process it for me. Just want to mention that Wendy’s and Jack in the box have really good deals in their apps. Today, I thought that I’d try to give the McDonald’s app another chance. But guess what! I couldn’t use the deal again because the app stated that I already used the deal recently.\"',\n",
              " '\"The reason I liked this app was the convenience of ordering food for my kids if they’re hungry and I’m at work. They can walk over and pick up their food, and I pay right from my phone. Convenient right? Nope! I ordered from work one day, it was a little confusing and I had to hit back a few times to get the location right, or so I thought... well my daughter walked over, I screenshot and sent her the order confirmation. She’s waiting and they say no order. So I check the order again and it said it was ordered at another McDonalds down the road and I KNOW I clicked the right McDonalds when I placed my order. Anyways I called both McDonalds to see if they can transfer the order and they were NO HELP! Told me I needed to call the contact number on the app, well I did and was told that the charges are pending but it won’t clear since I never picked up my order. Today I look and see the charges cleared for $20 worth of food that I never got and McDonalds knows it was never picked up and that I was totally scammed! I call again and I am told I need to dispute the charges with my bank. Are you kidding me? This app is a joke and so is McDonalds. Deleting and never using again! I’ve been using the Starbucks app for years and never had problems like this. McDonald’s ripped me off of $20! You’ve been warned, do not use this app because even if you don’t pick up your food, you’re charged and they don’t refund you.\"',\n",
              " '\"I like the fact that there are awesome deals on the app. The app is user friendly, and I’ve only had a few issues with the map within the app detecting my location. My main issue with the app is that they won’t fix your food until you’re actually at the restaurant.  That makes no sense to me at all. I am a very busy person, and using the app doesn’t save me time, and often times it can be pretty inconvenient to use. I was almost late to work the last time I used it because it took 10 min to bring my food out to me at curbside. I saw cars come and go. I saw walk-ins come and go as I waited on my app order.  They were actually doing to go orders in the store. I would have rather done that, however, there was no option for to go orders on the app. Only curbside or drive thru were offered.',\n",
              " '']"
            ]
          },
          "metadata": {},
          "execution_count": 154
        }
      ]
    },
    {
      "cell_type": "code",
      "source": [
        "def lower_clean_str(x):\n",
        "  punc='!\"#$%&\\'()*+,./:;<=>?@[\\\\]^_`{|}~-'\n",
        "  lowercased_str = x.lower()\n",
        "  for ch in punc:\n",
        "    lowercased_str = lowercased_str.replace(ch, '')\n",
        "  return lowercased_str"
      ],
      "metadata": {
        "id": "ShWYEvEKDmhg"
      },
      "execution_count": 158,
      "outputs": []
    },
    {
      "cell_type": "code",
      "source": [
        "fastfoodrdd = fastfoodrdd.map(lower_clean_str)"
      ],
      "metadata": {
        "id": "B3Kh1QPdD37S"
      },
      "execution_count": 159,
      "outputs": []
    },
    {
      "cell_type": "code",
      "source": [
        "fastfoodrdd.take(10)"
      ],
      "metadata": {
        "colab": {
          "base_uri": "https://localhost:8080/"
        },
        "id": "_8dvOCCmM3c5",
        "outputId": "96b8c2e0-adf9-4443-8ea6-2d4931187b9a"
      },
      "execution_count": 160,
      "outputs": [
        {
          "output_type": "execute_result",
          "data": {
            "text/plain": [
              "['this app is better than most fast food apps when it comes to ease of use customizing and managing orders  if i had written this review a year ago it would have gotten more stars however there are some growing issues related to limitations on orders that need to be fixed',\n",
              " '',\n",
              " 'the deals being offered are becoming more complicated and causing more and more problems  for example i created an order that declined to process because a deal i was able to apply to my order was no longer being honored at a particular location at a particular time  this caused me to start over completely picking another deal that is appropriate to a different order combination  then my new order wouldn’t process because the unhonored deal from my first order stopped me from picking a new deal for 24 hours  it would be my recommendation to reprogram the app to not record the use of a deal until a purchase has been completed and change the 24 hour policy to 20 hours so that customers that pick up a daily breakfast at a slightly earlier time than the previous day can use another deal',\n",
              " '',\n",
              " 'reoccurring glitches in payment processing has also been on a rise of late  several customers pay with the app and are asked to pay again when going to the driveup window  my online banking shows i am billed twice and at the end of the day one of the two transactions are being credited back',\n",
              " 'i’m a mega coupon fanatic every time i go out i’m always paying for more than one so coupons have saved my wallet a substantial amount this app started with a bang the coupons constantly changed and were always very valuable deals but with the years passing i’ve only saw the deals get more and more limited and you’ll only save 50 cent on a 10 dollar order and when i say limited i mean it i’ve had the same coupons for over a year with very minor changes but those changes happen every 24 months and are gone within a week the only deal that makes the app worth having anymore is the bogo for 25 cent on the quarter pounders this one still saves the hole in my pocket but then i’m limited to eating a quarter pounder anytime i’m at mcdonald’s which i wouldn’t complain about normally but after a year it’ll burnout trust me  it’s just very disappointing  to see something that was so good turn into something so bad i very much hope the developers will look into the main aspect of the app a bit more till then if anyone feels the way i do you can check out the wendys app they have incredible deals that change almost weekly i’m actually on my way to get a burgerfrydrinkchicken nuggets and chili cheese fries all for the price of one mcdonald’s quarter pounder i hope i can say something similar about the mcdonald’s app in the near future',\n",
              " 'i work at a large hospital and walk by mcdonalds which is by the entrance to the hospital on my way in  while in the parking garage i will place an order for two hot mocha mccafes for pick up on my app i then walk to an area where i get a face mask and have my temperature taken then eneter the building  this is around 800 am  if i’m lucky someone will be behind the counter to help me  my order is never ready and i always have to wait for my coffees to be made  meanwhile people are coming in behind me placing orders getting their food and drinks and leaving  there are also times when i walk into the restaurant and not only is no one behind the counter no one is anywhere to be found not even in the food prep area  i have to call out or shout so someone will come out from a closed door to wait on me  then again i have to wait for my coffees to be made  i got the mcdonalds app hoping my order while placed in advance would be ready for me upon arrival  not once has it been  i skip paying since the app has no problem taking my payment  i wish your service was that efficient  but it isn’t  i have found my experiences dissapointing and frustrating  a waste of time which has caused me on several occasions to be late for work',\n",
              " 'i recently had to place an order three times because the app timed out when my screen went to sleep thankfully it only charged me once ',\n",
              " 'i placed the initial order on our way to the restaurant my screen turned off on the way there after placing the order when we arrived at the restaurant there was no record of my order in the app my debit card was recently destroyed so apple pay was the only option until my new card came in so i tried to place the order at the restaurant but the entire app had timed out meaning i had to log in again for some reason it wouldn’t log me in i kept getting error messages we were in a hurry so i had to leave the restaurant the app started working again when we got home and since my husband had promised our toddler nuggets i went back out to get the meal i really didn’t mind since i was having issues ordering at the restaurant i placed the order at home and then drove over again the order was not on record thankfully the entire app didn’t time out and i was able to place the order at the restaurant took them 25 minutes to get my food out to the car',\n",
              " 'i doubt i will use the app again it was such a hassle and took so much longer than the drive through or even ordering through door dash other stores like chick fil a have figured out how to let people place an order before getting to the restaurant it doesn’t seem like it’d be a difficult thing to do']"
            ]
          },
          "metadata": {},
          "execution_count": 160
        }
      ]
    },
    {
      "cell_type": "code",
      "source": [
        "fastfoodrdd=fastfoodrdd.flatMap(lambda word: word.split(\" \"))"
      ],
      "metadata": {
        "id": "DEwGoXXgNvc2"
      },
      "execution_count": 161,
      "outputs": []
    },
    {
      "cell_type": "code",
      "source": [
        "fastfoodrdd.take(10)"
      ],
      "metadata": {
        "colab": {
          "base_uri": "https://localhost:8080/"
        },
        "id": "6JE_Cz2ANw8d",
        "outputId": "abe3d71c-4f3f-45fc-c00d-8efc0885ded9"
      },
      "execution_count": 162,
      "outputs": [
        {
          "output_type": "execute_result",
          "data": {
            "text/plain": [
              "['this', 'app', 'is', 'better', 'than', 'most', 'fast', 'food', 'apps', 'when']"
            ]
          },
          "metadata": {},
          "execution_count": 162
        }
      ]
    },
    {
      "cell_type": "code",
      "source": [
        "fastfoodrdd = fastfoodrdd.filter(lambda x:x!='')"
      ],
      "metadata": {
        "id": "Vyk_sqZoNy6Z"
      },
      "execution_count": 163,
      "outputs": []
    },
    {
      "cell_type": "code",
      "source": [
        "fastfoodrdd.take(20)"
      ],
      "metadata": {
        "colab": {
          "base_uri": "https://localhost:8080/"
        },
        "id": "c_Vf-rWKN3Cv",
        "outputId": "28e13ad9-349b-43e0-eb52-bc1225567860"
      },
      "execution_count": 164,
      "outputs": [
        {
          "output_type": "execute_result",
          "data": {
            "text/plain": [
              "['this',\n",
              " 'app',\n",
              " 'is',\n",
              " 'better',\n",
              " 'than',\n",
              " 'most',\n",
              " 'fast',\n",
              " 'food',\n",
              " 'apps',\n",
              " 'when',\n",
              " 'it',\n",
              " 'comes',\n",
              " 'to',\n",
              " 'ease',\n",
              " 'of',\n",
              " 'use',\n",
              " 'customizing',\n",
              " 'and',\n",
              " 'managing',\n",
              " 'orders']"
            ]
          },
          "metadata": {},
          "execution_count": 164
        }
      ]
    },
    {
      "cell_type": "code",
      "source": [
        "fastfoodrdd=fastfoodrdd.map(lambda  word:(word,1))"
      ],
      "metadata": {
        "id": "ehCEq9mfN8k0"
      },
      "execution_count": 165,
      "outputs": []
    },
    {
      "cell_type": "code",
      "source": [
        "fastfoodrdd.take(7)"
      ],
      "metadata": {
        "colab": {
          "base_uri": "https://localhost:8080/"
        },
        "id": "LHq6B0cVOAQ0",
        "outputId": "6b823a24-7f5c-424f-8e73-c8dd245161ca"
      },
      "execution_count": 166,
      "outputs": [
        {
          "output_type": "execute_result",
          "data": {
            "text/plain": [
              "[('this', 1),\n",
              " ('app', 1),\n",
              " ('is', 1),\n",
              " ('better', 1),\n",
              " ('than', 1),\n",
              " ('most', 1),\n",
              " ('fast', 1)]"
            ]
          },
          "metadata": {},
          "execution_count": 166
        }
      ]
    },
    {
      "cell_type": "code",
      "source": [
        "fastfoodrdd=fastfoodrdd.reduceByKey(lambda x,y:(x+y)).sortByKey()"
      ],
      "metadata": {
        "id": "txXHFy9iOCRY"
      },
      "execution_count": 167,
      "outputs": []
    },
    {
      "cell_type": "code",
      "source": [
        "fastfoodrdd.take(7)"
      ],
      "metadata": {
        "colab": {
          "base_uri": "https://localhost:8080/"
        },
        "id": "SPjJ-OGvOGTi",
        "outputId": "6d2cef6e-e760-461f-cb15-12050ecdad87"
      },
      "execution_count": 168,
      "outputs": [
        {
          "output_type": "execute_result",
          "data": {
            "text/plain": [
              "[('0', 15),\n",
              " ('000', 4),\n",
              " ('01', 1),\n",
              " ('0500', 1),\n",
              " ('0643', 1),\n",
              " ('1', 123),\n",
              " ('10', 138)]"
            ]
          },
          "metadata": {},
          "execution_count": 168
        }
      ]
    },
    {
      "cell_type": "code",
      "source": [
        "fastfoodrdd=fastfoodrdd.map(lambda x:(x[1],x[0]))"
      ],
      "metadata": {
        "id": "68CAzzvpOL5E"
      },
      "execution_count": 169,
      "outputs": []
    },
    {
      "cell_type": "code",
      "source": [
        "fastfoodrdd.take(6)"
      ],
      "metadata": {
        "colab": {
          "base_uri": "https://localhost:8080/"
        },
        "id": "rAYFjpVuOOo9",
        "outputId": "7619cebd-bdab-4b25-fd24-358064e706ad"
      },
      "execution_count": 170,
      "outputs": [
        {
          "output_type": "execute_result",
          "data": {
            "text/plain": [
              "[(15, '0'), (4, '000'), (1, '01'), (1, '0500'), (1, '0643'), (123, '1')]"
            ]
          },
          "metadata": {},
          "execution_count": 170
        }
      ]
    },
    {
      "cell_type": "code",
      "source": [
        "fastfoodrdd.sortByKey(False).take(10)"
      ],
      "metadata": {
        "colab": {
          "base_uri": "https://localhost:8080/"
        },
        "id": "VRGowrRoOVbW",
        "outputId": "b4cf5533-b03e-4e49-9298-3c434f610f8b"
      },
      "execution_count": 171,
      "outputs": [
        {
          "output_type": "execute_result",
          "data": {
            "text/plain": [
              "[(12657, 'the'),\n",
              " (9221, 'i'),\n",
              " (9145, 'to'),\n",
              " (6910, 'and'),\n",
              " (4763, 'it'),\n",
              " (4651, 'a'),\n",
              " (4558, 'app'),\n",
              " (3647, 'my'),\n",
              " (3383, 'order'),\n",
              " (2669, 'for')]"
            ]
          },
          "metadata": {},
          "execution_count": 171
        }
      ]
    },
    {
      "cell_type": "code",
      "source": [
        "import nltk\n",
        "nltk.download('stopwords')"
      ],
      "metadata": {
        "colab": {
          "base_uri": "https://localhost:8080/"
        },
        "id": "DnhUzLFwD8aO",
        "outputId": "d8553f27-f435-4b46-9077-734a815fa8c2"
      },
      "execution_count": 176,
      "outputs": [
        {
          "output_type": "stream",
          "name": "stdout",
          "text": [
            "[nltk_data] Downloading package stopwords to /root/nltk_data...\n",
            "[nltk_data]   Package stopwords is already up-to-date!\n"
          ]
        },
        {
          "output_type": "execute_result",
          "data": {
            "text/plain": [
              "True"
            ]
          },
          "metadata": {},
          "execution_count": 176
        }
      ]
    },
    {
      "cell_type": "code",
      "source": [
        "from nltk.corpus import stopwords\n",
        "stopwords =stopwords.words('english')\n",
        "stopwords"
      ],
      "metadata": {
        "colab": {
          "base_uri": "https://localhost:8080/"
        },
        "id": "qI9Hhs9sNTXG",
        "outputId": "ed1c5ecc-6863-4f50-88b7-fc9a59d60417"
      },
      "execution_count": 177,
      "outputs": [
        {
          "output_type": "execute_result",
          "data": {
            "text/plain": [
              "['i',\n",
              " 'me',\n",
              " 'my',\n",
              " 'myself',\n",
              " 'we',\n",
              " 'our',\n",
              " 'ours',\n",
              " 'ourselves',\n",
              " 'you',\n",
              " \"you're\",\n",
              " \"you've\",\n",
              " \"you'll\",\n",
              " \"you'd\",\n",
              " 'your',\n",
              " 'yours',\n",
              " 'yourself',\n",
              " 'yourselves',\n",
              " 'he',\n",
              " 'him',\n",
              " 'his',\n",
              " 'himself',\n",
              " 'she',\n",
              " \"she's\",\n",
              " 'her',\n",
              " 'hers',\n",
              " 'herself',\n",
              " 'it',\n",
              " \"it's\",\n",
              " 'its',\n",
              " 'itself',\n",
              " 'they',\n",
              " 'them',\n",
              " 'their',\n",
              " 'theirs',\n",
              " 'themselves',\n",
              " 'what',\n",
              " 'which',\n",
              " 'who',\n",
              " 'whom',\n",
              " 'this',\n",
              " 'that',\n",
              " \"that'll\",\n",
              " 'these',\n",
              " 'those',\n",
              " 'am',\n",
              " 'is',\n",
              " 'are',\n",
              " 'was',\n",
              " 'were',\n",
              " 'be',\n",
              " 'been',\n",
              " 'being',\n",
              " 'have',\n",
              " 'has',\n",
              " 'had',\n",
              " 'having',\n",
              " 'do',\n",
              " 'does',\n",
              " 'did',\n",
              " 'doing',\n",
              " 'a',\n",
              " 'an',\n",
              " 'the',\n",
              " 'and',\n",
              " 'but',\n",
              " 'if',\n",
              " 'or',\n",
              " 'because',\n",
              " 'as',\n",
              " 'until',\n",
              " 'while',\n",
              " 'of',\n",
              " 'at',\n",
              " 'by',\n",
              " 'for',\n",
              " 'with',\n",
              " 'about',\n",
              " 'against',\n",
              " 'between',\n",
              " 'into',\n",
              " 'through',\n",
              " 'during',\n",
              " 'before',\n",
              " 'after',\n",
              " 'above',\n",
              " 'below',\n",
              " 'to',\n",
              " 'from',\n",
              " 'up',\n",
              " 'down',\n",
              " 'in',\n",
              " 'out',\n",
              " 'on',\n",
              " 'off',\n",
              " 'over',\n",
              " 'under',\n",
              " 'again',\n",
              " 'further',\n",
              " 'then',\n",
              " 'once',\n",
              " 'here',\n",
              " 'there',\n",
              " 'when',\n",
              " 'where',\n",
              " 'why',\n",
              " 'how',\n",
              " 'all',\n",
              " 'any',\n",
              " 'both',\n",
              " 'each',\n",
              " 'few',\n",
              " 'more',\n",
              " 'most',\n",
              " 'other',\n",
              " 'some',\n",
              " 'such',\n",
              " 'no',\n",
              " 'nor',\n",
              " 'not',\n",
              " 'only',\n",
              " 'own',\n",
              " 'same',\n",
              " 'so',\n",
              " 'than',\n",
              " 'too',\n",
              " 'very',\n",
              " 's',\n",
              " 't',\n",
              " 'can',\n",
              " 'will',\n",
              " 'just',\n",
              " 'don',\n",
              " \"don't\",\n",
              " 'should',\n",
              " \"should've\",\n",
              " 'now',\n",
              " 'd',\n",
              " 'll',\n",
              " 'm',\n",
              " 'o',\n",
              " 're',\n",
              " 've',\n",
              " 'y',\n",
              " 'ain',\n",
              " 'aren',\n",
              " \"aren't\",\n",
              " 'couldn',\n",
              " \"couldn't\",\n",
              " 'didn',\n",
              " \"didn't\",\n",
              " 'doesn',\n",
              " \"doesn't\",\n",
              " 'hadn',\n",
              " \"hadn't\",\n",
              " 'hasn',\n",
              " \"hasn't\",\n",
              " 'haven',\n",
              " \"haven't\",\n",
              " 'isn',\n",
              " \"isn't\",\n",
              " 'ma',\n",
              " 'mightn',\n",
              " \"mightn't\",\n",
              " 'mustn',\n",
              " \"mustn't\",\n",
              " 'needn',\n",
              " \"needn't\",\n",
              " 'shan',\n",
              " \"shan't\",\n",
              " 'shouldn',\n",
              " \"shouldn't\",\n",
              " 'wasn',\n",
              " \"wasn't\",\n",
              " 'weren',\n",
              " \"weren't\",\n",
              " 'won',\n",
              " \"won't\",\n",
              " 'wouldn',\n",
              " \"wouldn't\"]"
            ]
          },
          "metadata": {},
          "execution_count": 177
        }
      ]
    },
    {
      "cell_type": "code",
      "source": [
        "fastfoodrdd = fastfoodrdd.filter(lambda x: x[1] not in stopwords).sortByKey(False)"
      ],
      "metadata": {
        "id": "VxNRdFGbOs0s"
      },
      "execution_count": 178,
      "outputs": []
    },
    {
      "cell_type": "code",
      "source": [
        "fastfoodrdd.sortByKey(False).take(10)"
      ],
      "metadata": {
        "colab": {
          "base_uri": "https://localhost:8080/"
        },
        "id": "2n3kk-43O2EJ",
        "outputId": "7b18a347-e767-476b-fdf0-7142fd8b2374"
      },
      "execution_count": 179,
      "outputs": [
        {
          "output_type": "execute_result",
          "data": {
            "text/plain": [
              "[(4558, 'app'),\n",
              " (3383, 'order'),\n",
              " (1264, 'time'),\n",
              " (1225, 'get'),\n",
              " (833, 'food'),\n",
              " (827, 'use'),\n",
              " (800, 'it’s'),\n",
              " (795, 'store'),\n",
              " (758, 'one'),\n",
              " (746, 'even')]"
            ]
          },
          "metadata": {},
          "execution_count": 179
        }
      ]
    },
    {
      "cell_type": "markdown",
      "source": [
        "Analysis of dataset"
      ],
      "metadata": {
        "id": "34W08o7Ex0JD"
      }
    },
    {
      "cell_type": "code",
      "source": [
        "df = pd.read_csv('/content/data/result.csv')"
      ],
      "metadata": {
        "id": "zELqqUij9RkT"
      },
      "execution_count": 244,
      "outputs": []
    },
    {
      "cell_type": "code",
      "source": [
        "df"
      ],
      "metadata": {
        "colab": {
          "base_uri": "https://localhost:8080/",
          "height": 659
        },
        "id": "dDvZo2JNUHWk",
        "outputId": "4c103bd2-7424-4ce5-c36e-7bb345b778bc"
      },
      "execution_count": 245,
      "outputs": [
        {
          "output_type": "execute_result",
          "data": {
            "text/plain": [
              "      Unnamed: 0                 date  isEdited  \\\n",
              "0              0  2020-04-18 15:23:05     False   \n",
              "1              1  2021-12-10 20:01:08     False   \n",
              "2              2  2020-07-02 13:47:03     False   \n",
              "3              3  2021-08-11 15:33:01     False   \n",
              "4              4  2021-04-16 17:23:43     False   \n",
              "...          ...                  ...       ...   \n",
              "1995         195  2019-03-06 19:28:21     False   \n",
              "1996         196  2018-04-24 22:24:59     False   \n",
              "1997         197  2020-05-08 19:26:06     False   \n",
              "1998         198  2019-11-01 23:42:51     False   \n",
              "1999         199  2019-09-16 13:53:14     False   \n",
              "\n",
              "                                                 review           userName  \\\n",
              "0     This app is better than most fast food apps wh...    FamilyMoji Idea   \n",
              "1     I’m a mega coupon fanatic. Every time I go out...      yelpcertified   \n",
              "2     I work at a large hospital and walk by McDonal...        Christa@TGH   \n",
              "3     I recently had to place an order three times b...           Jennysub   \n",
              "4     I don’t even know what more to do about this a...        Ashhart1020   \n",
              "...                                                 ...                ...   \n",
              "1995  Can’t log in, reset and it works in a browser,...         SodaPop678   \n",
              "1996  Need to put merge card available in the app. I...  Win of Crosswords   \n",
              "1997  Tried to redeem my birthday ice cream but ever...             R8NDOM   \n",
              "1998  Kind of useless.. no way to place order. Same ...           Rpmstock   \n",
              "1999          Same issues no ability to merge balance .    Technology 2122   \n",
              "\n",
              "                                      developerResponse  rating  \\\n",
              "0     {'id': 14762247, 'body': \"We're sorry about yo...       5   \n",
              "1                                                   NaN       5   \n",
              "2                                                   NaN       5   \n",
              "3                                                   NaN       2   \n",
              "4                                                   NaN       1   \n",
              "...                                                 ...     ...   \n",
              "1995                                                NaN       1   \n",
              "1996                                                NaN       1   \n",
              "1997                                                NaN       1   \n",
              "1998                                                NaN       1   \n",
              "1999                                                NaN       1   \n",
              "\n",
              "                               title    Company_name  \n",
              "0               Glitches to be Fixed       McDonalds  \n",
              "1     This app has lost it’s purpose       McDonalds  \n",
              "2                   Terrible service       McDonalds  \n",
              "3         Don’t turn your screen off       McDonalds  \n",
              "4         Unable to Even Use the App       McDonalds  \n",
              "...                              ...             ...  \n",
              "1995          Horrible waste of time  Baskin Robbins  \n",
              "1996                 Need to fix app  Baskin Robbins  \n",
              "1997                   App is broken  Baskin Robbins  \n",
              "1998      Doesn’t let order from app  Baskin Robbins  \n",
              "1999   Updated but nothing changed .  Baskin Robbins  \n",
              "\n",
              "[2000 rows x 9 columns]"
            ],
            "text/html": [
              "\n",
              "  <div id=\"df-03395354-a6c4-4212-85c6-99cee26e7c72\">\n",
              "    <div class=\"colab-df-container\">\n",
              "      <div>\n",
              "<style scoped>\n",
              "    .dataframe tbody tr th:only-of-type {\n",
              "        vertical-align: middle;\n",
              "    }\n",
              "\n",
              "    .dataframe tbody tr th {\n",
              "        vertical-align: top;\n",
              "    }\n",
              "\n",
              "    .dataframe thead th {\n",
              "        text-align: right;\n",
              "    }\n",
              "</style>\n",
              "<table border=\"1\" class=\"dataframe\">\n",
              "  <thead>\n",
              "    <tr style=\"text-align: right;\">\n",
              "      <th></th>\n",
              "      <th>Unnamed: 0</th>\n",
              "      <th>date</th>\n",
              "      <th>isEdited</th>\n",
              "      <th>review</th>\n",
              "      <th>userName</th>\n",
              "      <th>developerResponse</th>\n",
              "      <th>rating</th>\n",
              "      <th>title</th>\n",
              "      <th>Company_name</th>\n",
              "    </tr>\n",
              "  </thead>\n",
              "  <tbody>\n",
              "    <tr>\n",
              "      <th>0</th>\n",
              "      <td>0</td>\n",
              "      <td>2020-04-18 15:23:05</td>\n",
              "      <td>False</td>\n",
              "      <td>This app is better than most fast food apps wh...</td>\n",
              "      <td>FamilyMoji Idea</td>\n",
              "      <td>{'id': 14762247, 'body': \"We're sorry about yo...</td>\n",
              "      <td>5</td>\n",
              "      <td>Glitches to be Fixed</td>\n",
              "      <td>McDonalds</td>\n",
              "    </tr>\n",
              "    <tr>\n",
              "      <th>1</th>\n",
              "      <td>1</td>\n",
              "      <td>2021-12-10 20:01:08</td>\n",
              "      <td>False</td>\n",
              "      <td>I’m a mega coupon fanatic. Every time I go out...</td>\n",
              "      <td>yelpcertified</td>\n",
              "      <td>NaN</td>\n",
              "      <td>5</td>\n",
              "      <td>This app has lost it’s purpose</td>\n",
              "      <td>McDonalds</td>\n",
              "    </tr>\n",
              "    <tr>\n",
              "      <th>2</th>\n",
              "      <td>2</td>\n",
              "      <td>2020-07-02 13:47:03</td>\n",
              "      <td>False</td>\n",
              "      <td>I work at a large hospital and walk by McDonal...</td>\n",
              "      <td>Christa@TGH</td>\n",
              "      <td>NaN</td>\n",
              "      <td>5</td>\n",
              "      <td>Terrible service</td>\n",
              "      <td>McDonalds</td>\n",
              "    </tr>\n",
              "    <tr>\n",
              "      <th>3</th>\n",
              "      <td>3</td>\n",
              "      <td>2021-08-11 15:33:01</td>\n",
              "      <td>False</td>\n",
              "      <td>I recently had to place an order three times b...</td>\n",
              "      <td>Jennysub</td>\n",
              "      <td>NaN</td>\n",
              "      <td>2</td>\n",
              "      <td>Don’t turn your screen off</td>\n",
              "      <td>McDonalds</td>\n",
              "    </tr>\n",
              "    <tr>\n",
              "      <th>4</th>\n",
              "      <td>4</td>\n",
              "      <td>2021-04-16 17:23:43</td>\n",
              "      <td>False</td>\n",
              "      <td>I don’t even know what more to do about this a...</td>\n",
              "      <td>Ashhart1020</td>\n",
              "      <td>NaN</td>\n",
              "      <td>1</td>\n",
              "      <td>Unable to Even Use the App</td>\n",
              "      <td>McDonalds</td>\n",
              "    </tr>\n",
              "    <tr>\n",
              "      <th>...</th>\n",
              "      <td>...</td>\n",
              "      <td>...</td>\n",
              "      <td>...</td>\n",
              "      <td>...</td>\n",
              "      <td>...</td>\n",
              "      <td>...</td>\n",
              "      <td>...</td>\n",
              "      <td>...</td>\n",
              "      <td>...</td>\n",
              "    </tr>\n",
              "    <tr>\n",
              "      <th>1995</th>\n",
              "      <td>195</td>\n",
              "      <td>2019-03-06 19:28:21</td>\n",
              "      <td>False</td>\n",
              "      <td>Can’t log in, reset and it works in a browser,...</td>\n",
              "      <td>SodaPop678</td>\n",
              "      <td>NaN</td>\n",
              "      <td>1</td>\n",
              "      <td>Horrible waste of time</td>\n",
              "      <td>Baskin Robbins</td>\n",
              "    </tr>\n",
              "    <tr>\n",
              "      <th>1996</th>\n",
              "      <td>196</td>\n",
              "      <td>2018-04-24 22:24:59</td>\n",
              "      <td>False</td>\n",
              "      <td>Need to put merge card available in the app. I...</td>\n",
              "      <td>Win of Crosswords</td>\n",
              "      <td>NaN</td>\n",
              "      <td>1</td>\n",
              "      <td>Need to fix app</td>\n",
              "      <td>Baskin Robbins</td>\n",
              "    </tr>\n",
              "    <tr>\n",
              "      <th>1997</th>\n",
              "      <td>197</td>\n",
              "      <td>2020-05-08 19:26:06</td>\n",
              "      <td>False</td>\n",
              "      <td>Tried to redeem my birthday ice cream but ever...</td>\n",
              "      <td>R8NDOM</td>\n",
              "      <td>NaN</td>\n",
              "      <td>1</td>\n",
              "      <td>App is broken</td>\n",
              "      <td>Baskin Robbins</td>\n",
              "    </tr>\n",
              "    <tr>\n",
              "      <th>1998</th>\n",
              "      <td>198</td>\n",
              "      <td>2019-11-01 23:42:51</td>\n",
              "      <td>False</td>\n",
              "      <td>Kind of useless.. no way to place order. Same ...</td>\n",
              "      <td>Rpmstock</td>\n",
              "      <td>NaN</td>\n",
              "      <td>1</td>\n",
              "      <td>Doesn’t let order from app</td>\n",
              "      <td>Baskin Robbins</td>\n",
              "    </tr>\n",
              "    <tr>\n",
              "      <th>1999</th>\n",
              "      <td>199</td>\n",
              "      <td>2019-09-16 13:53:14</td>\n",
              "      <td>False</td>\n",
              "      <td>Same issues no ability to merge balance .</td>\n",
              "      <td>Technology 2122</td>\n",
              "      <td>NaN</td>\n",
              "      <td>1</td>\n",
              "      <td>Updated but nothing changed .</td>\n",
              "      <td>Baskin Robbins</td>\n",
              "    </tr>\n",
              "  </tbody>\n",
              "</table>\n",
              "<p>2000 rows × 9 columns</p>\n",
              "</div>\n",
              "      <button class=\"colab-df-convert\" onclick=\"convertToInteractive('df-03395354-a6c4-4212-85c6-99cee26e7c72')\"\n",
              "              title=\"Convert this dataframe to an interactive table.\"\n",
              "              style=\"display:none;\">\n",
              "        \n",
              "  <svg xmlns=\"http://www.w3.org/2000/svg\" height=\"24px\"viewBox=\"0 0 24 24\"\n",
              "       width=\"24px\">\n",
              "    <path d=\"M0 0h24v24H0V0z\" fill=\"none\"/>\n",
              "    <path d=\"M18.56 5.44l.94 2.06.94-2.06 2.06-.94-2.06-.94-.94-2.06-.94 2.06-2.06.94zm-11 1L8.5 8.5l.94-2.06 2.06-.94-2.06-.94L8.5 2.5l-.94 2.06-2.06.94zm10 10l.94 2.06.94-2.06 2.06-.94-2.06-.94-.94-2.06-.94 2.06-2.06.94z\"/><path d=\"M17.41 7.96l-1.37-1.37c-.4-.4-.92-.59-1.43-.59-.52 0-1.04.2-1.43.59L10.3 9.45l-7.72 7.72c-.78.78-.78 2.05 0 2.83L4 21.41c.39.39.9.59 1.41.59.51 0 1.02-.2 1.41-.59l7.78-7.78 2.81-2.81c.8-.78.8-2.07 0-2.86zM5.41 20L4 18.59l7.72-7.72 1.47 1.35L5.41 20z\"/>\n",
              "  </svg>\n",
              "      </button>\n",
              "      \n",
              "  <style>\n",
              "    .colab-df-container {\n",
              "      display:flex;\n",
              "      flex-wrap:wrap;\n",
              "      gap: 12px;\n",
              "    }\n",
              "\n",
              "    .colab-df-convert {\n",
              "      background-color: #E8F0FE;\n",
              "      border: none;\n",
              "      border-radius: 50%;\n",
              "      cursor: pointer;\n",
              "      display: none;\n",
              "      fill: #1967D2;\n",
              "      height: 32px;\n",
              "      padding: 0 0 0 0;\n",
              "      width: 32px;\n",
              "    }\n",
              "\n",
              "    .colab-df-convert:hover {\n",
              "      background-color: #E2EBFA;\n",
              "      box-shadow: 0px 1px 2px rgba(60, 64, 67, 0.3), 0px 1px 3px 1px rgba(60, 64, 67, 0.15);\n",
              "      fill: #174EA6;\n",
              "    }\n",
              "\n",
              "    [theme=dark] .colab-df-convert {\n",
              "      background-color: #3B4455;\n",
              "      fill: #D2E3FC;\n",
              "    }\n",
              "\n",
              "    [theme=dark] .colab-df-convert:hover {\n",
              "      background-color: #434B5C;\n",
              "      box-shadow: 0px 1px 3px 1px rgba(0, 0, 0, 0.15);\n",
              "      filter: drop-shadow(0px 1px 2px rgba(0, 0, 0, 0.3));\n",
              "      fill: #FFFFFF;\n",
              "    }\n",
              "  </style>\n",
              "\n",
              "      <script>\n",
              "        const buttonEl =\n",
              "          document.querySelector('#df-03395354-a6c4-4212-85c6-99cee26e7c72 button.colab-df-convert');\n",
              "        buttonEl.style.display =\n",
              "          google.colab.kernel.accessAllowed ? 'block' : 'none';\n",
              "\n",
              "        async function convertToInteractive(key) {\n",
              "          const element = document.querySelector('#df-03395354-a6c4-4212-85c6-99cee26e7c72');\n",
              "          const dataTable =\n",
              "            await google.colab.kernel.invokeFunction('convertToInteractive',\n",
              "                                                     [key], {});\n",
              "          if (!dataTable) return;\n",
              "\n",
              "          const docLinkHtml = 'Like what you see? Visit the ' +\n",
              "            '<a target=\"_blank\" href=https://colab.research.google.com/notebooks/data_table.ipynb>data table notebook</a>'\n",
              "            + ' to learn more about interactive tables.';\n",
              "          element.innerHTML = '';\n",
              "          dataTable['output_type'] = 'display_data';\n",
              "          await google.colab.output.renderOutput(dataTable, element);\n",
              "          const docLink = document.createElement('div');\n",
              "          docLink.innerHTML = docLinkHtml;\n",
              "          element.appendChild(docLink);\n",
              "        }\n",
              "      </script>\n",
              "    </div>\n",
              "  </div>\n",
              "  "
            ]
          },
          "metadata": {},
          "execution_count": 245
        }
      ]
    },
    {
      "cell_type": "code",
      "source": [
        "#created aggregated information\n",
        "import seaborn as sns\n",
        "x = df.groupby([\"Company_name\"], as_index=False).agg({\"rating\": np.mean})\n",
        "x"
      ],
      "metadata": {
        "colab": {
          "base_uri": "https://localhost:8080/",
          "height": 363
        },
        "id": "iYdlT1NaO0eb",
        "outputId": "6b3fd749-2224-4737-bcaf-2c9d988928e2"
      },
      "execution_count": 189,
      "outputs": [
        {
          "output_type": "execute_result",
          "data": {
            "text/plain": [
              "     Company_name  rating\n",
              "0  Baskin Robbins   1.670\n",
              "1   Boston Market   2.910\n",
              "2         Dominos   3.535\n",
              "3             KFC   1.930\n",
              "4    Krispy Kreme   2.225\n",
              "5       McDonalds   2.260\n",
              "6   Panda Express   2.035\n",
              "7          Subway   2.240\n",
              "8       Taco Bell   2.390\n",
              "9          Wendys   2.125"
            ],
            "text/html": [
              "\n",
              "  <div id=\"df-b29de193-6683-4865-803f-5fe16ae3297a\">\n",
              "    <div class=\"colab-df-container\">\n",
              "      <div>\n",
              "<style scoped>\n",
              "    .dataframe tbody tr th:only-of-type {\n",
              "        vertical-align: middle;\n",
              "    }\n",
              "\n",
              "    .dataframe tbody tr th {\n",
              "        vertical-align: top;\n",
              "    }\n",
              "\n",
              "    .dataframe thead th {\n",
              "        text-align: right;\n",
              "    }\n",
              "</style>\n",
              "<table border=\"1\" class=\"dataframe\">\n",
              "  <thead>\n",
              "    <tr style=\"text-align: right;\">\n",
              "      <th></th>\n",
              "      <th>Company_name</th>\n",
              "      <th>rating</th>\n",
              "    </tr>\n",
              "  </thead>\n",
              "  <tbody>\n",
              "    <tr>\n",
              "      <th>0</th>\n",
              "      <td>Baskin Robbins</td>\n",
              "      <td>1.670</td>\n",
              "    </tr>\n",
              "    <tr>\n",
              "      <th>1</th>\n",
              "      <td>Boston Market</td>\n",
              "      <td>2.910</td>\n",
              "    </tr>\n",
              "    <tr>\n",
              "      <th>2</th>\n",
              "      <td>Dominos</td>\n",
              "      <td>3.535</td>\n",
              "    </tr>\n",
              "    <tr>\n",
              "      <th>3</th>\n",
              "      <td>KFC</td>\n",
              "      <td>1.930</td>\n",
              "    </tr>\n",
              "    <tr>\n",
              "      <th>4</th>\n",
              "      <td>Krispy Kreme</td>\n",
              "      <td>2.225</td>\n",
              "    </tr>\n",
              "    <tr>\n",
              "      <th>5</th>\n",
              "      <td>McDonalds</td>\n",
              "      <td>2.260</td>\n",
              "    </tr>\n",
              "    <tr>\n",
              "      <th>6</th>\n",
              "      <td>Panda Express</td>\n",
              "      <td>2.035</td>\n",
              "    </tr>\n",
              "    <tr>\n",
              "      <th>7</th>\n",
              "      <td>Subway</td>\n",
              "      <td>2.240</td>\n",
              "    </tr>\n",
              "    <tr>\n",
              "      <th>8</th>\n",
              "      <td>Taco Bell</td>\n",
              "      <td>2.390</td>\n",
              "    </tr>\n",
              "    <tr>\n",
              "      <th>9</th>\n",
              "      <td>Wendys</td>\n",
              "      <td>2.125</td>\n",
              "    </tr>\n",
              "  </tbody>\n",
              "</table>\n",
              "</div>\n",
              "      <button class=\"colab-df-convert\" onclick=\"convertToInteractive('df-b29de193-6683-4865-803f-5fe16ae3297a')\"\n",
              "              title=\"Convert this dataframe to an interactive table.\"\n",
              "              style=\"display:none;\">\n",
              "        \n",
              "  <svg xmlns=\"http://www.w3.org/2000/svg\" height=\"24px\"viewBox=\"0 0 24 24\"\n",
              "       width=\"24px\">\n",
              "    <path d=\"M0 0h24v24H0V0z\" fill=\"none\"/>\n",
              "    <path d=\"M18.56 5.44l.94 2.06.94-2.06 2.06-.94-2.06-.94-.94-2.06-.94 2.06-2.06.94zm-11 1L8.5 8.5l.94-2.06 2.06-.94-2.06-.94L8.5 2.5l-.94 2.06-2.06.94zm10 10l.94 2.06.94-2.06 2.06-.94-2.06-.94-.94-2.06-.94 2.06-2.06.94z\"/><path d=\"M17.41 7.96l-1.37-1.37c-.4-.4-.92-.59-1.43-.59-.52 0-1.04.2-1.43.59L10.3 9.45l-7.72 7.72c-.78.78-.78 2.05 0 2.83L4 21.41c.39.39.9.59 1.41.59.51 0 1.02-.2 1.41-.59l7.78-7.78 2.81-2.81c.8-.78.8-2.07 0-2.86zM5.41 20L4 18.59l7.72-7.72 1.47 1.35L5.41 20z\"/>\n",
              "  </svg>\n",
              "      </button>\n",
              "      \n",
              "  <style>\n",
              "    .colab-df-container {\n",
              "      display:flex;\n",
              "      flex-wrap:wrap;\n",
              "      gap: 12px;\n",
              "    }\n",
              "\n",
              "    .colab-df-convert {\n",
              "      background-color: #E8F0FE;\n",
              "      border: none;\n",
              "      border-radius: 50%;\n",
              "      cursor: pointer;\n",
              "      display: none;\n",
              "      fill: #1967D2;\n",
              "      height: 32px;\n",
              "      padding: 0 0 0 0;\n",
              "      width: 32px;\n",
              "    }\n",
              "\n",
              "    .colab-df-convert:hover {\n",
              "      background-color: #E2EBFA;\n",
              "      box-shadow: 0px 1px 2px rgba(60, 64, 67, 0.3), 0px 1px 3px 1px rgba(60, 64, 67, 0.15);\n",
              "      fill: #174EA6;\n",
              "    }\n",
              "\n",
              "    [theme=dark] .colab-df-convert {\n",
              "      background-color: #3B4455;\n",
              "      fill: #D2E3FC;\n",
              "    }\n",
              "\n",
              "    [theme=dark] .colab-df-convert:hover {\n",
              "      background-color: #434B5C;\n",
              "      box-shadow: 0px 1px 3px 1px rgba(0, 0, 0, 0.15);\n",
              "      filter: drop-shadow(0px 1px 2px rgba(0, 0, 0, 0.3));\n",
              "      fill: #FFFFFF;\n",
              "    }\n",
              "  </style>\n",
              "\n",
              "      <script>\n",
              "        const buttonEl =\n",
              "          document.querySelector('#df-b29de193-6683-4865-803f-5fe16ae3297a button.colab-df-convert');\n",
              "        buttonEl.style.display =\n",
              "          google.colab.kernel.accessAllowed ? 'block' : 'none';\n",
              "\n",
              "        async function convertToInteractive(key) {\n",
              "          const element = document.querySelector('#df-b29de193-6683-4865-803f-5fe16ae3297a');\n",
              "          const dataTable =\n",
              "            await google.colab.kernel.invokeFunction('convertToInteractive',\n",
              "                                                     [key], {});\n",
              "          if (!dataTable) return;\n",
              "\n",
              "          const docLinkHtml = 'Like what you see? Visit the ' +\n",
              "            '<a target=\"_blank\" href=https://colab.research.google.com/notebooks/data_table.ipynb>data table notebook</a>'\n",
              "            + ' to learn more about interactive tables.';\n",
              "          element.innerHTML = '';\n",
              "          dataTable['output_type'] = 'display_data';\n",
              "          await google.colab.output.renderOutput(dataTable, element);\n",
              "          const docLink = document.createElement('div');\n",
              "          docLink.innerHTML = docLinkHtml;\n",
              "          element.appendChild(docLink);\n",
              "        }\n",
              "      </script>\n",
              "    </div>\n",
              "  </div>\n",
              "  "
            ]
          },
          "metadata": {},
          "execution_count": 189
        }
      ]
    },
    {
      "cell_type": "code",
      "source": [
        "df['num_words_in_review']=df['review'].str.split().map(lambda x: len(x))"
      ],
      "metadata": {
        "id": "fd3fwMqVdUAa"
      },
      "execution_count": 190,
      "outputs": []
    },
    {
      "cell_type": "code",
      "source": [
        "import matplotlib.pyplot as plt\n",
        "import seaborn as sns\n",
        "plt.style.use('fivethirtyeight')\n",
        "\n",
        "# for advanced visualizations\n",
        "import plotly.offline as py\n",
        "from plotly.offline import init_notebook_mode, iplot\n",
        "import plotly.graph_objs as go\n",
        "from plotly import tools\n",
        "init_notebook_mode(connected = True)\n",
        "import plotly.figure_factory as ff\n",
        "\n",
        "import warnings\n",
        "warnings.filterwarnings('ignore')\n",
        "\n",
        "plt.rcParams['figure.figsize'] = (12, 7)\n",
        "plt.style.use('fivethirtyeight')\n",
        "\n",
        "sns.boxplot(df['rating'], df['num_words_in_review'], palette = 'Blues')\n",
        "plt.title(\"Length of review vs Ratings\")\n",
        "plt.show()"
      ],
      "metadata": {
        "colab": {
          "base_uri": "https://localhost:8080/",
          "height": 500
        },
        "id": "A_nLtMvWcTaW",
        "outputId": "32f0a0cc-5a92-4042-a989-f6aeb4d0a42b"
      },
      "execution_count": 191,
      "outputs": [
        {
          "output_type": "display_data",
          "data": {
            "text/html": [
              "        <script type=\"text/javascript\">\n",
              "        window.PlotlyConfig = {MathJaxConfig: 'local'};\n",
              "        if (window.MathJax) {MathJax.Hub.Config({SVG: {font: \"STIX-Web\"}});}\n",
              "        if (typeof require !== 'undefined') {\n",
              "        require.undef(\"plotly\");\n",
              "        requirejs.config({\n",
              "            paths: {\n",
              "                'plotly': ['https://cdn.plot.ly/plotly-2.8.3.min']\n",
              "            }\n",
              "        });\n",
              "        require(['plotly'], function(Plotly) {\n",
              "            window._Plotly = Plotly;\n",
              "        });\n",
              "        }\n",
              "        </script>\n",
              "        "
            ]
          },
          "metadata": {}
        },
        {
          "output_type": "display_data",
          "data": {
            "text/plain": [
              "<Figure size 864x504 with 1 Axes>"
            ],
            "image/png": "[encoded data removed]"
          },
          "metadata": {}
        }
      ]
    },
    {
      "cell_type": "code",
      "source": [
        "plt.rcParams['figure.figsize'] = (15, 9)\n",
        "plt.style.use('fivethirtyeight')\n",
        "\n",
        "sns.boxenplot(df['Company_name'], df['rating'], palette = 'spring')\n",
        "plt.title(\"Company_names vs Ratings\")\n",
        "plt.xticks(rotation = 90)\n",
        "plt.show()"
      ],
      "metadata": {
        "colab": {
          "base_uri": "https://localhost:8080/",
          "height": 709
        },
        "id": "QEPPPecseaZ5",
        "outputId": "275f2a3e-9fc5-467c-d319-8152a63496ba"
      },
      "execution_count": 192,
      "outputs": [
        {
          "output_type": "display_data",
          "data": {
            "text/plain": [
              "<Figure size 1080x648 with 1 Axes>"
            ],
            "image/png": "[encoded data removed]"
          },
          "metadata": {}
        }
      ]
    },
    {
      "cell_type": "code",
      "source": [
        "\n",
        "plt.rcParams['figure.figsize'] = (15, 9)\n",
        "plt.style.use('fivethirtyeight')\n",
        "\n",
        "sns.swarmplot(df['Company_name'], df['num_words_in_review'], palette = 'deep')\n",
        "plt.title(\"Companies vs Length of review\")\n",
        "plt.xticks(rotation = 90)\n",
        "plt.show()"
      ],
      "metadata": {
        "colab": {
          "base_uri": "https://localhost:8080/",
          "height": 709
        },
        "id": "gFk6xpP3eAau",
        "outputId": "ed90a474-d725-48a4-ef74-fe62cee1dffa"
      },
      "execution_count": 193,
      "outputs": [
        {
          "output_type": "display_data",
          "data": {
            "text/plain": [
              "<Figure size 1080x648 with 1 Axes>"
            ],
            "image/png": "[encoded data removed]"
          },
          "metadata": {}
        }
      ]
    },
    {
      "cell_type": "code",
      "source": [
        "df"
      ],
      "metadata": {
        "colab": {
          "base_uri": "https://localhost:8080/",
          "height": 676
        },
        "id": "QLKuPZoJ8x6K",
        "outputId": "c3b55fed-f7fb-46ae-ed9d-25ea4f513208"
      },
      "execution_count": 194,
      "outputs": [
        {
          "output_type": "execute_result",
          "data": {
            "text/plain": [
              "      Unnamed: 0                 date  isEdited  \\\n",
              "0              0  2020-04-18 15:23:05     False   \n",
              "1              1  2021-12-10 20:01:08     False   \n",
              "2              2  2020-07-02 13:47:03     False   \n",
              "3              3  2021-08-11 15:33:01     False   \n",
              "4              4  2021-04-16 17:23:43     False   \n",
              "...          ...                  ...       ...   \n",
              "1995         195  2019-03-06 19:28:21     False   \n",
              "1996         196  2018-04-24 22:24:59     False   \n",
              "1997         197  2020-05-08 19:26:06     False   \n",
              "1998         198  2019-11-01 23:42:51     False   \n",
              "1999         199  2019-09-16 13:53:14     False   \n",
              "\n",
              "                                                 review           userName  \\\n",
              "0     This app is better than most fast food apps wh...    FamilyMoji Idea   \n",
              "1     I’m a mega coupon fanatic. Every time I go out...      yelpcertified   \n",
              "2     I work at a large hospital and walk by McDonal...        Christa@TGH   \n",
              "3     I recently had to place an order three times b...           Jennysub   \n",
              "4     I don’t even know what more to do about this a...        Ashhart1020   \n",
              "...                                                 ...                ...   \n",
              "1995  Can’t log in, reset and it works in a browser,...         SodaPop678   \n",
              "1996  Need to put merge card available in the app. I...  Win of Crosswords   \n",
              "1997  Tried to redeem my birthday ice cream but ever...             R8NDOM   \n",
              "1998  Kind of useless.. no way to place order. Same ...           Rpmstock   \n",
              "1999          Same issues no ability to merge balance .    Technology 2122   \n",
              "\n",
              "                                      developerResponse  rating  \\\n",
              "0     {'id': 14762247, 'body': \"We're sorry about yo...       5   \n",
              "1                                                   NaN       5   \n",
              "2                                                   NaN       5   \n",
              "3                                                   NaN       2   \n",
              "4                                                   NaN       1   \n",
              "...                                                 ...     ...   \n",
              "1995                                                NaN       1   \n",
              "1996                                                NaN       1   \n",
              "1997                                                NaN       1   \n",
              "1998                                                NaN       1   \n",
              "1999                                                NaN       1   \n",
              "\n",
              "                               title    Company_name  num_words_in_review  \n",
              "0               Glitches to be Fixed       McDonalds                  250  \n",
              "1     This app has lost it’s purpose       McDonalds                  254  \n",
              "2                   Terrible service       McDonalds                  249  \n",
              "3         Don’t turn your screen off       McDonalds                  279  \n",
              "4         Unable to Even Use the App       McDonalds                  280  \n",
              "...                              ...             ...                  ...  \n",
              "1995          Horrible waste of time  Baskin Robbins                   23  \n",
              "1996                 Need to fix app  Baskin Robbins                   36  \n",
              "1997                   App is broken  Baskin Robbins                   26  \n",
              "1998      Doesn’t let order from app  Baskin Robbins                   21  \n",
              "1999   Updated but nothing changed .  Baskin Robbins                    8  \n",
              "\n",
              "[2000 rows x 10 columns]"
            ],
            "text/html": [
              "\n",
              "  <div id=\"df-c3727454-6b1d-4a55-a0e0-cc6cc2385390\">\n",
              "    <div class=\"colab-df-container\">\n",
              "      <div>\n",
              "<style scoped>\n",
              "    .dataframe tbody tr th:only-of-type {\n",
              "        vertical-align: middle;\n",
              "    }\n",
              "\n",
              "    .dataframe tbody tr th {\n",
              "        vertical-align: top;\n",
              "    }\n",
              "\n",
              "    .dataframe thead th {\n",
              "        text-align: right;\n",
              "    }\n",
              "</style>\n",
              "<table border=\"1\" class=\"dataframe\">\n",
              "  <thead>\n",
              "    <tr style=\"text-align: right;\">\n",
              "      <th></th>\n",
              "      <th>Unnamed: 0</th>\n",
              "      <th>date</th>\n",
              "      <th>isEdited</th>\n",
              "      <th>review</th>\n",
              "      <th>userName</th>\n",
              "      <th>developerResponse</th>\n",
              "      <th>rating</th>\n",
              "      <th>title</th>\n",
              "      <th>Company_name</th>\n",
              "      <th>num_words_in_review</th>\n",
              "    </tr>\n",
              "  </thead>\n",
              "  <tbody>\n",
              "    <tr>\n",
              "      <th>0</th>\n",
              "      <td>0</td>\n",
              "      <td>2020-04-18 15:23:05</td>\n",
              "      <td>False</td>\n",
              "      <td>This app is better than most fast food apps wh...</td>\n",
              "      <td>FamilyMoji Idea</td>\n",
              "      <td>{'id': 14762247, 'body': \"We're sorry about yo...</td>\n",
              "      <td>5</td>\n",
              "      <td>Glitches to be Fixed</td>\n",
              "      <td>McDonalds</td>\n",
              "      <td>250</td>\n",
              "    </tr>\n",
              "    <tr>\n",
              "      <th>1</th>\n",
              "      <td>1</td>\n",
              "      <td>2021-12-10 20:01:08</td>\n",
              "      <td>False</td>\n",
              "      <td>I’m a mega coupon fanatic. Every time I go out...</td>\n",
              "      <td>yelpcertified</td>\n",
              "      <td>NaN</td>\n",
              "      <td>5</td>\n",
              "      <td>This app has lost it’s purpose</td>\n",
              "      <td>McDonalds</td>\n",
              "      <td>254</td>\n",
              "    </tr>\n",
              "    <tr>\n",
              "      <th>2</th>\n",
              "      <td>2</td>\n",
              "      <td>2020-07-02 13:47:03</td>\n",
              "      <td>False</td>\n",
              "      <td>I work at a large hospital and walk by McDonal...</td>\n",
              "      <td>Christa@TGH</td>\n",
              "      <td>NaN</td>\n",
              "      <td>5</td>\n",
              "      <td>Terrible service</td>\n",
              "      <td>McDonalds</td>\n",
              "      <td>249</td>\n",
              "    </tr>\n",
              "    <tr>\n",
              "      <th>3</th>\n",
              "      <td>3</td>\n",
              "      <td>2021-08-11 15:33:01</td>\n",
              "      <td>False</td>\n",
              "      <td>I recently had to place an order three times b...</td>\n",
              "      <td>Jennysub</td>\n",
              "      <td>NaN</td>\n",
              "      <td>2</td>\n",
              "      <td>Don’t turn your screen off</td>\n",
              "      <td>McDonalds</td>\n",
              "      <td>279</td>\n",
              "    </tr>\n",
              "    <tr>\n",
              "      <th>4</th>\n",
              "      <td>4</td>\n",
              "      <td>2021-04-16 17:23:43</td>\n",
              "      <td>False</td>\n",
              "      <td>I don’t even know what more to do about this a...</td>\n",
              "      <td>Ashhart1020</td>\n",
              "      <td>NaN</td>\n",
              "      <td>1</td>\n",
              "      <td>Unable to Even Use the App</td>\n",
              "      <td>McDonalds</td>\n",
              "      <td>280</td>\n",
              "    </tr>\n",
              "    <tr>\n",
              "      <th>...</th>\n",
              "      <td>...</td>\n",
              "      <td>...</td>\n",
              "      <td>...</td>\n",
              "      <td>...</td>\n",
              "      <td>...</td>\n",
              "      <td>...</td>\n",
              "      <td>...</td>\n",
              "      <td>...</td>\n",
              "      <td>...</td>\n",
              "      <td>...</td>\n",
              "    </tr>\n",
              "    <tr>\n",
              "      <th>1995</th>\n",
              "      <td>195</td>\n",
              "      <td>2019-03-06 19:28:21</td>\n",
              "      <td>False</td>\n",
              "      <td>Can’t log in, reset and it works in a browser,...</td>\n",
              "      <td>SodaPop678</td>\n",
              "      <td>NaN</td>\n",
              "      <td>1</td>\n",
              "      <td>Horrible waste of time</td>\n",
              "      <td>Baskin Robbins</td>\n",
              "      <td>23</td>\n",
              "    </tr>\n",
              "    <tr>\n",
              "      <th>1996</th>\n",
              "      <td>196</td>\n",
              "      <td>2018-04-24 22:24:59</td>\n",
              "      <td>False</td>\n",
              "      <td>Need to put merge card available in the app. I...</td>\n",
              "      <td>Win of Crosswords</td>\n",
              "      <td>NaN</td>\n",
              "      <td>1</td>\n",
              "      <td>Need to fix app</td>\n",
              "      <td>Baskin Robbins</td>\n",
              "      <td>36</td>\n",
              "    </tr>\n",
              "    <tr>\n",
              "      <th>1997</th>\n",
              "      <td>197</td>\n",
              "      <td>2020-05-08 19:26:06</td>\n",
              "      <td>False</td>\n",
              "      <td>Tried to redeem my birthday ice cream but ever...</td>\n",
              "      <td>R8NDOM</td>\n",
              "      <td>NaN</td>\n",
              "      <td>1</td>\n",
              "      <td>App is broken</td>\n",
              "      <td>Baskin Robbins</td>\n",
              "      <td>26</td>\n",
              "    </tr>\n",
              "    <tr>\n",
              "      <th>1998</th>\n",
              "      <td>198</td>\n",
              "      <td>2019-11-01 23:42:51</td>\n",
              "      <td>False</td>\n",
              "      <td>Kind of useless.. no way to place order. Same ...</td>\n",
              "      <td>Rpmstock</td>\n",
              "      <td>NaN</td>\n",
              "      <td>1</td>\n",
              "      <td>Doesn’t let order from app</td>\n",
              "      <td>Baskin Robbins</td>\n",
              "      <td>21</td>\n",
              "    </tr>\n",
              "    <tr>\n",
              "      <th>1999</th>\n",
              "      <td>199</td>\n",
              "      <td>2019-09-16 13:53:14</td>\n",
              "      <td>False</td>\n",
              "      <td>Same issues no ability to merge balance .</td>\n",
              "      <td>Technology 2122</td>\n",
              "      <td>NaN</td>\n",
              "      <td>1</td>\n",
              "      <td>Updated but nothing changed .</td>\n",
              "      <td>Baskin Robbins</td>\n",
              "      <td>8</td>\n",
              "    </tr>\n",
              "  </tbody>\n",
              "</table>\n",
              "<p>2000 rows × 10 columns</p>\n",
              "</div>\n",
              "      <button class=\"colab-df-convert\" onclick=\"convertToInteractive('df-c3727454-6b1d-4a55-a0e0-cc6cc2385390')\"\n",
              "              title=\"Convert this dataframe to an interactive table.\"\n",
              "              style=\"display:none;\">\n",
              "        \n",
              "  <svg xmlns=\"http://www.w3.org/2000/svg\" height=\"24px\"viewBox=\"0 0 24 24\"\n",
              "       width=\"24px\">\n",
              "    <path d=\"M0 0h24v24H0V0z\" fill=\"none\"/>\n",
              "    <path d=\"M18.56 5.44l.94 2.06.94-2.06 2.06-.94-2.06-.94-.94-2.06-.94 2.06-2.06.94zm-11 1L8.5 8.5l.94-2.06 2.06-.94-2.06-.94L8.5 2.5l-.94 2.06-2.06.94zm10 10l.94 2.06.94-2.06 2.06-.94-2.06-.94-.94-2.06-.94 2.06-2.06.94z\"/><path d=\"M17.41 7.96l-1.37-1.37c-.4-.4-.92-.59-1.43-.59-.52 0-1.04.2-1.43.59L10.3 9.45l-7.72 7.72c-.78.78-.78 2.05 0 2.83L4 21.41c.39.39.9.59 1.41.59.51 0 1.02-.2 1.41-.59l7.78-7.78 2.81-2.81c.8-.78.8-2.07 0-2.86zM5.41 20L4 18.59l7.72-7.72 1.47 1.35L5.41 20z\"/>\n",
              "  </svg>\n",
              "      </button>\n",
              "      \n",
              "  <style>\n",
              "    .colab-df-container {\n",
              "      display:flex;\n",
              "      flex-wrap:wrap;\n",
              "      gap: 12px;\n",
              "    }\n",
              "\n",
              "    .colab-df-convert {\n",
              "      background-color: #E8F0FE;\n",
              "      border: none;\n",
              "      border-radius: 50%;\n",
              "      cursor: pointer;\n",
              "      display: none;\n",
              "      fill: #1967D2;\n",
              "      height: 32px;\n",
              "      padding: 0 0 0 0;\n",
              "      width: 32px;\n",
              "    }\n",
              "\n",
              "    .colab-df-convert:hover {\n",
              "      background-color: #E2EBFA;\n",
              "      box-shadow: 0px 1px 2px rgba(60, 64, 67, 0.3), 0px 1px 3px 1px rgba(60, 64, 67, 0.15);\n",
              "      fill: #174EA6;\n",
              "    }\n",
              "\n",
              "    [theme=dark] .colab-df-convert {\n",
              "      background-color: #3B4455;\n",
              "      fill: #D2E3FC;\n",
              "    }\n",
              "\n",
              "    [theme=dark] .colab-df-convert:hover {\n",
              "      background-color: #434B5C;\n",
              "      box-shadow: 0px 1px 3px 1px rgba(0, 0, 0, 0.15);\n",
              "      filter: drop-shadow(0px 1px 2px rgba(0, 0, 0, 0.3));\n",
              "      fill: #FFFFFF;\n",
              "    }\n",
              "  </style>\n",
              "\n",
              "      <script>\n",
              "        const buttonEl =\n",
              "          document.querySelector('#df-c3727454-6b1d-4a55-a0e0-cc6cc2385390 button.colab-df-convert');\n",
              "        buttonEl.style.display =\n",
              "          google.colab.kernel.accessAllowed ? 'block' : 'none';\n",
              "\n",
              "        async function convertToInteractive(key) {\n",
              "          const element = document.querySelector('#df-c3727454-6b1d-4a55-a0e0-cc6cc2385390');\n",
              "          const dataTable =\n",
              "            await google.colab.kernel.invokeFunction('convertToInteractive',\n",
              "                                                     [key], {});\n",
              "          if (!dataTable) return;\n",
              "\n",
              "          const docLinkHtml = 'Like what you see? Visit the ' +\n",
              "            '<a target=\"_blank\" href=https://colab.research.google.com/notebooks/data_table.ipynb>data table notebook</a>'\n",
              "            + ' to learn more about interactive tables.';\n",
              "          element.innerHTML = '';\n",
              "          dataTable['output_type'] = 'display_data';\n",
              "          await google.colab.output.renderOutput(dataTable, element);\n",
              "          const docLink = document.createElement('div');\n",
              "          docLink.innerHTML = docLinkHtml;\n",
              "          element.appendChild(docLink);\n",
              "        }\n",
              "      </script>\n",
              "    </div>\n",
              "  </div>\n",
              "  "
            ]
          },
          "metadata": {},
          "execution_count": 194
        }
      ]
    },
    {
      "cell_type": "code",
      "source": [
        "import re\n",
        "features=df['review'].values\n",
        "#=== \n",
        "processed_features = []\n",
        "\n",
        "for sentence in range(0, len(features)):\n",
        "    \n",
        "    processed_feature = re.sub(r'\\W', ' ', str(features[sentence]))\n",
        "    # Remove all the special characters\n",
        "\n",
        "    # Remove all single characters\n",
        "    processed_feature= re.sub(r'\\s+[a-zA-Z]\\s+', ' ', processed_feature)\n",
        "\n",
        "    # Remove single characters from the start\n",
        "    processed_feature = re.sub(r'\\^[a-zA-Z]\\s+', ' ', processed_feature) \n",
        "\n",
        "    # Substituting multiple spaces with single space\n",
        "    processed_feature = re.sub(r'\\s+', ' ', processed_feature, flags=re.I)\n",
        "\n",
        "    # Converting to Lowercase\n",
        "    processed_feature = processed_feature.lower()\n",
        "\n",
        "    processed_features.append(processed_feature)"
      ],
      "metadata": {
        "id": "SGJQ_B_hf7Y3"
      },
      "execution_count": 258,
      "outputs": []
    },
    {
      "cell_type": "code",
      "source": [
        "df3=pd.DataFrame()\n",
        "df3['features']=processed_features\n",
        "\n",
        "#=======\n",
        "from textblob import TextBlob\n",
        "from wordcloud import WordCloud\n",
        "# Create a function to get the subjectivity\n",
        "def getSubjectivity(text):\n",
        "   return TextBlob(text).sentiment.subjectivity\n",
        "\n",
        "# Create a function to get the polarity\n",
        "def getPolarity(text):\n",
        "   return  TextBlob(text).sentiment.polarity\n",
        "\n",
        "\n",
        "# Create two new columns 'Subjectivity' & 'Polarity'\n",
        "df3['Subjectivity'] = df3['features'].apply(getSubjectivity)\n",
        "df3['Polarity'] = df3['features'].apply(getPolarity)"
      ],
      "metadata": {
        "id": "6X0p4FRVhFLd"
      },
      "execution_count": 259,
      "outputs": []
    },
    {
      "cell_type": "code",
      "source": [
        "#Create a function to compute negative (-1), neutral (0) and positive (+1) analysis\n",
        "def getAnalysis(score):\n",
        " if score < 0:\n",
        "  return 'Negative'\n",
        " elif score == 0:\n",
        "  return 'Neutral'\n",
        " else:\n",
        "  return 'Positive'\n",
        "df3['Analysis'] = df3['Polarity'].apply(getAnalysis)\n",
        "df3"
      ],
      "metadata": {
        "colab": {
          "base_uri": "https://localhost:8080/",
          "height": 423
        },
        "id": "s1TLCTQfhQbB",
        "outputId": "6b340e0b-6673-45eb-cacb-260192cdc643"
      },
      "execution_count": 260,
      "outputs": [
        {
          "output_type": "execute_result",
          "data": {
            "text/plain": [
              "                                               features  Subjectivity  \\\n",
              "0     this app is better than most fast food apps wh...      0.436568   \n",
              "1     i a mega coupon fanatic every time go out m al...      0.494117   \n",
              "2     i work at large hospital and walk by mcdonalds...      0.557993   \n",
              "3     i recently had to place an order three times b...      0.473636   \n",
              "4     i don even know what more to do about this app...      0.288677   \n",
              "...                                                 ...           ...   \n",
              "1995  can log in reset and it works in browser app s...      0.300000   \n",
              "1996  need to put merge card available in the app ha...      0.344444   \n",
              "1997  tried to redeem my birthday ice cream but ever...      0.625000   \n",
              "1998  kind of useless no way to place order same fac...      0.408333   \n",
              "1999           same issues no ability to merge balance       0.125000   \n",
              "\n",
              "      Polarity  Analysis  \n",
              "0     0.182284  Positive  \n",
              "1     0.062237  Positive  \n",
              "2    -0.093027  Negative  \n",
              "3     0.027424  Positive  \n",
              "4    -0.013129  Negative  \n",
              "...        ...       ...  \n",
              "1995  0.012500  Positive  \n",
              "1996  0.122222  Positive  \n",
              "1997  0.500000  Positive  \n",
              "1998  0.033333  Positive  \n",
              "1999  0.000000   Neutral  \n",
              "\n",
              "[2000 rows x 4 columns]"
            ],
            "text/html": [
              "\n",
              "  <div id=\"df-d317b3f8-1fb9-4935-ab8b-e2148fab7b11\">\n",
              "    <div class=\"colab-df-container\">\n",
              "      <div>\n",
              "<style scoped>\n",
              "    .dataframe tbody tr th:only-of-type {\n",
              "        vertical-align: middle;\n",
              "    }\n",
              "\n",
              "    .dataframe tbody tr th {\n",
              "        vertical-align: top;\n",
              "    }\n",
              "\n",
              "    .dataframe thead th {\n",
              "        text-align: right;\n",
              "    }\n",
              "</style>\n",
              "<table border=\"1\" class=\"dataframe\">\n",
              "  <thead>\n",
              "    <tr style=\"text-align: right;\">\n",
              "      <th></th>\n",
              "      <th>features</th>\n",
              "      <th>Subjectivity</th>\n",
              "      <th>Polarity</th>\n",
              "      <th>Analysis</th>\n",
              "    </tr>\n",
              "  </thead>\n",
              "  <tbody>\n",
              "    <tr>\n",
              "      <th>0</th>\n",
              "      <td>this app is better than most fast food apps wh...</td>\n",
              "      <td>0.436568</td>\n",
              "      <td>0.182284</td>\n",
              "      <td>Positive</td>\n",
              "    </tr>\n",
              "    <tr>\n",
              "      <th>1</th>\n",
              "      <td>i a mega coupon fanatic every time go out m al...</td>\n",
              "      <td>0.494117</td>\n",
              "      <td>0.062237</td>\n",
              "      <td>Positive</td>\n",
              "    </tr>\n",
              "    <tr>\n",
              "      <th>2</th>\n",
              "      <td>i work at large hospital and walk by mcdonalds...</td>\n",
              "      <td>0.557993</td>\n",
              "      <td>-0.093027</td>\n",
              "      <td>Negative</td>\n",
              "    </tr>\n",
              "    <tr>\n",
              "      <th>3</th>\n",
              "      <td>i recently had to place an order three times b...</td>\n",
              "      <td>0.473636</td>\n",
              "      <td>0.027424</td>\n",
              "      <td>Positive</td>\n",
              "    </tr>\n",
              "    <tr>\n",
              "      <th>4</th>\n",
              "      <td>i don even know what more to do about this app...</td>\n",
              "      <td>0.288677</td>\n",
              "      <td>-0.013129</td>\n",
              "      <td>Negative</td>\n",
              "    </tr>\n",
              "    <tr>\n",
              "      <th>...</th>\n",
              "      <td>...</td>\n",
              "      <td>...</td>\n",
              "      <td>...</td>\n",
              "      <td>...</td>\n",
              "    </tr>\n",
              "    <tr>\n",
              "      <th>1995</th>\n",
              "      <td>can log in reset and it works in browser app s...</td>\n",
              "      <td>0.300000</td>\n",
              "      <td>0.012500</td>\n",
              "      <td>Positive</td>\n",
              "    </tr>\n",
              "    <tr>\n",
              "      <th>1996</th>\n",
              "      <td>need to put merge card available in the app ha...</td>\n",
              "      <td>0.344444</td>\n",
              "      <td>0.122222</td>\n",
              "      <td>Positive</td>\n",
              "    </tr>\n",
              "    <tr>\n",
              "      <th>1997</th>\n",
              "      <td>tried to redeem my birthday ice cream but ever...</td>\n",
              "      <td>0.625000</td>\n",
              "      <td>0.500000</td>\n",
              "      <td>Positive</td>\n",
              "    </tr>\n",
              "    <tr>\n",
              "      <th>1998</th>\n",
              "      <td>kind of useless no way to place order same fac...</td>\n",
              "      <td>0.408333</td>\n",
              "      <td>0.033333</td>\n",
              "      <td>Positive</td>\n",
              "    </tr>\n",
              "    <tr>\n",
              "      <th>1999</th>\n",
              "      <td>same issues no ability to merge balance</td>\n",
              "      <td>0.125000</td>\n",
              "      <td>0.000000</td>\n",
              "      <td>Neutral</td>\n",
              "    </tr>\n",
              "  </tbody>\n",
              "</table>\n",
              "<p>2000 rows × 4 columns</p>\n",
              "</div>\n",
              "      <button class=\"colab-df-convert\" onclick=\"convertToInteractive('df-d317b3f8-1fb9-4935-ab8b-e2148fab7b11')\"\n",
              "              title=\"Convert this dataframe to an interactive table.\"\n",
              "              style=\"display:none;\">\n",
              "        \n",
              "  <svg xmlns=\"http://www.w3.org/2000/svg\" height=\"24px\"viewBox=\"0 0 24 24\"\n",
              "       width=\"24px\">\n",
              "    <path d=\"M0 0h24v24H0V0z\" fill=\"none\"/>\n",
              "    <path d=\"M18.56 5.44l.94 2.06.94-2.06 2.06-.94-2.06-.94-.94-2.06-.94 2.06-2.06.94zm-11 1L8.5 8.5l.94-2.06 2.06-.94-2.06-.94L8.5 2.5l-.94 2.06-2.06.94zm10 10l.94 2.06.94-2.06 2.06-.94-2.06-.94-.94-2.06-.94 2.06-2.06.94z\"/><path d=\"M17.41 7.96l-1.37-1.37c-.4-.4-.92-.59-1.43-.59-.52 0-1.04.2-1.43.59L10.3 9.45l-7.72 7.72c-.78.78-.78 2.05 0 2.83L4 21.41c.39.39.9.59 1.41.59.51 0 1.02-.2 1.41-.59l7.78-7.78 2.81-2.81c.8-.78.8-2.07 0-2.86zM5.41 20L4 18.59l7.72-7.72 1.47 1.35L5.41 20z\"/>\n",
              "  </svg>\n",
              "      </button>\n",
              "      \n",
              "  <style>\n",
              "    .colab-df-container {\n",
              "      display:flex;\n",
              "      flex-wrap:wrap;\n",
              "      gap: 12px;\n",
              "    }\n",
              "\n",
              "    .colab-df-convert {\n",
              "      background-color: #E8F0FE;\n",
              "      border: none;\n",
              "      border-radius: 50%;\n",
              "      cursor: pointer;\n",
              "      display: none;\n",
              "      fill: #1967D2;\n",
              "      height: 32px;\n",
              "      padding: 0 0 0 0;\n",
              "      width: 32px;\n",
              "    }\n",
              "\n",
              "    .colab-df-convert:hover {\n",
              "      background-color: #E2EBFA;\n",
              "      box-shadow: 0px 1px 2px rgba(60, 64, 67, 0.3), 0px 1px 3px 1px rgba(60, 64, 67, 0.15);\n",
              "      fill: #174EA6;\n",
              "    }\n",
              "\n",
              "    [theme=dark] .colab-df-convert {\n",
              "      background-color: #3B4455;\n",
              "      fill: #D2E3FC;\n",
              "    }\n",
              "\n",
              "    [theme=dark] .colab-df-convert:hover {\n",
              "      background-color: #434B5C;\n",
              "      box-shadow: 0px 1px 3px 1px rgba(0, 0, 0, 0.15);\n",
              "      filter: drop-shadow(0px 1px 2px rgba(0, 0, 0, 0.3));\n",
              "      fill: #FFFFFF;\n",
              "    }\n",
              "  </style>\n",
              "\n",
              "      <script>\n",
              "        const buttonEl =\n",
              "          document.querySelector('#df-d317b3f8-1fb9-4935-ab8b-e2148fab7b11 button.colab-df-convert');\n",
              "        buttonEl.style.display =\n",
              "          google.colab.kernel.accessAllowed ? 'block' : 'none';\n",
              "\n",
              "        async function convertToInteractive(key) {\n",
              "          const element = document.querySelector('#df-d317b3f8-1fb9-4935-ab8b-e2148fab7b11');\n",
              "          const dataTable =\n",
              "            await google.colab.kernel.invokeFunction('convertToInteractive',\n",
              "                                                     [key], {});\n",
              "          if (!dataTable) return;\n",
              "\n",
              "          const docLinkHtml = 'Like what you see? Visit the ' +\n",
              "            '<a target=\"_blank\" href=https://colab.research.google.com/notebooks/data_table.ipynb>data table notebook</a>'\n",
              "            + ' to learn more about interactive tables.';\n",
              "          element.innerHTML = '';\n",
              "          dataTable['output_type'] = 'display_data';\n",
              "          await google.colab.output.renderOutput(dataTable, element);\n",
              "          const docLink = document.createElement('div');\n",
              "          docLink.innerHTML = docLinkHtml;\n",
              "          element.appendChild(docLink);\n",
              "        }\n",
              "      </script>\n",
              "    </div>\n",
              "  </div>\n",
              "  "
            ]
          },
          "metadata": {},
          "execution_count": 260
        }
      ]
    },
    {
      "cell_type": "code",
      "source": [
        "Positive_sent = df3[df3['Analysis']=='positive']\n",
        "Negative_sent = df3[df3['Analysis']=='negative']\n",
        "Neutral_sent = df3[df3['Analysis']=='neutral']"
      ],
      "metadata": {
        "id": "IYkWGGwkFU6L"
      },
      "execution_count": 261,
      "outputs": []
    },
    {
      "cell_type": "code",
      "source": [
        "!pip install nltk"
      ],
      "metadata": {
        "colab": {
          "base_uri": "https://localhost:8080/"
        },
        "id": "x0i_O79J0f4W",
        "outputId": "aebe8239-58b3-4878-ed9a-fb6ad9cc02ab"
      },
      "execution_count": 262,
      "outputs": [
        {
          "output_type": "stream",
          "name": "stdout",
          "text": [
            "Requirement already satisfied: nltk in /usr/local/lib/python3.7/dist-packages (3.2.5)\n",
            "Requirement already satisfied: six in /usr/local/lib/python3.7/dist-packages (from nltk) (1.15.0)\n"
          ]
        }
      ]
    },
    {
      "cell_type": "code",
      "source": [
        " import nltk\n",
        " nltk.download('stopwords')"
      ],
      "metadata": {
        "colab": {
          "base_uri": "https://localhost:8080/"
        },
        "id": "ChWWSBI50RTX",
        "outputId": "1f918986-15e2-4af9-b15c-9c5c3f5b7e5a"
      },
      "execution_count": 263,
      "outputs": [
        {
          "output_type": "stream",
          "name": "stdout",
          "text": [
            "[nltk_data] Downloading package stopwords to /root/nltk_data...\n",
            "[nltk_data]   Package stopwords is already up-to-date!\n"
          ]
        },
        {
          "output_type": "execute_result",
          "data": {
            "text/plain": [
              "True"
            ]
          },
          "metadata": {},
          "execution_count": 263
        }
      ]
    },
    {
      "cell_type": "code",
      "source": [
        "df3['temp_list'] = df3['features'].apply(lambda x:str(x).split())\n"
      ],
      "metadata": {
        "id": "mhlYRdKVYTqd"
      },
      "execution_count": 286,
      "outputs": []
    },
    {
      "cell_type": "code",
      "source": [
        "#df3['temp_list'] = df3['temp_list'].astype('string')\n",
        "#df3.dtypes"
      ],
      "metadata": {
        "colab": {
          "base_uri": "https://localhost:8080/"
        },
        "id": "nUcojHxFac5O",
        "outputId": "af34e1a5-831a-4a32-8318-94407affa91b"
      },
      "execution_count": 279,
      "outputs": [
        {
          "output_type": "execute_result",
          "data": {
            "text/plain": [
              "features         object\n",
              "Subjectivity    float64\n",
              "Polarity        float64\n",
              "Analysis         object\n",
              "temp_list        string\n",
              "dtype: object"
            ]
          },
          "metadata": {},
          "execution_count": 279
        }
      ]
    },
    {
      "cell_type": "code",
      "source": [
        "import nltk\n",
        "nltk.download('punkt')"
      ],
      "metadata": {
        "colab": {
          "base_uri": "https://localhost:8080/"
        },
        "id": "b_aNGXK-Zcfl",
        "outputId": "0cecd06d-e514-4817-d515-0f6844f0cc5e"
      },
      "execution_count": 281,
      "outputs": [
        {
          "output_type": "stream",
          "name": "stdout",
          "text": [
            "[nltk_data] Downloading package punkt to /root/nltk_data...\n",
            "[nltk_data]   Package punkt is already up-to-date!\n"
          ]
        },
        {
          "output_type": "execute_result",
          "data": {
            "text/plain": [
              "True"
            ]
          },
          "metadata": {},
          "execution_count": 281
        }
      ]
    },
    {
      "cell_type": "code",
      "source": [
        "def remove_stopword(x):\n",
        "    return [y for y in x if y not in stopwords.words('english')]"
      ],
      "metadata": {
        "id": "6qkIlNkIcJB6"
      },
      "execution_count": 289,
      "outputs": []
    },
    {
      "cell_type": "code",
      "source": [
        "df3['temp_list'] = df3['temp_list'].apply(lambda x:remove_stopword(x))"
      ],
      "metadata": {
        "id": "-QFmbwvhYsmT"
      },
      "execution_count": 291,
      "outputs": []
    },
    {
      "cell_type": "code",
      "source": [
        "df3"
      ],
      "metadata": {
        "colab": {
          "base_uri": "https://localhost:8080/",
          "height": 423
        },
        "id": "sSSduuEYWiT4",
        "outputId": "0c53a90c-9dca-41ac-aaa1-bef344f2c127"
      },
      "execution_count": 292,
      "outputs": [
        {
          "output_type": "execute_result",
          "data": {
            "text/plain": [
              "                                               features  Subjectivity  \\\n",
              "0     this app is better than most fast food apps wh...      0.436568   \n",
              "1     i a mega coupon fanatic every time go out m al...      0.494117   \n",
              "2     i work at large hospital and walk by mcdonalds...      0.557993   \n",
              "3     i recently had to place an order three times b...      0.473636   \n",
              "4     i don even know what more to do about this app...      0.288677   \n",
              "...                                                 ...           ...   \n",
              "1995  can log in reset and it works in browser app s...      0.300000   \n",
              "1996  need to put merge card available in the app ha...      0.344444   \n",
              "1997  tried to redeem my birthday ice cream but ever...      0.625000   \n",
              "1998  kind of useless no way to place order same fac...      0.408333   \n",
              "1999           same issues no ability to merge balance       0.125000   \n",
              "\n",
              "      Polarity  Analysis                                          temp_list  \n",
              "0     0.182284  Positive  [app, better, fast, food, apps, comes, ease, u...  \n",
              "1     0.062237  Positive  [mega, coupon, fanatic, every, time, go, alway...  \n",
              "2    -0.093027  Negative  [work, large, hospital, walk, mcdonalds, entra...  \n",
              "3     0.027424  Positive  [recently, place, order, three, times, app, ti...  \n",
              "4    -0.013129  Negative  [even, know, app, guess, ever, get, use, daily...  \n",
              "...        ...       ...                                                ...  \n",
              "1995  0.012500  Positive  [log, reset, works, browser, app, still, log, ...  \n",
              "1996  0.122222  Positive  [need, put, merge, card, available, app, 10, c...  \n",
              "1997  0.500000  Positive  [tried, redeem, birthday, ice, cream, every, t...  \n",
              "1998  0.033333  Positive  [kind, useless, way, place, order, facility, d...  \n",
              "1999  0.000000   Neutral                  [issues, ability, merge, balance]  \n",
              "\n",
              "[2000 rows x 5 columns]"
            ],
            "text/html": [
              "\n",
              "  <div id=\"df-d247b201-a681-4d9d-ba96-4c992defe9d6\">\n",
              "    <div class=\"colab-df-container\">\n",
              "      <div>\n",
              "<style scoped>\n",
              "    .dataframe tbody tr th:only-of-type {\n",
              "        vertical-align: middle;\n",
              "    }\n",
              "\n",
              "    .dataframe tbody tr th {\n",
              "        vertical-align: top;\n",
              "    }\n",
              "\n",
              "    .dataframe thead th {\n",
              "        text-align: right;\n",
              "    }\n",
              "</style>\n",
              "<table border=\"1\" class=\"dataframe\">\n",
              "  <thead>\n",
              "    <tr style=\"text-align: right;\">\n",
              "      <th></th>\n",
              "      <th>features</th>\n",
              "      <th>Subjectivity</th>\n",
              "      <th>Polarity</th>\n",
              "      <th>Analysis</th>\n",
              "      <th>temp_list</th>\n",
              "    </tr>\n",
              "  </thead>\n",
              "  <tbody>\n",
              "    <tr>\n",
              "      <th>0</th>\n",
              "      <td>this app is better than most fast food apps wh...</td>\n",
              "      <td>0.436568</td>\n",
              "      <td>0.182284</td>\n",
              "      <td>Positive</td>\n",
              "      <td>[app, better, fast, food, apps, comes, ease, u...</td>\n",
              "    </tr>\n",
              "    <tr>\n",
              "      <th>1</th>\n",
              "      <td>i a mega coupon fanatic every time go out m al...</td>\n",
              "      <td>0.494117</td>\n",
              "      <td>0.062237</td>\n",
              "      <td>Positive</td>\n",
              "      <td>[mega, coupon, fanatic, every, time, go, alway...</td>\n",
              "    </tr>\n",
              "    <tr>\n",
              "      <th>2</th>\n",
              "      <td>i work at large hospital and walk by mcdonalds...</td>\n",
              "      <td>0.557993</td>\n",
              "      <td>-0.093027</td>\n",
              "      <td>Negative</td>\n",
              "      <td>[work, large, hospital, walk, mcdonalds, entra...</td>\n",
              "    </tr>\n",
              "    <tr>\n",
              "      <th>3</th>\n",
              "      <td>i recently had to place an order three times b...</td>\n",
              "      <td>0.473636</td>\n",
              "      <td>0.027424</td>\n",
              "      <td>Positive</td>\n",
              "      <td>[recently, place, order, three, times, app, ti...</td>\n",
              "    </tr>\n",
              "    <tr>\n",
              "      <th>4</th>\n",
              "      <td>i don even know what more to do about this app...</td>\n",
              "      <td>0.288677</td>\n",
              "      <td>-0.013129</td>\n",
              "      <td>Negative</td>\n",
              "      <td>[even, know, app, guess, ever, get, use, daily...</td>\n",
              "    </tr>\n",
              "    <tr>\n",
              "      <th>...</th>\n",
              "      <td>...</td>\n",
              "      <td>...</td>\n",
              "      <td>...</td>\n",
              "      <td>...</td>\n",
              "      <td>...</td>\n",
              "    </tr>\n",
              "    <tr>\n",
              "      <th>1995</th>\n",
              "      <td>can log in reset and it works in browser app s...</td>\n",
              "      <td>0.300000</td>\n",
              "      <td>0.012500</td>\n",
              "      <td>Positive</td>\n",
              "      <td>[log, reset, works, browser, app, still, log, ...</td>\n",
              "    </tr>\n",
              "    <tr>\n",
              "      <th>1996</th>\n",
              "      <td>need to put merge card available in the app ha...</td>\n",
              "      <td>0.344444</td>\n",
              "      <td>0.122222</td>\n",
              "      <td>Positive</td>\n",
              "      <td>[need, put, merge, card, available, app, 10, c...</td>\n",
              "    </tr>\n",
              "    <tr>\n",
              "      <th>1997</th>\n",
              "      <td>tried to redeem my birthday ice cream but ever...</td>\n",
              "      <td>0.625000</td>\n",
              "      <td>0.500000</td>\n",
              "      <td>Positive</td>\n",
              "      <td>[tried, redeem, birthday, ice, cream, every, t...</td>\n",
              "    </tr>\n",
              "    <tr>\n",
              "      <th>1998</th>\n",
              "      <td>kind of useless no way to place order same fac...</td>\n",
              "      <td>0.408333</td>\n",
              "      <td>0.033333</td>\n",
              "      <td>Positive</td>\n",
              "      <td>[kind, useless, way, place, order, facility, d...</td>\n",
              "    </tr>\n",
              "    <tr>\n",
              "      <th>1999</th>\n",
              "      <td>same issues no ability to merge balance</td>\n",
              "      <td>0.125000</td>\n",
              "      <td>0.000000</td>\n",
              "      <td>Neutral</td>\n",
              "      <td>[issues, ability, merge, balance]</td>\n",
              "    </tr>\n",
              "  </tbody>\n",
              "</table>\n",
              "<p>2000 rows × 5 columns</p>\n",
              "</div>\n",
              "      <button class=\"colab-df-convert\" onclick=\"convertToInteractive('df-d247b201-a681-4d9d-ba96-4c992defe9d6')\"\n",
              "              title=\"Convert this dataframe to an interactive table.\"\n",
              "              style=\"display:none;\">\n",
              "        \n",
              "  <svg xmlns=\"http://www.w3.org/2000/svg\" height=\"24px\"viewBox=\"0 0 24 24\"\n",
              "       width=\"24px\">\n",
              "    <path d=\"M0 0h24v24H0V0z\" fill=\"none\"/>\n",
              "    <path d=\"M18.56 5.44l.94 2.06.94-2.06 2.06-.94-2.06-.94-.94-2.06-.94 2.06-2.06.94zm-11 1L8.5 8.5l.94-2.06 2.06-.94-2.06-.94L8.5 2.5l-.94 2.06-2.06.94zm10 10l.94 2.06.94-2.06 2.06-.94-2.06-.94-.94-2.06-.94 2.06-2.06.94z\"/><path d=\"M17.41 7.96l-1.37-1.37c-.4-.4-.92-.59-1.43-.59-.52 0-1.04.2-1.43.59L10.3 9.45l-7.72 7.72c-.78.78-.78 2.05 0 2.83L4 21.41c.39.39.9.59 1.41.59.51 0 1.02-.2 1.41-.59l7.78-7.78 2.81-2.81c.8-.78.8-2.07 0-2.86zM5.41 20L4 18.59l7.72-7.72 1.47 1.35L5.41 20z\"/>\n",
              "  </svg>\n",
              "      </button>\n",
              "      \n",
              "  <style>\n",
              "    .colab-df-container {\n",
              "      display:flex;\n",
              "      flex-wrap:wrap;\n",
              "      gap: 12px;\n",
              "    }\n",
              "\n",
              "    .colab-df-convert {\n",
              "      background-color: #E8F0FE;\n",
              "      border: none;\n",
              "      border-radius: 50%;\n",
              "      cursor: pointer;\n",
              "      display: none;\n",
              "      fill: #1967D2;\n",
              "      height: 32px;\n",
              "      padding: 0 0 0 0;\n",
              "      width: 32px;\n",
              "    }\n",
              "\n",
              "    .colab-df-convert:hover {\n",
              "      background-color: #E2EBFA;\n",
              "      box-shadow: 0px 1px 2px rgba(60, 64, 67, 0.3), 0px 1px 3px 1px rgba(60, 64, 67, 0.15);\n",
              "      fill: #174EA6;\n",
              "    }\n",
              "\n",
              "    [theme=dark] .colab-df-convert {\n",
              "      background-color: #3B4455;\n",
              "      fill: #D2E3FC;\n",
              "    }\n",
              "\n",
              "    [theme=dark] .colab-df-convert:hover {\n",
              "      background-color: #434B5C;\n",
              "      box-shadow: 0px 1px 3px 1px rgba(0, 0, 0, 0.15);\n",
              "      filter: drop-shadow(0px 1px 2px rgba(0, 0, 0, 0.3));\n",
              "      fill: #FFFFFF;\n",
              "    }\n",
              "  </style>\n",
              "\n",
              "      <script>\n",
              "        const buttonEl =\n",
              "          document.querySelector('#df-d247b201-a681-4d9d-ba96-4c992defe9d6 button.colab-df-convert');\n",
              "        buttonEl.style.display =\n",
              "          google.colab.kernel.accessAllowed ? 'block' : 'none';\n",
              "\n",
              "        async function convertToInteractive(key) {\n",
              "          const element = document.querySelector('#df-d247b201-a681-4d9d-ba96-4c992defe9d6');\n",
              "          const dataTable =\n",
              "            await google.colab.kernel.invokeFunction('convertToInteractive',\n",
              "                                                     [key], {});\n",
              "          if (!dataTable) return;\n",
              "\n",
              "          const docLinkHtml = 'Like what you see? Visit the ' +\n",
              "            '<a target=\"_blank\" href=https://colab.research.google.com/notebooks/data_table.ipynb>data table notebook</a>'\n",
              "            + ' to learn more about interactive tables.';\n",
              "          element.innerHTML = '';\n",
              "          dataTable['output_type'] = 'display_data';\n",
              "          await google.colab.output.renderOutput(dataTable, element);\n",
              "          const docLink = document.createElement('div');\n",
              "          docLink.innerHTML = docLinkHtml;\n",
              "          element.appendChild(docLink);\n",
              "        }\n",
              "      </script>\n",
              "    </div>\n",
              "  </div>\n",
              "  "
            ]
          },
          "metadata": {},
          "execution_count": 292
        }
      ]
    },
    {
      "cell_type": "code",
      "source": [
        "Positive_sent = df3[df3['Analysis']=='Positive']\n",
        "Negative_sent = df3[df3['Analysis']=='Negative']\n",
        "Neutral_sent = df3[df3['Analysis']=='Neutral']"
      ],
      "metadata": {
        "id": "6ellyqckG_j5"
      },
      "execution_count": 293,
      "outputs": []
    },
    {
      "cell_type": "code",
      "source": [
        "df3['Analysis'].value_counts()"
      ],
      "metadata": {
        "colab": {
          "base_uri": "https://localhost:8080/"
        },
        "id": "ng5tSkjaT79E",
        "outputId": "2537dd58-c418-4f31-8b21-940e72dc2078"
      },
      "execution_count": 294,
      "outputs": [
        {
          "output_type": "execute_result",
          "data": {
            "text/plain": [
              "Positive    1283\n",
              "Negative     632\n",
              "Neutral       85\n",
              "Name: Analysis, dtype: int64"
            ]
          },
          "metadata": {},
          "execution_count": 294
        }
      ]
    },
    {
      "cell_type": "code",
      "source": [
        "from collections import Counter\n",
        "top = Counter([item for sublist in Positive_sent['temp_list'] for item in sublist])\n",
        "temp_positive = pd.DataFrame(top.most_common(20))\n",
        "temp_positive.columns = ['Common_words','count']\n",
        "temp_positive.style.background_gradient(cmap='Greens')"
      ],
      "metadata": {
        "colab": {
          "base_uri": "https://localhost:8080/",
          "height": 676
        },
        "id": "oXWNvK04GKPm",
        "outputId": "c794a065-3449-471f-dd14-b77e8400840e"
      },
      "execution_count": 295,
      "outputs": [
        {
          "output_type": "execute_result",
          "data": {
            "text/plain": [
              "<pandas.io.formats.style.Styler at 0x7f8f81543ed0>"
            ],
            "text/html": [
              "<style type=\"text/css\">\n",
              "#T_c6dc8_row0_col1 {\n",
              "  background-color: #00441b;\n",
              "  color: #f1f1f1;\n",
              "}\n",
              "#T_c6dc8_row1_col1 {\n",
              "  background-color: #339c52;\n",
              "  color: #f1f1f1;\n",
              "}\n",
              "#T_c6dc8_row2_col1 {\n",
              "  background-color: #d7efd1;\n",
              "  color: #000000;\n",
              "}\n",
              "#T_c6dc8_row3_col1 {\n",
              "  background-color: #d8f0d2;\n",
              "  color: #000000;\n",
              "}\n",
              "#T_c6dc8_row4_col1 {\n",
              "  background-color: #e8f6e3;\n",
              "  color: #000000;\n",
              "}\n",
              "#T_c6dc8_row5_col1 {\n",
              "  background-color: #eaf7e6;\n",
              "  color: #000000;\n",
              "}\n",
              "#T_c6dc8_row6_col1, #T_c6dc8_row7_col1 {\n",
              "  background-color: #ebf7e7;\n",
              "  color: #000000;\n",
              "}\n",
              "#T_c6dc8_row8_col1, #T_c6dc8_row9_col1 {\n",
              "  background-color: #ecf8e8;\n",
              "  color: #000000;\n",
              "}\n",
              "#T_c6dc8_row10_col1 {\n",
              "  background-color: #eef8ea;\n",
              "  color: #000000;\n",
              "}\n",
              "#T_c6dc8_row11_col1 {\n",
              "  background-color: #f0f9ed;\n",
              "  color: #000000;\n",
              "}\n",
              "#T_c6dc8_row12_col1 {\n",
              "  background-color: #f4fbf1;\n",
              "  color: #000000;\n",
              "}\n",
              "#T_c6dc8_row13_col1, #T_c6dc8_row14_col1, #T_c6dc8_row15_col1 {\n",
              "  background-color: #f6fcf4;\n",
              "  color: #000000;\n",
              "}\n",
              "#T_c6dc8_row16_col1, #T_c6dc8_row17_col1, #T_c6dc8_row18_col1, #T_c6dc8_row19_col1 {\n",
              "  background-color: #f7fcf5;\n",
              "  color: #000000;\n",
              "}\n",
              "</style>\n",
              "<table id=\"T_c6dc8_\" class=\"dataframe\">\n",
              "  <thead>\n",
              "    <tr>\n",
              "      <th class=\"blank level0\" >&nbsp;</th>\n",
              "      <th class=\"col_heading level0 col0\" >Common_words</th>\n",
              "      <th class=\"col_heading level0 col1\" >count</th>\n",
              "    </tr>\n",
              "  </thead>\n",
              "  <tbody>\n",
              "    <tr>\n",
              "      <th id=\"T_c6dc8_level0_row0\" class=\"row_heading level0 row0\" >0</th>\n",
              "      <td id=\"T_c6dc8_row0_col0\" class=\"data row0 col0\" >app</td>\n",
              "      <td id=\"T_c6dc8_row0_col1\" class=\"data row0 col1\" >3092</td>\n",
              "    </tr>\n",
              "    <tr>\n",
              "      <th id=\"T_c6dc8_level0_row1\" class=\"row_heading level0 row1\" >1</th>\n",
              "      <td id=\"T_c6dc8_row1_col0\" class=\"data row1 col0\" >order</td>\n",
              "      <td id=\"T_c6dc8_row1_col1\" class=\"data row1 col1\" >2196</td>\n",
              "    </tr>\n",
              "    <tr>\n",
              "      <th id=\"T_c6dc8_level0_row2\" class=\"row_heading level0 row2\" >2</th>\n",
              "      <td id=\"T_c6dc8_row2_col0\" class=\"data row2 col0\" >time</td>\n",
              "      <td id=\"T_c6dc8_row2_col1\" class=\"data row2 col1\" >816</td>\n",
              "    </tr>\n",
              "    <tr>\n",
              "      <th id=\"T_c6dc8_level0_row3\" class=\"row_heading level0 row3\" >3</th>\n",
              "      <td id=\"T_c6dc8_row3_col0\" class=\"data row3 col0\" >get</td>\n",
              "      <td id=\"T_c6dc8_row3_col1\" class=\"data row3 col1\" >806</td>\n",
              "    </tr>\n",
              "    <tr>\n",
              "      <th id=\"T_c6dc8_level0_row4\" class=\"row_heading level0 row4\" >4</th>\n",
              "      <td id=\"T_c6dc8_row4_col0\" class=\"data row4 col0\" >use</td>\n",
              "      <td id=\"T_c6dc8_row4_col1\" class=\"data row4 col1\" >591</td>\n",
              "    </tr>\n",
              "    <tr>\n",
              "      <th id=\"T_c6dc8_level0_row5\" class=\"row_heading level0 row5\" >5</th>\n",
              "      <td id=\"T_c6dc8_row5_col0\" class=\"data row5 col0\" >food</td>\n",
              "      <td id=\"T_c6dc8_row5_col1\" class=\"data row5 col1\" >546</td>\n",
              "    </tr>\n",
              "    <tr>\n",
              "      <th id=\"T_c6dc8_level0_row6\" class=\"row_heading level0 row6\" >6</th>\n",
              "      <td id=\"T_c6dc8_row6_col0\" class=\"data row6 col0\" >would</td>\n",
              "      <td id=\"T_c6dc8_row6_col1\" class=\"data row6 col1\" >542</td>\n",
              "    </tr>\n",
              "    <tr>\n",
              "      <th id=\"T_c6dc8_level0_row7\" class=\"row_heading level0 row7\" >7</th>\n",
              "      <td id=\"T_c6dc8_row7_col0\" class=\"data row7 col0\" >one</td>\n",
              "      <td id=\"T_c6dc8_row7_col1\" class=\"data row7 col1\" >534</td>\n",
              "    </tr>\n",
              "    <tr>\n",
              "      <th id=\"T_c6dc8_level0_row8\" class=\"row_heading level0 row8\" >8</th>\n",
              "      <td id=\"T_c6dc8_row8_col0\" class=\"data row8 col0\" >store</td>\n",
              "      <td id=\"T_c6dc8_row8_col1\" class=\"data row8 col1\" >520</td>\n",
              "    </tr>\n",
              "    <tr>\n",
              "      <th id=\"T_c6dc8_level0_row9\" class=\"row_heading level0 row9\" >9</th>\n",
              "      <td id=\"T_c6dc8_row9_col0\" class=\"data row9 col0\" >like</td>\n",
              "      <td id=\"T_c6dc8_row9_col1\" class=\"data row9 col1\" >501</td>\n",
              "    </tr>\n",
              "    <tr>\n",
              "      <th id=\"T_c6dc8_level0_row10\" class=\"row_heading level0 row10\" >10</th>\n",
              "      <td id=\"T_c6dc8_row10_col0\" class=\"data row10 col0\" >even</td>\n",
              "      <td id=\"T_c6dc8_row10_col1\" class=\"data row10 col1\" >470</td>\n",
              "    </tr>\n",
              "    <tr>\n",
              "      <th id=\"T_c6dc8_level0_row11\" class=\"row_heading level0 row11\" >11</th>\n",
              "      <td id=\"T_c6dc8_row11_col0\" class=\"data row11 col0\" >go</td>\n",
              "      <td id=\"T_c6dc8_row11_col1\" class=\"data row11 col1\" >434</td>\n",
              "    </tr>\n",
              "    <tr>\n",
              "      <th id=\"T_c6dc8_level0_row12\" class=\"row_heading level0 row12\" >12</th>\n",
              "      <td id=\"T_c6dc8_row12_col0\" class=\"data row12 col0\" >card</td>\n",
              "      <td id=\"T_c6dc8_row12_col1\" class=\"data row12 col1\" >363</td>\n",
              "    </tr>\n",
              "    <tr>\n",
              "      <th id=\"T_c6dc8_level0_row13\" class=\"row_heading level0 row13\" >13</th>\n",
              "      <td id=\"T_c6dc8_row13_col0\" class=\"data row13 col0\" >make</td>\n",
              "      <td id=\"T_c6dc8_row13_col1\" class=\"data row13 col1\" >324</td>\n",
              "    </tr>\n",
              "    <tr>\n",
              "      <th id=\"T_c6dc8_level0_row14\" class=\"row_heading level0 row14\" >14</th>\n",
              "      <td id=\"T_c6dc8_row14_col0\" class=\"data row14 col0\" >pizza</td>\n",
              "      <td id=\"T_c6dc8_row14_col1\" class=\"data row14 col1\" >308</td>\n",
              "    </tr>\n",
              "    <tr>\n",
              "      <th id=\"T_c6dc8_level0_row15\" class=\"row_heading level0 row15\" >15</th>\n",
              "      <td id=\"T_c6dc8_row15_col0\" class=\"data row15 col0\" >want</td>\n",
              "      <td id=\"T_c6dc8_row15_col1\" class=\"data row15 col1\" >303</td>\n",
              "    </tr>\n",
              "    <tr>\n",
              "      <th id=\"T_c6dc8_level0_row16\" class=\"row_heading level0 row16\" >16</th>\n",
              "      <td id=\"T_c6dc8_row16_col0\" class=\"data row16 col0\" >back</td>\n",
              "      <td id=\"T_c6dc8_row16_col1\" class=\"data row16 col1\" >298</td>\n",
              "    </tr>\n",
              "    <tr>\n",
              "      <th id=\"T_c6dc8_level0_row17\" class=\"row_heading level0 row17\" >17</th>\n",
              "      <td id=\"T_c6dc8_row17_col0\" class=\"data row17 col0\" >way</td>\n",
              "      <td id=\"T_c6dc8_row17_col1\" class=\"data row17 col1\" >296</td>\n",
              "    </tr>\n",
              "    <tr>\n",
              "      <th id=\"T_c6dc8_level0_row18\" class=\"row_heading level0 row18\" >18</th>\n",
              "      <td id=\"T_c6dc8_row18_col0\" class=\"data row18 col0\" >ordering</td>\n",
              "      <td id=\"T_c6dc8_row18_col1\" class=\"data row18 col1\" >294</td>\n",
              "    </tr>\n",
              "    <tr>\n",
              "      <th id=\"T_c6dc8_level0_row19\" class=\"row_heading level0 row19\" >19</th>\n",
              "      <td id=\"T_c6dc8_row19_col0\" class=\"data row19 col0\" >tried</td>\n",
              "      <td id=\"T_c6dc8_row19_col1\" class=\"data row19 col1\" >292</td>\n",
              "    </tr>\n",
              "  </tbody>\n",
              "</table>\n"
            ]
          },
          "metadata": {},
          "execution_count": 295
        }
      ]
    },
    {
      "cell_type": "code",
      "source": [
        "top = Counter([item for sublist in Negative_sent['temp_list'] for item in sublist])\n",
        "temp_negative = pd.DataFrame(top.most_common(20))\n",
        "temp_negative = temp_negative.iloc[1:,:]\n",
        "temp_negative.columns = ['Common_words','count']\n",
        "temp_negative.style.background_gradient(cmap='Reds')"
      ],
      "metadata": {
        "colab": {
          "base_uri": "https://localhost:8080/",
          "height": 645
        },
        "id": "Ja3-7gV_IHhu",
        "outputId": "da59d700-57d9-4dd2-c8c1-2484cefc5b63"
      },
      "execution_count": 296,
      "outputs": [
        {
          "output_type": "execute_result",
          "data": {
            "text/plain": [
              "<pandas.io.formats.style.Styler at 0x7f8f814cfd50>"
            ],
            "text/html": [
              "<style type=\"text/css\">\n",
              "#T_578a9_row0_col1 {\n",
              "  background-color: #67000d;\n",
              "  color: #f1f1f1;\n",
              "}\n",
              "#T_578a9_row1_col1 {\n",
              "  background-color: #fcae92;\n",
              "  color: #000000;\n",
              "}\n",
              "#T_578a9_row2_col1 {\n",
              "  background-color: #fcbba1;\n",
              "  color: #000000;\n",
              "}\n",
              "#T_578a9_row3_col1, #T_578a9_row4_col1 {\n",
              "  background-color: #fee0d2;\n",
              "  color: #000000;\n",
              "}\n",
              "#T_578a9_row5_col1 {\n",
              "  background-color: #fee3d7;\n",
              "  color: #000000;\n",
              "}\n",
              "#T_578a9_row6_col1 {\n",
              "  background-color: #fee9df;\n",
              "  color: #000000;\n",
              "}\n",
              "#T_578a9_row7_col1, #T_578a9_row8_col1 {\n",
              "  background-color: #feeae0;\n",
              "  color: #000000;\n",
              "}\n",
              "#T_578a9_row9_col1 {\n",
              "  background-color: #ffebe2;\n",
              "  color: #000000;\n",
              "}\n",
              "#T_578a9_row10_col1 {\n",
              "  background-color: #ffede5;\n",
              "  color: #000000;\n",
              "}\n",
              "#T_578a9_row11_col1 {\n",
              "  background-color: #ffeee6;\n",
              "  color: #000000;\n",
              "}\n",
              "#T_578a9_row12_col1 {\n",
              "  background-color: #ffeee7;\n",
              "  color: #000000;\n",
              "}\n",
              "#T_578a9_row13_col1 {\n",
              "  background-color: #ffefe8;\n",
              "  color: #000000;\n",
              "}\n",
              "#T_578a9_row14_col1 {\n",
              "  background-color: #fff2eb;\n",
              "  color: #000000;\n",
              "}\n",
              "#T_578a9_row15_col1 {\n",
              "  background-color: #fff4ef;\n",
              "  color: #000000;\n",
              "}\n",
              "#T_578a9_row16_col1, #T_578a9_row17_col1, #T_578a9_row18_col1 {\n",
              "  background-color: #fff5f0;\n",
              "  color: #000000;\n",
              "}\n",
              "</style>\n",
              "<table id=\"T_578a9_\" class=\"dataframe\">\n",
              "  <thead>\n",
              "    <tr>\n",
              "      <th class=\"blank level0\" >&nbsp;</th>\n",
              "      <th class=\"col_heading level0 col0\" >Common_words</th>\n",
              "      <th class=\"col_heading level0 col1\" >count</th>\n",
              "    </tr>\n",
              "  </thead>\n",
              "  <tbody>\n",
              "    <tr>\n",
              "      <th id=\"T_578a9_level0_row0\" class=\"row_heading level0 row0\" >1</th>\n",
              "      <td id=\"T_578a9_row0_col0\" class=\"data row0 col0\" >order</td>\n",
              "      <td id=\"T_578a9_row0_col1\" class=\"data row0 col1\" >1184</td>\n",
              "    </tr>\n",
              "    <tr>\n",
              "      <th id=\"T_578a9_level0_row1\" class=\"row_heading level0 row1\" >2</th>\n",
              "      <td id=\"T_578a9_row1_col0\" class=\"data row1 col0\" >time</td>\n",
              "      <td id=\"T_578a9_row1_col1\" class=\"data row1 col1\" >454</td>\n",
              "    </tr>\n",
              "    <tr>\n",
              "      <th id=\"T_578a9_level0_row2\" class=\"row_heading level0 row2\" >3</th>\n",
              "      <td id=\"T_578a9_row2_col0\" class=\"data row2 col0\" >get</td>\n",
              "      <td id=\"T_578a9_row2_col1\" class=\"data row2 col1\" >412</td>\n",
              "    </tr>\n",
              "    <tr>\n",
              "      <th id=\"T_578a9_level0_row3\" class=\"row_heading level0 row3\" >4</th>\n",
              "      <td id=\"T_578a9_row3_col0\" class=\"data row3 col0\" >store</td>\n",
              "      <td id=\"T_578a9_row3_col1\" class=\"data row3 col1\" >285</td>\n",
              "    </tr>\n",
              "    <tr>\n",
              "      <th id=\"T_578a9_level0_row4\" class=\"row_heading level0 row4\" >5</th>\n",
              "      <td id=\"T_578a9_row4_col0\" class=\"data row4 col0\" >food</td>\n",
              "      <td id=\"T_578a9_row4_col1\" class=\"data row4 col1\" >283</td>\n",
              "    </tr>\n",
              "    <tr>\n",
              "      <th id=\"T_578a9_level0_row5\" class=\"row_heading level0 row5\" >6</th>\n",
              "      <td id=\"T_578a9_row5_col0\" class=\"data row5 col0\" >even</td>\n",
              "      <td id=\"T_578a9_row5_col1\" class=\"data row5 col1\" >261</td>\n",
              "    </tr>\n",
              "    <tr>\n",
              "      <th id=\"T_578a9_level0_row6\" class=\"row_heading level0 row6\" >7</th>\n",
              "      <td id=\"T_578a9_row6_col0\" class=\"data row6 col0\" >one</td>\n",
              "      <td id=\"T_578a9_row6_col1\" class=\"data row6 col1\" >226</td>\n",
              "    </tr>\n",
              "    <tr>\n",
              "      <th id=\"T_578a9_level0_row7\" class=\"row_heading level0 row7\" >8</th>\n",
              "      <td id=\"T_578a9_row7_col0\" class=\"data row7 col0\" >use</td>\n",
              "      <td id=\"T_578a9_row7_col1\" class=\"data row7 col1\" >222</td>\n",
              "    </tr>\n",
              "    <tr>\n",
              "      <th id=\"T_578a9_level0_row8\" class=\"row_heading level0 row8\" >9</th>\n",
              "      <td id=\"T_578a9_row8_col0\" class=\"data row8 col0\" >like</td>\n",
              "      <td id=\"T_578a9_row8_col1\" class=\"data row8 col1\" >222</td>\n",
              "    </tr>\n",
              "    <tr>\n",
              "      <th id=\"T_578a9_level0_row9\" class=\"row_heading level0 row9\" >10</th>\n",
              "      <td id=\"T_578a9_row9_col0\" class=\"data row9 col0\" >go</td>\n",
              "      <td id=\"T_578a9_row9_col1\" class=\"data row9 col1\" >215</td>\n",
              "    </tr>\n",
              "    <tr>\n",
              "      <th id=\"T_578a9_level0_row10\" class=\"row_heading level0 row10\" >11</th>\n",
              "      <td id=\"T_578a9_row10_col0\" class=\"data row10 col0\" >tried</td>\n",
              "      <td id=\"T_578a9_row10_col1\" class=\"data row10 col1\" >202</td>\n",
              "    </tr>\n",
              "    <tr>\n",
              "      <th id=\"T_578a9_level0_row11\" class=\"row_heading level0 row11\" >12</th>\n",
              "      <td id=\"T_578a9_row11_col0\" class=\"data row11 col0\" >never</td>\n",
              "      <td id=\"T_578a9_row11_col1\" class=\"data row11 col1\" >199</td>\n",
              "    </tr>\n",
              "    <tr>\n",
              "      <th id=\"T_578a9_level0_row12\" class=\"row_heading level0 row12\" >13</th>\n",
              "      <td id=\"T_578a9_row12_col0\" class=\"data row12 col0\" >would</td>\n",
              "      <td id=\"T_578a9_row12_col1\" class=\"data row12 col1\" >194</td>\n",
              "    </tr>\n",
              "    <tr>\n",
              "      <th id=\"T_578a9_level0_row13\" class=\"row_heading level0 row13\" >14</th>\n",
              "      <td id=\"T_578a9_row13_col0\" class=\"data row13 col0\" >card</td>\n",
              "      <td id=\"T_578a9_row13_col1\" class=\"data row13 col1\" >190</td>\n",
              "    </tr>\n",
              "    <tr>\n",
              "      <th id=\"T_578a9_level0_row14\" class=\"row_heading level0 row14\" >15</th>\n",
              "      <td id=\"T_578a9_row14_col0\" class=\"data row14 col0\" >ordered</td>\n",
              "      <td id=\"T_578a9_row14_col1\" class=\"data row14 col1\" >176</td>\n",
              "    </tr>\n",
              "    <tr>\n",
              "      <th id=\"T_578a9_level0_row15\" class=\"row_heading level0 row15\" >16</th>\n",
              "      <td id=\"T_578a9_row15_col0\" class=\"data row15 col0\" >got</td>\n",
              "      <td id=\"T_578a9_row15_col1\" class=\"data row15 col1\" >160</td>\n",
              "    </tr>\n",
              "    <tr>\n",
              "      <th id=\"T_578a9_level0_row16\" class=\"row_heading level0 row16\" >17</th>\n",
              "      <td id=\"T_578a9_row16_col0\" class=\"data row16 col0\" >said</td>\n",
              "      <td id=\"T_578a9_row16_col1\" class=\"data row16 col1\" >155</td>\n",
              "    </tr>\n",
              "    <tr>\n",
              "      <th id=\"T_578a9_level0_row17\" class=\"row_heading level0 row17\" >18</th>\n",
              "      <td id=\"T_578a9_row17_col0\" class=\"data row17 col0\" >still</td>\n",
              "      <td id=\"T_578a9_row17_col1\" class=\"data row17 col1\" >155</td>\n",
              "    </tr>\n",
              "    <tr>\n",
              "      <th id=\"T_578a9_level0_row18\" class=\"row_heading level0 row18\" >19</th>\n",
              "      <td id=\"T_578a9_row18_col0\" class=\"data row18 col0\" >location</td>\n",
              "      <td id=\"T_578a9_row18_col1\" class=\"data row18 col1\" >152</td>\n",
              "    </tr>\n",
              "  </tbody>\n",
              "</table>\n"
            ]
          },
          "metadata": {},
          "execution_count": 296
        }
      ]
    },
    {
      "cell_type": "code",
      "source": [
        "top = Counter([item for sublist in Neutral_sent['temp_list'] for item in sublist])\n",
        "temp_neutral = pd.DataFrame(top.most_common(20))\n",
        "temp_neutral = temp_neutral.loc[1:,:]\n",
        "temp_neutral.columns = ['Common_words','count']\n",
        "temp_neutral.style.background_gradient(cmap='Reds')"
      ],
      "metadata": {
        "colab": {
          "base_uri": "https://localhost:8080/",
          "height": 645
        },
        "id": "ULLccd-a1PKy",
        "outputId": "64d36fed-f741-4d90-dde8-55e641b26485"
      },
      "execution_count": 297,
      "outputs": [
        {
          "output_type": "execute_result",
          "data": {
            "text/plain": [
              "<pandas.io.formats.style.Styler at 0x7f8f814d0c90>"
            ],
            "text/html": [
              "<style type=\"text/css\">\n",
              "#T_aa7cf_row0_col1 {\n",
              "  background-color: #67000d;\n",
              "  color: #f1f1f1;\n",
              "}\n",
              "#T_aa7cf_row1_col1 {\n",
              "  background-color: #fcb89e;\n",
              "  color: #000000;\n",
              "}\n",
              "#T_aa7cf_row2_col1, #T_aa7cf_row3_col1, #T_aa7cf_row4_col1, #T_aa7cf_row5_col1 {\n",
              "  background-color: #fdcab5;\n",
              "  color: #000000;\n",
              "}\n",
              "#T_aa7cf_row6_col1, #T_aa7cf_row7_col1, #T_aa7cf_row8_col1 {\n",
              "  background-color: #fdd7c6;\n",
              "  color: #000000;\n",
              "}\n",
              "#T_aa7cf_row9_col1, #T_aa7cf_row10_col1 {\n",
              "  background-color: #fee1d4;\n",
              "  color: #000000;\n",
              "}\n",
              "#T_aa7cf_row11_col1 {\n",
              "  background-color: #fee5d8;\n",
              "  color: #000000;\n",
              "}\n",
              "#T_aa7cf_row12_col1 {\n",
              "  background-color: #fee8dd;\n",
              "  color: #000000;\n",
              "}\n",
              "#T_aa7cf_row13_col1 {\n",
              "  background-color: #ffeee7;\n",
              "  color: #000000;\n",
              "}\n",
              "#T_aa7cf_row14_col1, #T_aa7cf_row15_col1, #T_aa7cf_row16_col1 {\n",
              "  background-color: #fff2eb;\n",
              "  color: #000000;\n",
              "}\n",
              "#T_aa7cf_row17_col1, #T_aa7cf_row18_col1 {\n",
              "  background-color: #fff5f0;\n",
              "  color: #000000;\n",
              "}\n",
              "</style>\n",
              "<table id=\"T_aa7cf_\" class=\"dataframe\">\n",
              "  <thead>\n",
              "    <tr>\n",
              "      <th class=\"blank level0\" >&nbsp;</th>\n",
              "      <th class=\"col_heading level0 col0\" >Common_words</th>\n",
              "      <th class=\"col_heading level0 col1\" >count</th>\n",
              "    </tr>\n",
              "  </thead>\n",
              "  <tbody>\n",
              "    <tr>\n",
              "      <th id=\"T_aa7cf_level0_row0\" class=\"row_heading level0 row0\" >1</th>\n",
              "      <td id=\"T_aa7cf_row0_col0\" class=\"data row0 col0\" >order</td>\n",
              "      <td id=\"T_aa7cf_row0_col1\" class=\"data row0 col1\" >59</td>\n",
              "    </tr>\n",
              "    <tr>\n",
              "      <th id=\"T_aa7cf_level0_row1\" class=\"row_heading level0 row1\" >2</th>\n",
              "      <td id=\"T_aa7cf_row1_col0\" class=\"data row1 col0\" >card</td>\n",
              "      <td id=\"T_aa7cf_row1_col1\" class=\"data row1 col1\" >22</td>\n",
              "    </tr>\n",
              "    <tr>\n",
              "      <th id=\"T_aa7cf_level0_row2\" class=\"row_heading level0 row2\" >3</th>\n",
              "      <td id=\"T_aa7cf_row2_col0\" class=\"data row2 col0\" >time</td>\n",
              "      <td id=\"T_aa7cf_row2_col1\" class=\"data row2 col1\" >19</td>\n",
              "    </tr>\n",
              "    <tr>\n",
              "      <th id=\"T_aa7cf_level0_row3\" class=\"row_heading level0 row3\" >4</th>\n",
              "      <td id=\"T_aa7cf_row3_col0\" class=\"data row3 col0\" >store</td>\n",
              "      <td id=\"T_aa7cf_row3_col1\" class=\"data row3 col1\" >19</td>\n",
              "    </tr>\n",
              "    <tr>\n",
              "      <th id=\"T_aa7cf_level0_row4\" class=\"row_heading level0 row4\" >5</th>\n",
              "      <td id=\"T_aa7cf_row4_col0\" class=\"data row4 col0\" >use</td>\n",
              "      <td id=\"T_aa7cf_row4_col1\" class=\"data row4 col1\" >19</td>\n",
              "    </tr>\n",
              "    <tr>\n",
              "      <th id=\"T_aa7cf_level0_row5\" class=\"row_heading level0 row5\" >6</th>\n",
              "      <td id=\"T_aa7cf_row5_col0\" class=\"data row5 col0\" >gift</td>\n",
              "      <td id=\"T_aa7cf_row5_col1\" class=\"data row5 col1\" >19</td>\n",
              "    </tr>\n",
              "    <tr>\n",
              "      <th id=\"T_aa7cf_level0_row6\" class=\"row_heading level0 row6\" >7</th>\n",
              "      <td id=\"T_aa7cf_row6_col0\" class=\"data row6 col0\" >pay</td>\n",
              "      <td id=\"T_aa7cf_row6_col1\" class=\"data row6 col1\" >17</td>\n",
              "    </tr>\n",
              "    <tr>\n",
              "      <th id=\"T_aa7cf_level0_row7\" class=\"row_heading level0 row7\" >8</th>\n",
              "      <td id=\"T_aa7cf_row7_col0\" class=\"data row7 col0\" >even</td>\n",
              "      <td id=\"T_aa7cf_row7_col1\" class=\"data row7 col1\" >17</td>\n",
              "    </tr>\n",
              "    <tr>\n",
              "      <th id=\"T_aa7cf_level0_row8\" class=\"row_heading level0 row8\" >9</th>\n",
              "      <td id=\"T_aa7cf_row8_col0\" class=\"data row8 col0\" >cards</td>\n",
              "      <td id=\"T_aa7cf_row8_col1\" class=\"data row8 col1\" >17</td>\n",
              "    </tr>\n",
              "    <tr>\n",
              "      <th id=\"T_aa7cf_level0_row9\" class=\"row_heading level0 row9\" >10</th>\n",
              "      <td id=\"T_aa7cf_row9_col0\" class=\"data row9 col0\" >get</td>\n",
              "      <td id=\"T_aa7cf_row9_col1\" class=\"data row9 col1\" >15</td>\n",
              "    </tr>\n",
              "    <tr>\n",
              "      <th id=\"T_aa7cf_level0_row10\" class=\"row_heading level0 row10\" >11</th>\n",
              "      <td id=\"T_aa7cf_row10_col0\" class=\"data row10 col0\" >tried</td>\n",
              "      <td id=\"T_aa7cf_row10_col1\" class=\"data row10 col1\" >15</td>\n",
              "    </tr>\n",
              "    <tr>\n",
              "      <th id=\"T_aa7cf_level0_row11\" class=\"row_heading level0 row11\" >12</th>\n",
              "      <td id=\"T_aa7cf_row11_col0\" class=\"data row11 col0\" >food</td>\n",
              "      <td id=\"T_aa7cf_row11_col1\" class=\"data row11 col1\" >14</td>\n",
              "    </tr>\n",
              "    <tr>\n",
              "      <th id=\"T_aa7cf_level0_row12\" class=\"row_heading level0 row12\" >13</th>\n",
              "      <td id=\"T_aa7cf_row12_col0\" class=\"data row12 col0\" >option</td>\n",
              "      <td id=\"T_aa7cf_row12_col1\" class=\"data row12 col1\" >13</td>\n",
              "    </tr>\n",
              "    <tr>\n",
              "      <th id=\"T_aa7cf_level0_row13\" class=\"row_heading level0 row13\" >14</th>\n",
              "      <td id=\"T_aa7cf_row13_col0\" class=\"data row13 col0\" >never</td>\n",
              "      <td id=\"T_aa7cf_row13_col1\" class=\"data row13 col1\" >11</td>\n",
              "    </tr>\n",
              "    <tr>\n",
              "      <th id=\"T_aa7cf_level0_row14\" class=\"row_heading level0 row14\" >15</th>\n",
              "      <td id=\"T_aa7cf_row14_col0\" class=\"data row14 col0\" >go</td>\n",
              "      <td id=\"T_aa7cf_row14_col1\" class=\"data row14 col1\" >10</td>\n",
              "    </tr>\n",
              "    <tr>\n",
              "      <th id=\"T_aa7cf_level0_row15\" class=\"row_heading level0 row15\" >16</th>\n",
              "      <td id=\"T_aa7cf_row15_col0\" class=\"data row15 col0\" >got</td>\n",
              "      <td id=\"T_aa7cf_row15_col1\" class=\"data row15 col1\" >10</td>\n",
              "    </tr>\n",
              "    <tr>\n",
              "      <th id=\"T_aa7cf_level0_row16\" class=\"row_heading level0 row16\" >17</th>\n",
              "      <td id=\"T_aa7cf_row16_col0\" class=\"data row16 col0\" >let</td>\n",
              "      <td id=\"T_aa7cf_row16_col1\" class=\"data row16 col1\" >10</td>\n",
              "    </tr>\n",
              "    <tr>\n",
              "      <th id=\"T_aa7cf_level0_row17\" class=\"row_heading level0 row17\" >18</th>\n",
              "      <td id=\"T_aa7cf_row17_col0\" class=\"data row17 col0\" >phone</td>\n",
              "      <td id=\"T_aa7cf_row17_col1\" class=\"data row17 col1\" >9</td>\n",
              "    </tr>\n",
              "    <tr>\n",
              "      <th id=\"T_aa7cf_level0_row18\" class=\"row_heading level0 row18\" >19</th>\n",
              "      <td id=\"T_aa7cf_row18_col0\" class=\"data row18 col0\" >rewards</td>\n",
              "      <td id=\"T_aa7cf_row18_col1\" class=\"data row18 col1\" >9</td>\n",
              "    </tr>\n",
              "  </tbody>\n",
              "</table>\n"
            ]
          },
          "metadata": {},
          "execution_count": 297
        }
      ]
    },
    {
      "cell_type": "code",
      "source": [
        "!pip install plotly-express"
      ],
      "metadata": {
        "colab": {
          "base_uri": "https://localhost:8080/"
        },
        "id": "1L0evoho1bNR",
        "outputId": "5f291556-1ecf-4f5e-fcce-41da925afabf"
      },
      "execution_count": 298,
      "outputs": [
        {
          "output_type": "stream",
          "name": "stdout",
          "text": [
            "Collecting plotly-express\n",
            "  Downloading plotly_express-0.4.1-py2.py3-none-any.whl (2.9 kB)\n",
            "Requirement already satisfied: scipy>=0.18 in /usr/local/lib/python3.7/dist-packages (from plotly-express) (1.4.1)\n",
            "Requirement already satisfied: statsmodels>=0.9.0 in /usr/local/lib/python3.7/dist-packages (from plotly-express) (0.10.2)\n",
            "Requirement already satisfied: pandas>=0.20.0 in /usr/local/lib/python3.7/dist-packages (from plotly-express) (1.3.5)\n",
            "Requirement already satisfied: plotly>=4.1.0 in /usr/local/lib/python3.7/dist-packages (from plotly-express) (5.5.0)\n",
            "Requirement already satisfied: patsy>=0.5 in /usr/local/lib/python3.7/dist-packages (from plotly-express) (0.5.2)\n",
            "Requirement already satisfied: numpy>=1.11 in /usr/local/lib/python3.7/dist-packages (from plotly-express) (1.21.5)\n",
            "Requirement already satisfied: python-dateutil>=2.7.3 in /usr/local/lib/python3.7/dist-packages (from pandas>=0.20.0->plotly-express) (2.8.2)\n",
            "Requirement already satisfied: pytz>=2017.3 in /usr/local/lib/python3.7/dist-packages (from pandas>=0.20.0->plotly-express) (2018.9)\n",
            "Requirement already satisfied: six in /usr/local/lib/python3.7/dist-packages (from patsy>=0.5->plotly-express) (1.15.0)\n",
            "Requirement already satisfied: tenacity>=6.2.0 in /usr/local/lib/python3.7/dist-packages (from plotly>=4.1.0->plotly-express) (8.0.1)\n",
            "Installing collected packages: plotly-express\n",
            "Successfully installed plotly-express-0.4.1\n"
          ]
        }
      ]
    },
    {
      "cell_type": "code",
      "source": [
        "#numberofcharacters\n",
        "def length(text):    \n",
        "    '''a function which returns the length of text'''\n",
        "    return len(text)"
      ],
      "metadata": {
        "id": "BxGMtGTo6KV0"
      },
      "execution_count": 299,
      "outputs": []
    },
    {
      "cell_type": "code",
      "source": [
        "df['length'] = df['review'].apply(length)"
      ],
      "metadata": {
        "id": "DYpwlsXc6LFw"
      },
      "execution_count": 300,
      "outputs": []
    },
    {
      "cell_type": "code",
      "source": [
        "import matplotlib.pyplot as plt\n",
        "import seaborn as sns"
      ],
      "metadata": {
        "id": "Wnde7yI-7nYj"
      },
      "execution_count": 301,
      "outputs": []
    },
    {
      "cell_type": "code",
      "source": [
        "sns.displot(df, x=\"length\")"
      ],
      "metadata": {
        "colab": {
          "base_uri": "https://localhost:8080/",
          "height": 380
        },
        "id": "II0aXV149SLp",
        "outputId": "9dc01847-bf17-4c1f-93db-20da896126fb"
      },
      "execution_count": 302,
      "outputs": [
        {
          "output_type": "execute_result",
          "data": {
            "text/plain": [
              "<seaborn.axisgrid.FacetGrid at 0x7f8f81542c10>"
            ]
          },
          "metadata": {},
          "execution_count": 302
        },
        {
          "output_type": "display_data",
          "data": {
            "text/plain": [
              "<Figure size 360x360 with 1 Axes>"
            ],
            "image/png": "[encoded data removed]"
          },
          "metadata": {}
        }
      ]
    },
    {
      "cell_type": "code",
      "source": [
        "df['num_words_in_review']=df['review'].str.split().map(lambda x: len(x))\n",
        "sns.displot(df, x='num_words_in_review')\n"
      ],
      "metadata": {
        "colab": {
          "base_uri": "https://localhost:8080/",
          "height": 380
        },
        "id": "Iac-znLP8Wuu",
        "outputId": "7265c616-e5cd-4301-cec0-51d5d2dda0b0"
      },
      "execution_count": 303,
      "outputs": [
        {
          "output_type": "execute_result",
          "data": {
            "text/plain": [
              "<seaborn.axisgrid.FacetGrid at 0x7f8f814c8850>"
            ]
          },
          "metadata": {},
          "execution_count": 303
        },
        {
          "output_type": "display_data",
          "data": {
            "text/plain": [
              "<Figure size 360x360 with 1 Axes>"
            ],
            "image/png": "[encoded data removed]"
          },
          "metadata": {}
        }
      ]
    },
    {
      "cell_type": "code",
      "source": [
        "import seaborn as sns\n",
        "word=df['review'].str.split().apply(lambda x : [len(i) for i in x])\n",
        "sns.distplot(word.map(lambda x: np.mean(x)),color='blue')"
      ],
      "metadata": {
        "colab": {
          "base_uri": "https://localhost:8080/",
          "height": 613
        },
        "id": "e9SWgNkP-PbC",
        "outputId": "fcdf32a6-78c3-4341-ee17-b92be54dac96"
      },
      "execution_count": 304,
      "outputs": [
        {
          "output_type": "execute_result",
          "data": {
            "text/plain": [
              "<matplotlib.axes._subplots.AxesSubplot at 0x7f8f814b2c50>"
            ]
          },
          "metadata": {},
          "execution_count": 304
        },
        {
          "output_type": "display_data",
          "data": {
            "text/plain": [
              "<Figure size 1080x648 with 1 Axes>"
            ],
            "image/png": "[encoded data removed]"
          },
          "metadata": {}
        }
      ]
    },
    {
      "cell_type": "code",
      "source": [
        ""
      ],
      "metadata": {
        "id": "WG-IdVMf20EI"
      },
      "execution_count": 304,
      "outputs": []
    }
  ]
}